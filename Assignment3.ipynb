{
  "nbformat": 4,
  "nbformat_minor": 0,
  "metadata": {
    "colab": {
      "provenance": [],
      "authorship_tag": "ABX9TyMLIOxrnjC40zSWY9l06Uo5",
      "include_colab_link": true
    },
    "kernelspec": {
      "name": "python3",
      "display_name": "Python 3"
    },
    "language_info": {
      "name": "python"
    }
  },
  "cells": [
    {
      "cell_type": "markdown",
      "metadata": {
        "id": "view-in-github",
        "colab_type": "text"
      },
      "source": [
        "<a href=\"https://colab.research.google.com/github/alizadangi02/Python/blob/main/Assignment3.ipynb\" target=\"_parent\"><img src=\"https://colab.research.google.com/assets/colab-badge.svg\" alt=\"Open In Colab\"/></a>"
      ]
    },
    {
      "cell_type": "markdown",
      "source": [
        "**1. Lists – Fundamental Operations**\n",
        "\n",
        "\n",
        "Write a Python program to:\n",
        "\n",
        "● Create a list of 5 favorite fruits.\n",
        "\n",
        "● Add one new fruit at the end using .append().\n",
        "\n",
        "● Insert a fruit at index 2 using .insert().\n",
        "\n",
        "● Remove one fruit using .remove().\n",
        "\n",
        "● Display the updated list."
      ],
      "metadata": {
        "id": "UsLYOLeDknWO"
      }
    },
    {
      "cell_type": "code",
      "execution_count": 7,
      "metadata": {
        "colab": {
          "base_uri": "https://localhost:8080/"
        },
        "id": "yuv_YDPtjGHN",
        "outputId": "eb7bff8c-6294-4432-a684-753c96449ff5"
      },
      "outputs": [
        {
          "output_type": "stream",
          "name": "stdout",
          "text": [
            "Fruits:  ['apple', 'dragonfruit', 'strawberry', 'avocado', 'kiwi', 'banana']\n"
          ]
        }
      ],
      "source": [
        "fruits = ['apple', 'mango', 'strawberry', 'avocado', 'kiwi']\n",
        "\n",
        "fruits.append('banana')\n",
        "fruits.insert(2, 'dragonfruit')\n",
        "fruits.remove('mango')\n",
        "\n",
        "print(\"Fruits: \", fruits)"
      ]
    },
    {
      "cell_type": "markdown",
      "source": [
        "**Lists – Indexing & Slicing**\n",
        "\n",
        "Given a list: numbers = [10, 20, 30, 40, 50, 60]\n",
        "\n",
        "● Print the first element using positive indexing.\n",
        "\n",
        "● Print the last element using negative indexing.\n",
        "\n",
        "● Print the elements from index 2 to 4 using slicing.\n",
        "\n",
        "● Print the last 3 elements using slicing.\n"
      ],
      "metadata": {
        "id": "-6rOd8fUmTYi"
      }
    },
    {
      "cell_type": "code",
      "source": [
        "num = [10, 20, 30, 40, 50, 60]\n",
        "\n",
        "print(\"First element:\", num[0])\n",
        "print(\"First element:\", num[-1])\n",
        "\n",
        "print(\"Elements from index 2 to 4:\", num[2:5])\n",
        "print(\"Last three elements:\", num[-3:])"
      ],
      "metadata": {
        "colab": {
          "base_uri": "https://localhost:8080/"
        },
        "id": "ffHKj0C3mbPw",
        "outputId": "f80b00cf-5f91-418d-bca7-f5e4e37e938d"
      },
      "execution_count": 14,
      "outputs": [
        {
          "output_type": "stream",
          "name": "stdout",
          "text": [
            "First element: 10\n",
            "First element: 60\n",
            "Elements from index 2 to 4: [30, 40, 50]\n",
            "Last three elements: [40, 50, 60]\n"
          ]
        }
      ]
    },
    {
      "cell_type": "markdown",
      "source": [
        "**Lists – Looping & Conditions**\n",
        "\n",
        "Write a program that:\n",
        "\n",
        "● Asks the user to input 5 integers.\n",
        "\n",
        "● Stores them in a list.\n",
        "\n",
        "● Prints only the even numbers from the list using a loop and an if condition.\n"
      ],
      "metadata": {
        "id": "xjVki1runh2h"
      }
    },
    {
      "cell_type": "code",
      "source": [
        "numbers = []\n",
        "for i in range(1, 6):\n",
        "    num = int(input(f\"Enter number {i}: \"))\n",
        "    numbers.append(num)\n",
        "\n",
        "print(\"\\nList:\", numbers)\n",
        "\n",
        "print(\"\\nEven numbers:\")\n",
        "for num in numbers:\n",
        "    if num % 2 == 0:\n",
        "        print(num)\n"
      ],
      "metadata": {
        "colab": {
          "base_uri": "https://localhost:8080/"
        },
        "id": "BmkNzpH9npSU",
        "outputId": "c9f6d5c2-e72f-4290-ad52-2db493034e35"
      },
      "execution_count": 24,
      "outputs": [
        {
          "output_type": "stream",
          "name": "stdout",
          "text": [
            "Enter number 1: 1\n",
            "Enter number 2: 3\n",
            "Enter number 3: 45\n",
            "Enter number 4: 56\n",
            "Enter number 5: 66\n",
            "\n",
            "List: [1, 3, 45, 56, 66]\n",
            "\n",
            "Even numbers:\n",
            "56\n",
            "66\n"
          ]
        }
      ]
    },
    {
      "cell_type": "markdown",
      "source": [
        "**List Methods & Sorting**\n",
        "\n",
        "Write a Python program that:\n",
        "\n",
        "● Creates a list of random numbers.\n",
        "\n",
        "● Sorts it in ascending order using .sort().\n",
        "\n",
        "● Sorts it in descending order using .sort(reverse=True).\n"
      ],
      "metadata": {
        "id": "mUvfR5NZrnK0"
      }
    },
    {
      "cell_type": "code",
      "source": [
        "import random\n",
        "\n",
        "numbers = [random.randint(1, 100) for numbers in range(6)]\n",
        "print(\"Original list:\", numbers)\n",
        "\n",
        "numbers.sort()\n",
        "print(\"\\nSorted in ascending order:\", numbers)\n",
        "\n",
        "numbers.sort(reverse=True)\n",
        "print(\"\\nSorted in descending order:\", numbers)\n"
      ],
      "metadata": {
        "colab": {
          "base_uri": "https://localhost:8080/"
        },
        "id": "wFVG5dbSrs_y",
        "outputId": "99d0675c-f0f1-41b7-baa9-116e4633c0e8"
      },
      "execution_count": 27,
      "outputs": [
        {
          "output_type": "stream",
          "name": "stdout",
          "text": [
            "Original list: [75, 26, 27, 90, 30, 24]\n",
            "\n",
            "Sorted in ascending order: [24, 26, 27, 30, 75, 90]\n",
            "\n",
            "Sorted in descending order: [90, 75, 30, 27, 26, 24]\n"
          ]
        }
      ]
    },
    {
      "cell_type": "markdown",
      "source": [
        "5. **List Comprehension with Conditions**\n",
        "\n",
        "Write a Python one-liner list comprehension that:\n",
        "\n",
        "● Creates a new list containing squares of even numbers from the list [1, 2, 3,\n",
        "4, 5, 6, 7, 8, 9, 10].\n",
        "\n",
        "\n"
      ],
      "metadata": {
        "id": "nBWiCtarsaUQ"
      }
    },
    {
      "cell_type": "code",
      "source": [
        "squares_of_even = [x**2 for x in [1,2,3,4,5,6,7,8,9,10] if x % 2 == 0]\n",
        "print(squares_of_even)"
      ],
      "metadata": {
        "colab": {
          "base_uri": "https://localhost:8080/"
        },
        "id": "-B4B5MELsbLD",
        "outputId": "07f3cfc8-ee9b-4eb2-9386-89df2d1126da"
      },
      "execution_count": 28,
      "outputs": [
        {
          "output_type": "stream",
          "name": "stdout",
          "text": [
            "[4, 16, 36, 64, 100]\n"
          ]
        }
      ]
    },
    {
      "cell_type": "markdown",
      "source": [
        "**Tuples – Operations & Comparison with Lists**\n",
        "\n",
        "● Create a tuple of 5 colors.\n",
        "\n",
        "● Try adding one new color to the tuple. What happens? (Explain why.)\n",
        "\n",
        "● Convert the tuple to a list, add a new color, and convert it back to a tuple"
      ],
      "metadata": {
        "id": "snCXWdQFuvQ8"
      }
    },
    {
      "cell_type": "code",
      "source": [
        "colors = (\"Red\", \"Green\", \"Blue\", \"Yellow\", \"Orange\")\n",
        "print(\"Original tuple:\", colors)\n",
        "\n",
        "# colors.append(\"Purple\")   #shows error as tuple is immutable.\n",
        "\n",
        "colors_list = list(colors)\n",
        "\n",
        "colors_list.append(\"Purple\")\n",
        "print(\"\\nList after adding a color:\", colors_list)\n",
        "\n",
        "colors = tuple(colors_list)\n",
        "print(\"New tuple:\", colors)\n"
      ],
      "metadata": {
        "colab": {
          "base_uri": "https://localhost:8080/",
          "height": 228
        },
        "id": "JOXeSr5Xuuos",
        "outputId": "7b3eaebc-2243-4d1f-9f0c-71250cdf1c1b"
      },
      "execution_count": 33,
      "outputs": [
        {
          "output_type": "stream",
          "name": "stdout",
          "text": [
            "Original tuple: ('Red', 'Green', 'Blue', 'Yellow', 'Orange')\n"
          ]
        },
        {
          "output_type": "error",
          "ename": "TypeError",
          "evalue": "'list' object is not callable",
          "traceback": [
            "\u001b[0;31m---------------------------------------------------------------------------\u001b[0m",
            "\u001b[0;31mTypeError\u001b[0m                                 Traceback (most recent call last)",
            "\u001b[0;32m/tmp/ipython-input-2683493560.py\u001b[0m in \u001b[0;36m<cell line: 0>\u001b[0;34m()\u001b[0m\n\u001b[1;32m      4\u001b[0m \u001b[0;31m# colors.append(\"Purple\")   #shows error as tuple is immutable.\u001b[0m\u001b[0;34m\u001b[0m\u001b[0;34m\u001b[0m\u001b[0m\n\u001b[1;32m      5\u001b[0m \u001b[0;34m\u001b[0m\u001b[0m\n\u001b[0;32m----> 6\u001b[0;31m \u001b[0mcolors_list\u001b[0m \u001b[0;34m=\u001b[0m \u001b[0mlist\u001b[0m\u001b[0;34m(\u001b[0m\u001b[0mcolors\u001b[0m\u001b[0;34m)\u001b[0m\u001b[0;34m\u001b[0m\u001b[0;34m\u001b[0m\u001b[0m\n\u001b[0m\u001b[1;32m      7\u001b[0m \u001b[0;34m\u001b[0m\u001b[0m\n\u001b[1;32m      8\u001b[0m \u001b[0mcolors_list\u001b[0m\u001b[0;34m.\u001b[0m\u001b[0mappend\u001b[0m\u001b[0;34m(\u001b[0m\u001b[0;34m\"Purple\"\u001b[0m\u001b[0;34m)\u001b[0m\u001b[0;34m\u001b[0m\u001b[0;34m\u001b[0m\u001b[0m\n",
            "\u001b[0;31mTypeError\u001b[0m: 'list' object is not callable"
          ]
        }
      ]
    },
    {
      "cell_type": "markdown",
      "source": [
        "**7. Tuple Unpacking**\n",
        "\n",
        "Given the tuple: student = (\"John\", 20, \"Computer Science\")\n",
        "\n",
        "● Unpack the tuple into three variables: name, age, and course.\n",
        "\n",
        "● Print them in the format:\n",
        "\n",
        "Name: John, Age: 20, Course: Computer Science\n"
      ],
      "metadata": {
        "id": "_l9PaH_PxXl0"
      }
    },
    {
      "cell_type": "code",
      "source": [
        "student = (\"John\", 20, \"Computer Science\")\n",
        "\n",
        "name, age, course = student\n",
        "\n",
        "print(f\"Name: {name}, Age: {age}, Course: {course}\")\n"
      ],
      "metadata": {
        "colab": {
          "base_uri": "https://localhost:8080/"
        },
        "id": "Yu4tk1RVxild",
        "outputId": "7598435f-67b0-470d-cde2-f76d41e967a8"
      },
      "execution_count": 35,
      "outputs": [
        {
          "output_type": "stream",
          "name": "stdout",
          "text": [
            "Name: John, Age: 20, Course: Computer Science\n"
          ]
        }
      ]
    },
    {
      "cell_type": "markdown",
      "source": [
        "8.** Sets – Operations**\n",
        "\n",
        "Given two sets: A = {1, 2, 3, 4}, B = {3, 4, 5, 6}\n",
        "\n",
        "● Find the union of A and B.\n",
        "\n",
        "● Find the intersection of A and B.\n",
        "\n",
        "● Find the difference A - B and B - A.\n",
        "\n",
        "● Add 7 to set A and remove 2 from set B"
      ],
      "metadata": {
        "id": "CsJPhbm6xrZ0"
      }
    },
    {
      "cell_type": "code",
      "source": [
        "A = {1, 2, 3, 4}\n",
        "B = {3, 4, 5, 6}\n",
        "\n",
        "union_set = A | B\n",
        "print(\"Union of A and B:\", union_set)\n",
        "\n",
        "intersection_set = A & B\n",
        "print(\"Intersection of A and B:\", intersection_set)\n",
        "\n",
        "diff_A_B = A - B\n",
        "diff_B_A = B - A\n",
        "print(\"Difference A - B:\", diff_A_B)\n",
        "print(\"Difference B - A:\", diff_B_A)\n",
        "\n",
        "A.add(7)\n",
        "print(\"Set A after adding 7:\", A)\n",
        "\n",
        "B.discard(2)\n",
        "print(\"Set B after removing 2:\", B)\n"
      ],
      "metadata": {
        "colab": {
          "base_uri": "https://localhost:8080/"
        },
        "id": "nXOUuTcYxrBU",
        "outputId": "dffd05d8-9348-4f21-e489-c00cc997ddf1"
      },
      "execution_count": 36,
      "outputs": [
        {
          "output_type": "stream",
          "name": "stdout",
          "text": [
            "Union of A and B: {1, 2, 3, 4, 5, 6}\n",
            "Intersection of A and B: {3, 4}\n",
            "Difference A - B: {1, 2}\n",
            "Difference B - A: {5, 6}\n",
            "Set A after adding 7: {1, 2, 3, 4, 7}\n",
            "Set B after removing 2: {3, 4, 5, 6}\n"
          ]
        }
      ]
    },
    {
      "cell_type": "markdown",
      "source": [
        "**9. Dictionaries – Nested & Comprehension**\n",
        "\n",
        "Create a nested dictionary of 3 students, where each student has:\n",
        "\n",
        "● name\n",
        "\n",
        "● age\n",
        "\n",
        "● grade\n",
        "\n",
        "Example:\n",
        "\n",
        "students = {\n",
        "\n",
        " 1: {\"name\": \"Alice\", \"age\": 20, \"grade\": \"A\"},\n",
        "\n",
        " ...\n",
        "\n",
        "}\n",
        "\n",
        "Print the names of students whose grade is \"A\" using a dictionary comprehension."
      ],
      "metadata": {
        "id": "2ZcmFapLyAh8"
      }
    },
    {
      "cell_type": "code",
      "source": [
        "students = {\n",
        "    1: {\"name\": \"pranisha\", \"age\": 20, \"grade\": \"A\"},\n",
        "    2: {\"name\": \"manvika\", \"age\": 19, \"grade\": \"A\"},\n",
        "    3: {\"name\": \"aliza\", \"age\": 21, \"grade\": \"B\"}\n",
        "}\n",
        "\n",
        "grade_A_students = {k: v for k, v in students.items() if v[\"grade\"] == \"A\"}\n",
        "print([v[\"name\"] for v in grade_A_students.values()])\n"
      ],
      "metadata": {
        "colab": {
          "base_uri": "https://localhost:8080/"
        },
        "id": "toY4_93YyAWM",
        "outputId": "e7f79bb7-637c-4848-bcd2-b7a1b1c55c46"
      },
      "execution_count": 39,
      "outputs": [
        {
          "output_type": "stream",
          "name": "stdout",
          "text": [
            "['pranisha', 'manvika']\n"
          ]
        }
      ]
    }
  ]
}