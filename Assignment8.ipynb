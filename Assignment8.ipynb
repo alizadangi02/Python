{
  "nbformat": 4,
  "nbformat_minor": 0,
  "metadata": {
    "colab": {
      "provenance": [],
      "authorship_tag": "ABX9TyPNsv/j4aXcNTCqSD1el/F8",
      "include_colab_link": true
    },
    "kernelspec": {
      "name": "python3",
      "display_name": "Python 3"
    },
    "language_info": {
      "name": "python"
    }
  },
  "cells": [
    {
      "cell_type": "markdown",
      "metadata": {
        "id": "view-in-github",
        "colab_type": "text"
      },
      "source": [
        "<a href=\"https://colab.research.google.com/github/alizadangi02/Python/blob/main/Assignment8.ipynb\" target=\"_parent\"><img src=\"https://colab.research.google.com/assets/colab-badge.svg\" alt=\"Open In Colab\"/></a>"
      ]
    },
    {
      "cell_type": "markdown",
      "source": [
        "##**In-Depth Topics**"
      ],
      "metadata": {
        "id": "UZ1-b2vHI7Px"
      }
    },
    {
      "cell_type": "markdown",
      "source": [
        "1. Write a lambda function to check whether a given number is even or odd. Use it to filter all even numbers from a list [1, 2, 3, 4, 5, 6, 7, 8, 9, 10]."
      ],
      "metadata": {
        "id": "9ixBHba5I7Ci"
      }
    },
    {
      "cell_type": "code",
      "execution_count": null,
      "metadata": {
        "colab": {
          "base_uri": "https://localhost:8080/"
        },
        "id": "BxcN-hcoIoGs",
        "outputId": "faa1d334-41cd-4cdd-e376-0522f82eb2c5"
      },
      "outputs": [
        {
          "output_type": "stream",
          "name": "stdout",
          "text": [
            "Even numbers: [2, 4, 6, 8, 10]\n"
          ]
        }
      ],
      "source": [
        "numbers = [1, 2, 3, 4, 5, 6, 7, 8, 9, 10]\n",
        "\n",
        "is_even = lambda x: x % 2 == 0\n",
        "\n",
        "even_numbers = list(filter(is_even, numbers))\n",
        "\n",
        "print(\"Even numbers:\", even_numbers)\n"
      ]
    },
    {
      "cell_type": "markdown",
      "source": [
        "2. You are given a list of tuples: [(\"apple\", 3), (\"banana\", 1), (\"cherry\", 5)]. Use a lambda function to sort this list based on the second element of each tuple."
      ],
      "metadata": {
        "id": "H2DZtvBoJD6B"
      }
    },
    {
      "cell_type": "code",
      "source": [
        "fruits = [(\"apple\", 3), (\"banana\", 1), (\"cherry\", 5)]\n",
        "\n",
        "sorted_fruits = sorted(fruits, key=lambda x: x[1])\n",
        "\n",
        "print(sorted_fruits)\n"
      ],
      "metadata": {
        "colab": {
          "base_uri": "https://localhost:8080/"
        },
        "id": "FPMAUp9iJG3R",
        "outputId": "7d1e7bfb-fe61-4771-c4ec-d47231c3a601"
      },
      "execution_count": null,
      "outputs": [
        {
          "output_type": "stream",
          "name": "stdout",
          "text": [
            "[('banana', 1), ('apple', 3), ('cherry', 5)]\n"
          ]
        }
      ]
    },
    {
      "cell_type": "markdown",
      "source": [
        "3. Write a generator function that yields the first n Fibonacci numbers. Test it for n = 10."
      ],
      "metadata": {
        "id": "AUQ1xFk0JPj4"
      }
    },
    {
      "cell_type": "code",
      "source": [
        "def fibonacci(n):\n",
        "    a, b = 0, 1\n",
        "    for _ in range(n):\n",
        "        yield a\n",
        "        a, b = b, a + b\n",
        "\n",
        "for num in fibonacci(10):\n",
        "    print(num, end=\" \")\n"
      ],
      "metadata": {
        "colab": {
          "base_uri": "https://localhost:8080/"
        },
        "id": "v4VxA5WnJT_I",
        "outputId": "9b7cebef-7e65-48b4-ca39-0d2ca5011a2e"
      },
      "execution_count": null,
      "outputs": [
        {
          "output_type": "stream",
          "name": "stdout",
          "text": [
            "0 1 1 2 3 5 8 13 21 34 "
          ]
        }
      ]
    },
    {
      "cell_type": "markdown",
      "source": [
        "4. Create a custom iterator class SquareIterator that generates the squares of numbers from 1 up to a given number n. Demonstrate its usage with a for loop."
      ],
      "metadata": {
        "id": "Pdn_0JyXJcR5"
      }
    },
    {
      "cell_type": "code",
      "source": [
        "class SquareIterator:\n",
        "    def __init__(self, n):\n",
        "        self.n = n\n",
        "        self.current = 1\n",
        "\n",
        "    def __iter__(self):\n",
        "        return self\n",
        "\n",
        "    def __next__(self):\n",
        "        if self.current > self.n:\n",
        "            raise StopIteration\n",
        "        result = self.current ** 2\n",
        "        self.current += 1\n",
        "        return result\n",
        "\n",
        "for square in SquareIterator(5):\n",
        "    print(square)\n"
      ],
      "metadata": {
        "colab": {
          "base_uri": "https://localhost:8080/"
        },
        "id": "gNIs_sEJJglB",
        "outputId": "f31438a7-bb8d-4a87-a62b-7948a3202bf9"
      },
      "execution_count": null,
      "outputs": [
        {
          "output_type": "stream",
          "name": "stdout",
          "text": [
            "1\n",
            "4\n",
            "9\n",
            "16\n",
            "25\n"
          ]
        }
      ]
    },
    {
      "cell_type": "markdown",
      "source": [
        "5. Generate a list of all multiples of 13 between 1 and 100 using list comprehension."
      ],
      "metadata": {
        "id": "0T1GwkbrJoxQ"
      }
    },
    {
      "cell_type": "code",
      "source": [
        "multiples_of_13 = [x for x in range(1, 101) if x % 13 == 0]\n",
        "print(multiples_of_13)\n"
      ],
      "metadata": {
        "colab": {
          "base_uri": "https://localhost:8080/"
        },
        "id": "RgsG6_jOJtkI",
        "outputId": "0f363787-bd65-4cbc-bf4e-9cdd4f7c52cf"
      },
      "execution_count": null,
      "outputs": [
        {
          "output_type": "stream",
          "name": "stdout",
          "text": [
            "[13, 26, 39, 52, 65, 78, 91]\n"
          ]
        }
      ]
    },
    {
      "cell_type": "markdown",
      "source": [
        "6. Given a list of numbers [1, 2, 3, 4, 5], use dictionary comprehension to create a dictionary where the keys are the numbers and the values are their cubes."
      ],
      "metadata": {
        "id": "tkd6nhkuJv0J"
      }
    },
    {
      "cell_type": "code",
      "source": [
        "numbers = [1, 2, 3, 4, 5]\n",
        "\n",
        "cubes_dict = {x: x**3 for x in numbers}\n",
        "\n",
        "print(cubes_dict)\n"
      ],
      "metadata": {
        "colab": {
          "base_uri": "https://localhost:8080/"
        },
        "id": "Ri5-zSfmJyXg",
        "outputId": "d6699801-93f5-4e52-986b-e02e4483f8cb"
      },
      "execution_count": null,
      "outputs": [
        {
          "output_type": "stream",
          "name": "stdout",
          "text": [
            "{1: 1, 2: 8, 3: 27, 4: 64, 5: 125}\n"
          ]
        }
      ]
    },
    {
      "cell_type": "markdown",
      "source": [
        "7. Write a function student_info that accepts any number of positional arguments for subjects and keyword arguments for marks. Example:\n",
        "\n",
        " student_info(\"Math\", \"Science\", \"English\", Math=85, Science=90, English=78)\n",
        "The function should print subjects and their corresponding marks."
      ],
      "metadata": {
        "id": "yNcZE4wjJ1cQ"
      }
    },
    {
      "cell_type": "code",
      "source": [
        "def student_info(*subjects, **marks):\n",
        "    for subject in subjects:\n",
        "        if subject in marks:\n",
        "            print(f\"{subject}: {marks[subject]}\")\n",
        "        else:\n",
        "            print(f\"{subject}: No mark provided\")\n",
        "\n",
        "student_info(\"Math\", \"Science\", \"English\", Math=85, Science=90, English=78)\n"
      ],
      "metadata": {
        "colab": {
          "base_uri": "https://localhost:8080/"
        },
        "id": "4hPF0XMCJ_NA",
        "outputId": "0e002514-e44e-4d19-93ce-c8c4e6437d4a"
      },
      "execution_count": null,
      "outputs": [
        {
          "output_type": "stream",
          "name": "stdout",
          "text": [
            "Math: 85\n",
            "Science: 90\n",
            "English: 78\n"
          ]
        }
      ]
    },
    {
      "cell_type": "markdown",
      "source": [
        "8. Use functools.reduce to calculate the product of all elements in the list [2, 3, 4, 5]."
      ],
      "metadata": {
        "id": "Nld_IX5bKCbw"
      }
    },
    {
      "cell_type": "code",
      "source": [
        "from functools import reduce\n",
        "\n",
        "numbers = [2, 3, 4, 5]\n",
        "\n",
        "product = reduce(lambda x, y: x * y, numbers)\n",
        "\n",
        "print(\"Product:\", product)\n"
      ],
      "metadata": {
        "id": "sc6_SapcKG8w",
        "outputId": "21490a86-4f3b-4ec5-e6d9-982854e6ec6c",
        "colab": {
          "base_uri": "https://localhost:8080/"
        }
      },
      "execution_count": null,
      "outputs": [
        {
          "output_type": "stream",
          "name": "stdout",
          "text": [
            "Product: 120\n"
          ]
        }
      ]
    }
  ]
}