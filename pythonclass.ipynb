{
  "nbformat": 4,
  "nbformat_minor": 0,
  "metadata": {
    "colab": {
      "provenance": [],
      "authorship_tag": "ABX9TyNf/FvCdFuee6BNG6PRRBT4",
      "include_colab_link": true
    },
    "kernelspec": {
      "name": "python3",
      "display_name": "Python 3"
    },
    "language_info": {
      "name": "python"
    }
  },
  "cells": [
    {
      "cell_type": "markdown",
      "metadata": {
        "id": "view-in-github",
        "colab_type": "text"
      },
      "source": [
        "<a href=\"https://colab.research.google.com/github/alizadangi02/Python/blob/main/pythonclass.ipynb\" target=\"_parent\"><img src=\"https://colab.research.google.com/assets/colab-badge.svg\" alt=\"Open In Colab\"/></a>"
      ]
    },
    {
      "cell_type": "markdown",
      "source": [
        "##Basics"
      ],
      "metadata": {
        "id": "Ao7LFNbXMe9O"
      }
    },
    {
      "cell_type": "code",
      "execution_count": null,
      "metadata": {
        "colab": {
          "base_uri": "https://localhost:8080/"
        },
        "id": "0DCEnBYXKkxF",
        "outputId": "ab32764d-0820-424c-f170-4eb52b12e762"
      },
      "outputs": [
        {
          "output_type": "stream",
          "name": "stdout",
          "text": [
            "Hello, world!\n"
          ]
        }
      ],
      "source": [
        "print('Hello, world!')\n"
      ]
    },
    {
      "cell_type": "code",
      "source": [
        "def add(a,b):\n",
        "  sum=a+b\n",
        "  return sum\n",
        "\n",
        "print(add(1,2))"
      ],
      "metadata": {
        "colab": {
          "base_uri": "https://localhost:8080/"
        },
        "id": "bkSALHqLLbOq",
        "outputId": "ba8dfe60-823b-42c5-9735-d9b7386b5652"
      },
      "execution_count": null,
      "outputs": [
        {
          "output_type": "stream",
          "name": "stdout",
          "text": [
            "3\n"
          ]
        }
      ]
    },
    {
      "cell_type": "code",
      "source": [
        "my_name_gh = 20 #snake case\n",
        "myNameVar = 30 #camel case\n",
        "MyNameVar = 40 #capital case"
      ],
      "metadata": {
        "id": "_fa28ypzNgqn"
      },
      "execution_count": null,
      "outputs": []
    },
    {
      "cell_type": "markdown",
      "source": [
        "##Variables"
      ],
      "metadata": {
        "id": "89t1UbiiUHKM"
      }
    },
    {
      "cell_type": "code",
      "source": [
        "sentence = \"We are studying in lab 16\"\n",
        "sentence\n",
        "\n",
        "age = 18\n",
        "age\n",
        "\n",
        "height = 157.5\n",
        "height\n",
        "\n",
        "student_status = True\n",
        "student_status\n",
        "\n",
        "my_list_fruits = ['apple', 'mango', 'banana', 78, 0.55, True]\n",
        "my_list_fruits\n",
        "\n",
        "my_dict = {\n",
        "    \"name\": \"lab-16\",\n",
        "    \"hours\": 1.5,\n",
        "    \"class\": \"python\"\n",
        "}\n",
        "my_dict\n",
        "my_dict['class']"
      ],
      "metadata": {
        "colab": {
          "base_uri": "https://localhost:8080/",
          "height": 36
        },
        "id": "pSiGI9ekOlkd",
        "outputId": "5aa18040-f2b0-4892-d823-3ad99f54d66a"
      },
      "execution_count": null,
      "outputs": [
        {
          "output_type": "execute_result",
          "data": {
            "text/plain": [
              "'python'"
            ],
            "application/vnd.google.colaboratory.intrinsic+json": {
              "type": "string"
            }
          },
          "metadata": {},
          "execution_count": 14
        }
      ]
    },
    {
      "cell_type": "code",
      "source": [
        "sentence = 'this is a python programming class'\n",
        "age = 76\n",
        "population = 2033957\n",
        "type(population)"
      ],
      "metadata": {
        "colab": {
          "base_uri": "https://localhost:8080/"
        },
        "id": "yhNfmSYfVgFz",
        "outputId": "91e015ca-4e62-4bb8-cbbf-43cef633f3cf"
      },
      "execution_count": null,
      "outputs": [
        {
          "output_type": "execute_result",
          "data": {
            "text/plain": [
              "int"
            ]
          },
          "metadata": {},
          "execution_count": 15
        }
      ]
    },
    {
      "cell_type": "code",
      "source": [
        "a = \"\"\"this is a multiline string\"\"\"\n",
        "a"
      ],
      "metadata": {
        "colab": {
          "base_uri": "https://localhost:8080/",
          "height": 36
        },
        "id": "0nF7z8xLWnK2",
        "outputId": "623091be-9c7c-485c-bb89-40606c633d90"
      },
      "execution_count": null,
      "outputs": [
        {
          "output_type": "execute_result",
          "data": {
            "text/plain": [
              "'this is a multiline string'"
            ],
            "application/vnd.google.colaboratory.intrinsic+json": {
              "type": "string"
            }
          },
          "metadata": {},
          "execution_count": 16
        }
      ]
    },
    {
      "cell_type": "code",
      "source": [
        "numbers = [10, 24, 44, 55]\n",
        "type(numbers)"
      ],
      "metadata": {
        "colab": {
          "base_uri": "https://localhost:8080/"
        },
        "id": "h-IEJ2W5YVq7",
        "outputId": "3b5218e1-b842-49cb-f511-6bdcaea1b435"
      },
      "execution_count": null,
      "outputs": [
        {
          "output_type": "execute_result",
          "data": {
            "text/plain": [
              "list"
            ]
          },
          "metadata": {},
          "execution_count": 17
        }
      ]
    },
    {
      "cell_type": "code",
      "source": [
        "a = ' hello world'\n",
        "print(len(a))"
      ],
      "metadata": {
        "colab": {
          "base_uri": "https://localhost:8080/"
        },
        "id": "LgvuxdMjYpts",
        "outputId": "2703762b-94ca-4971-ece9-24dce14f45de"
      },
      "execution_count": null,
      "outputs": [
        {
          "output_type": "stream",
          "name": "stdout",
          "text": [
            "12\n"
          ]
        }
      ]
    },
    {
      "cell_type": "code",
      "source": [
        "for x in 'aliza':\n",
        "  print(x)"
      ],
      "metadata": {
        "colab": {
          "base_uri": "https://localhost:8080/"
        },
        "id": "AkbBJ4yOY7KZ",
        "outputId": "06f43159-6a60-4053-864c-20e5b059ef53"
      },
      "execution_count": null,
      "outputs": [
        {
          "output_type": "stream",
          "name": "stdout",
          "text": [
            "a\n",
            "l\n",
            "i\n",
            "z\n",
            "a\n"
          ]
        }
      ]
    },
    {
      "cell_type": "code",
      "source": [
        "student = {\n",
        "    \"name\" : \"Yellow\",\n",
        "    \"age\" : 30,\n",
        "    \"address\" : \"tinkune\",\n",
        "    \"scores\":{\n",
        "        'maths': 40,\n",
        "        'english': 50\n",
        "    },\n",
        "    'hobbies':['watching movies', 'swimming']\n",
        "}\n",
        "#print(student)\n",
        "student[\"hobbies\"]"
      ],
      "metadata": {
        "colab": {
          "base_uri": "https://localhost:8080/"
        },
        "id": "GSDL7KMpZoH2",
        "outputId": "c80d698a-77fa-42a3-f6ec-a2b80f228e8d"
      },
      "execution_count": null,
      "outputs": [
        {
          "output_type": "execute_result",
          "data": {
            "text/plain": [
              "['watching movies', 'swimming']"
            ]
          },
          "metadata": {},
          "execution_count": 20
        }
      ]
    },
    {
      "cell_type": "markdown",
      "source": [
        "##I/O functions"
      ],
      "metadata": {
        "id": "fPkPCrl1cFWz"
      }
    },
    {
      "cell_type": "code",
      "source": [
        "a = input(\"Enter a name: \")\n",
        "print(\"Your name is\",a)\n",
        "\n",
        "b = int(input(\"Enter your age: \"))\n",
        "print(\"Your age is\", b)"
      ],
      "metadata": {
        "colab": {
          "base_uri": "https://localhost:8080/"
        },
        "id": "cwdhh2iVby14",
        "outputId": "44a50446-6dbf-4ee0-81ce-75a2987b040e"
      },
      "execution_count": null,
      "outputs": [
        {
          "output_type": "stream",
          "name": "stdout",
          "text": [
            "Enter a name: aliza\n",
            "Your name is aliza\n",
            "Enter your age: 21\n",
            "Your age is 21\n"
          ]
        }
      ]
    },
    {
      "cell_type": "markdown",
      "source": [
        "![image.png](data:image/png;base64,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)"
      ],
      "metadata": {
        "id": "6Lgf3H0p0NaP"
      }
    },
    {
      "cell_type": "markdown",
      "source": [
        "![image.png](data:image/png;base64,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)\n",
        "\n",
        "\n",
        "![image.png](data:image/png;base64,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)"
      ],
      "metadata": {
        "id": "nUsIw5Th0Ybw"
      }
    },
    {
      "cell_type": "code",
      "source": [
        "age = input(\"Age: \")\n",
        "if age.isdigit():\n",
        "  age = int(age)\n",
        "  print(\"Your age is:\", age)\n",
        "else:\n",
        "  print(\"You have entered an invalid age.\")"
      ],
      "metadata": {
        "id": "fpK70Ocu2_hu"
      },
      "execution_count": null,
      "outputs": []
    },
    {
      "cell_type": "markdown",
      "source": [
        "**CHAPTER - 3**\n",
        "\n",
        "Control Structures"
      ],
      "metadata": {
        "id": "RXMxxZ8k6XOq"
      }
    },
    {
      "cell_type": "code",
      "source": [
        "#if-else conditions\n",
        "animal = input(\"Enter an animal: \")\n",
        "\n",
        "if animal.startswith('d') or animal.startswith('c'):\n",
        " print(\"{}: meow\".format(animal)) #.format- acts as a placeholder for variables\n",
        "\n",
        "# if animal == \"dragon\":\n",
        "#   print(\"Dragon: roar\")\n",
        "# elif animal == \"duck\":\n",
        "#   print(\"Duck: quack quack\")\n",
        "# elif animal == \"cat\":\n",
        "#   print(\"Cat: meow\")\n",
        "else:\n",
        "  print(\"Animal not found.\")\n"
      ],
      "metadata": {
        "id": "EcP4EpSg6bM9"
      },
      "execution_count": null,
      "outputs": []
    },
    {
      "cell_type": "code",
      "source": [
        "# while loop\n",
        "# while <condition>:\n",
        "#   <do something>\n",
        "\n",
        "n = int(input(\"Enter a number: \"))\n",
        "i = 1\n",
        "while i <= 10:\n",
        "  product = n * i\n",
        "  print(f\"{n} * {i} = {product}\")\n",
        "  # print(product)\n",
        "  i += 1"
      ],
      "metadata": {
        "id": "wzwK-aDeBn8s"
      },
      "execution_count": null,
      "outputs": []
    },
    {
      "cell_type": "code",
      "source": [
        "while True:\n",
        " animal = input(\"Enter an animal: \")\n",
        "\n",
        " if animal == \"dragon\":\n",
        "  print(\"You typed correct animal. RAWRRR\")\n",
        "  break\n",
        " else:\n",
        "  print(\"wrong animal.\")"
      ],
      "metadata": {
        "id": "H7oX79Y9DHCe"
      },
      "execution_count": null,
      "outputs": []
    },
    {
      "cell_type": "code",
      "source": [
        "# 90-100 Grade: A+\n",
        "# 80-100 Grade: A\n",
        "# 70-80  Grade: B\n",
        "# 60-70  Grade: C\n",
        "# 50-60  Grade: D\n",
        "# <50    Grade: F\n",
        "\n",
        "score = int(input(\"Enter your score: \"))\n",
        "\n",
        "if score >= 90 and score <= 100:\n",
        "  print(\"Grade: A+\")\n",
        "elif score >= 80 and score <= 90:\n",
        "  print(\"Grade: A\")\n",
        "elif score >= 70 and score <= 80:\n",
        "  print(\"Grade: B\")\n",
        "elif score >= 60 and score <= 70:\n",
        "  print(\"Grade: C\")\n",
        "elif score >= 50 and score <= 60:\n",
        "  print(\"Grade: D\")\n",
        "elif score <= 50:\n",
        "  print(\"Grade: F\")\n",
        "else:\n",
        "  print(\"invalid grade.\")\n",
        "\n",
        "print(\"Congratulations for your score.\")"
      ],
      "metadata": {
        "id": "XIKdXlfmDvd-"
      },
      "execution_count": null,
      "outputs": []
    },
    {
      "cell_type": "code",
      "source": [
        "# for <var> in <seq>:\n",
        "# <do something>\n",
        "\n",
        "nums = [10, 20, 30, 42, 61 ,60, 71]\n",
        "for x in nums:\n",
        "  if x % 2 == 0:\n",
        "    print(x)"
      ],
      "metadata": {
        "id": "nX5d0NLMES_d"
      },
      "execution_count": null,
      "outputs": []
    },
    {
      "cell_type": "code",
      "source": [
        "sentence = \"This is an apple tree.\"\n",
        "count = 0\n",
        "for ch in sentence:\n",
        "  if ch == \"e\":\n",
        "    count += 1\n",
        "\n",
        "print(count)"
      ],
      "metadata": {
        "id": "qikDjTqXIvwQ"
      },
      "execution_count": null,
      "outputs": []
    },
    {
      "cell_type": "code",
      "source": [
        "line = 'apple is a tree'\n",
        "# line.capitalize()\n",
        "line.endswith(\"s\")"
      ],
      "metadata": {
        "id": "zHrcYpV8L_lp"
      },
      "execution_count": null,
      "outputs": []
    },
    {
      "cell_type": "code",
      "source": [
        "for i in range(19, 7, -2):\n",
        "  print(i)"
      ],
      "metadata": {
        "id": "C_YdczoLNTfF"
      },
      "execution_count": null,
      "outputs": []
    },
    {
      "cell_type": "code",
      "source": [
        "sentence = \"This is an apple tree.\"\n",
        "count = 0\n",
        "for ch in sentence:\n",
        "  # if ch == \"a\" or ch == 'e'or ch == 'i'or ch == 'o'or ch == 'u':\n",
        "  if ch in \"aeiou\":\n",
        "    count += 1\n",
        "\n",
        "print(count)"
      ],
      "metadata": {
        "id": "pNO-nWU1JNRi"
      },
      "execution_count": null,
      "outputs": []
    },
    {
      "cell_type": "markdown",
      "source": [
        "##**Special Flow Control Statements**"
      ],
      "metadata": {
        "id": "H2yGgZKTA1Wk"
      }
    },
    {
      "cell_type": "code",
      "source": [
        "m1 = [[1, 2, 3], [4, 5, 6], [7, 8, 9]]\n",
        "m2 = [[0, 1, 0], [1, 0, 1], [-1, 0, 1]]\n",
        "m3 = []\n",
        "\n",
        "for i in range(len(m1)):\n",
        "  m4 = []\n",
        "  for j in range(len(m1[i])):\n",
        "    m4.append(m1[i][j] + m2[i][j])\n",
        "    m3.append(m4)\n",
        "\n",
        "m3"
      ],
      "metadata": {
        "id": "iTGIJUZFAt_Q"
      },
      "execution_count": null,
      "outputs": []
    },
    {
      "cell_type": "code",
      "source": [
        "sentence = input(\"Enter a sentence: \")\n",
        "ch = input(\"Enter a character: \")\n",
        "\n",
        "sentence = sentence.lower()\n",
        "ch = ch.lower()\n",
        "\n",
        "count = 0\n",
        "\n",
        "for c in sentence:\n",
        "  if c == ch:\n",
        "    count += 1\n",
        "\n",
        "\n",
        "print(f\"'{ch}' appears {count} times.\")"
      ],
      "metadata": {
        "id": "ikDs_sZQRSUz"
      },
      "execution_count": null,
      "outputs": []
    },
    {
      "cell_type": "code",
      "source": [
        "largest = None\n",
        "for i in range(1, 6):\n",
        "  num = int(input(f\"Enter number {i}: \"))\n",
        "  if largest is None or num > largest:\n",
        "    largest = num\n",
        "\n",
        "print(f\"The largest number is {largest}.\")\n"
      ],
      "metadata": {
        "id": "mwH4fIWMVNAP"
      },
      "execution_count": null,
      "outputs": []
    },
    {
      "cell_type": "code",
      "source": [
        "largest = 0\n",
        "for i in range(1, 6):\n",
        "  num = int(input(f\"Enter number {i}: \"))\n",
        "  if num > largest:\n",
        "    largest = num\n",
        "\n",
        "print(f\"The largest number is {largest}.\")"
      ],
      "metadata": {
        "id": "bZgvbrQuYk7N"
      },
      "execution_count": null,
      "outputs": []
    },
    {
      "cell_type": "code",
      "source": [
        "length = float(input(\"Enter the length: \"))\n",
        "breadth = float(input(\"Enter the breadth: \"))\n",
        "\n",
        "area = length * breadth\n",
        "perimeter = 2 * ( length + breadth)\n",
        "\n",
        "print(\"Area: {}\\n Perimeter: {}\".format(area, perimeter))\n",
        "# print(f\"Area: {area}\")\n",
        "# print(f\"Perimeter: {perimeter}\")\n"
      ],
      "metadata": {
        "id": "pZe4qP1lYksw"
      },
      "execution_count": null,
      "outputs": []
    },
    {
      "cell_type": "code",
      "source": [
        "name = input(\"Enter your name: \")\n",
        "age = int(input(\"Enter your age: \"))\n",
        "height = float(input(\"Enter your height: \"))\n",
        "salary = float(input(\"Enter your salary: \"))\n",
        "approval = bool(input(\"Are you a student? \"))\n",
        "\n",
        "if approval == 'yes':\n",
        "  approval = True\n",
        "  print(\"\\nYou are a student.\")\n",
        "  print(f\"Name: {name}\\nAge: {age}\\nHeight: {height}\\nSalary: {salary}\")\n",
        "else:\n",
        "  approval = False\n",
        "  print(\"You are not a student.\")\n"
      ],
      "metadata": {
        "id": "cNO0fdpdR_Dl"
      },
      "execution_count": null,
      "outputs": []
    },
    {
      "cell_type": "code",
      "source": [
        "approval = (input(\"Are you a student? \"))\n",
        "if approval == \"yes\":\n",
        "  name = input(\"Enter your name: \")\n",
        "  age = int(input(\"Enter your age: \"))\n",
        "  height = float(input(\"Enter your height: \"))\n",
        "  salary = float(input(\"Enter your salary: \"))\n",
        "\n",
        "  print(\"\\nYou are a student.\")\n",
        "  print(f\"Name: {name}\\nAge: {age}\\nHeight: {height}\\nSalary: {salary}\")\n",
        "\n",
        "elif approval == 'no':\n",
        "  print(\"\\nYou are not a student.\")\n",
        "\n",
        "\n"
      ],
      "metadata": {
        "id": "aWypKz_7Xs03"
      },
      "execution_count": null,
      "outputs": []
    },
    {
      "cell_type": "code",
      "source": [
        "import math\n",
        "r = float(input(\"Enter the radius: \"))\n",
        "\n",
        "perimeter = 2 * math.pi * r\n",
        "area = math.pi * r * r\n",
        "\n",
        "print(\"Perimeter of circle: {}\\nArea of circle: {}\".format(perimeter, area))"
      ],
      "metadata": {
        "id": "6mPmKv8laxH2"
      },
      "execution_count": null,
      "outputs": []
    },
    {
      "cell_type": "code",
      "source": [
        "import math\n",
        "math.pi"
      ],
      "metadata": {
        "id": "i4kDIE-2ehH1"
      },
      "execution_count": null,
      "outputs": []
    },
    {
      "cell_type": "code",
      "source": [
        "num = int(input(\"Enter a number: \"))\n",
        "mul = 1\n",
        "i = 1\n",
        "while i <= num :\n",
        "  mul = mul * i\n",
        "  i += 1\n",
        "\n",
        "print(mul)"
      ],
      "metadata": {
        "id": "f5PgFqAEeBwj"
      },
      "execution_count": null,
      "outputs": []
    },
    {
      "cell_type": "code",
      "source": [
        "num = int(input(\"Enter a number: \"))\n",
        "\n",
        "mul = 1\n",
        "for i in range(1, num + 1):\n",
        "  mul = mul * i\n",
        "  print(f\"{i}, {mul}\")\n",
        "\n",
        "print(mul)"
      ],
      "metadata": {
        "id": "nwzHI9e5hkZQ"
      },
      "execution_count": null,
      "outputs": []
    },
    {
      "cell_type": "code",
      "source": [
        "#factorial\n",
        "num = int(input(\"Enter a number: \"))\n",
        "\n",
        "mul = 1\n",
        "for i in range(num, 0, -1):\n",
        "  mul = mul * i\n",
        "  print(f\"{i}, {mul}\")\n",
        "\n",
        "print(mul)"
      ],
      "metadata": {
        "id": "SFXpRZWMi-Dl"
      },
      "execution_count": null,
      "outputs": []
    },
    {
      "cell_type": "code",
      "source": [
        "num = int(input(\"Enter a number: \"))\n",
        "sum = 0\n",
        "\n",
        "while num > 0:\n",
        "  rem = num % 10 #to print last digit\n",
        "  sum += rem\n",
        "  num = num // 10 #to print the remainder\n",
        "  print(f\"Rem: {rem}\\tSum:{sum}\\tNum:{num}\")\n",
        "\n",
        "print(sum)\n"
      ],
      "metadata": {
        "id": "3TEgZd6KZ9dY"
      },
      "execution_count": null,
      "outputs": []
    },
    {
      "cell_type": "code",
      "source": [
        "num_list = [1,2,45,56,67,-70,-8]\n",
        "sum = 0\n",
        "for num in num_list:\n",
        "  sum += num\n",
        "  print(f\"Num:{num}\\tSum:{sum}\")"
      ],
      "metadata": {
        "id": "dtvqzOELfPw0"
      },
      "execution_count": null,
      "outputs": []
    },
    {
      "cell_type": "code",
      "source": [
        "product_num = 1\n",
        "for i in range(1, 6):\n",
        "  num = int(input(f\"Enter number {i}: \"))\n",
        "  product_num *= num\n",
        "print(f\"Product:{product_num}\")"
      ],
      "metadata": {
        "id": "-Zr-v6Cwh4Qu"
      },
      "execution_count": null,
      "outputs": []
    },
    {
      "cell_type": "code",
      "source": [
        "sum = 0\n",
        "\n",
        "for i in range(1, 6):\n",
        "  num = int(input(f\"Enter number {i}: \"))\n",
        "  if num % 2 == 0:\n",
        "    sum += num\n",
        "\n",
        "  elif num % 2 == 1:\n",
        "    sum -= num\n",
        "\n",
        "print(sum)\n"
      ],
      "metadata": {
        "id": "Cae4sOWajqc4",
        "colab": {
          "base_uri": "https://localhost:8080/"
        },
        "outputId": "eb318832-53cc-47f2-9558-b0d821672fe6"
      },
      "execution_count": null,
      "outputs": [
        {
          "output_type": "stream",
          "name": "stdout",
          "text": [
            "Enter number 1: 3\n",
            "Enter number 2: 4\n",
            "Enter number 3: 6\n",
            "Enter number 4: 8\n",
            "Enter number 5: 7\n",
            "8\n"
          ]
        }
      ]
    },
    {
      "cell_type": "code",
      "source": [
        "#hailstorm series\n",
        "#if current num is odd: num = num * 3 + 1\n",
        "#if current num is even: num = num/2\n",
        "\n",
        "num = int(input(\"Enter a number: \"))\n",
        "while num > 1:\n",
        "  print(num)\n",
        "  if num % 2 == 0:\n",
        "    num = int(num / 2)\n",
        "  else:\n",
        "    num = int(num * 3 + 1 )"
      ],
      "metadata": {
        "id": "WuLEnhG_pjYb"
      },
      "execution_count": null,
      "outputs": []
    },
    {
      "cell_type": "code",
      "source": [
        "celsius = [ 10, 45, -9, 87, 102, -40, 23]\n",
        "\n",
        "for c in celsius:\n",
        "  fahrenheit = c * 1.8 + 32\n",
        "  print(f\"Celsius: {c}\\tFahrenheit: {fahrenheit}\")\n"
      ],
      "metadata": {
        "id": "Yi_FIWsflU9c"
      },
      "execution_count": null,
      "outputs": []
    },
    {
      "cell_type": "code",
      "source": [
        "positive_count = 0\n",
        "negative_count = 0\n",
        "\n",
        "for i in range(1, 7):\n",
        "  num = int(input(f\"Enter number {i}: \"))\n",
        "\n",
        "  if num > 0:\n",
        "    positive_count += 1\n",
        "\n",
        "  elif num < 0:\n",
        "   negative_count += 1\n",
        "\n",
        "print(\"Positive numbers: {}\\nNegative numbers: {}\".format(positive_count, negative_count))\n",
        "\n",
        "\n",
        "\n"
      ],
      "metadata": {
        "colab": {
          "base_uri": "https://localhost:8080/"
        },
        "id": "UC4qVSbAnMdj",
        "outputId": "8d767b3a-aed9-434a-fb58-bcb04684d549"
      },
      "execution_count": null,
      "outputs": [
        {
          "output_type": "stream",
          "name": "stdout",
          "text": [
            "Enter number 1: 3\n",
            "Enter number 2: 4\n",
            "Enter number 3: -9\n",
            "Enter number 4: -7\n",
            "Enter number 5: -9\n",
            "Enter number 6: 7\n",
            "Positive numbers:3\n",
            "Negative numbers:3\n"
          ]
        }
      ]
    },
    {
      "cell_type": "markdown",
      "source": [
        "##**Slicing**"
      ],
      "metadata": {
        "id": "m39cHpwL4eyn"
      }
    },
    {
      "cell_type": "code",
      "source": [
        "nums = [10, 20, 30, 40, 50 ,60 ,70]\n",
        "nums[5] += 86\n",
        "nums[2] = 105\n",
        "nums[3] = 2\n",
        "nums[4] = 5\n",
        "nums"
      ],
      "metadata": {
        "colab": {
          "base_uri": "https://localhost:8080/"
        },
        "id": "F0KsNeqb35LF",
        "outputId": "723467a1-ce61-4751-aaf3-a3d6fc055ad5"
      },
      "execution_count": null,
      "outputs": [
        {
          "output_type": "execute_result",
          "data": {
            "text/plain": [
              "[10, 20, 105, 2, 5, 146, 70]"
            ]
          },
          "metadata": {},
          "execution_count": 3
        }
      ]
    },
    {
      "cell_type": "code",
      "source": [
        "nums = [10, 20, 30, 40, 50 ,60 ,70]\n",
        "nums[3:7]\n",
        "\n",
        "nums[3:7:3]\n",
        "nums[1:6:4]\n",
        "\n",
        "nums[1:-3]\n",
        "nums[:5]\n",
        "nums[3:]\n",
        "nums[:]\n",
        "\n",
        "nums[::3]\n",
        "nums[4:-7]\n",
        "nums[4:4]\n",
        "\n",
        "nums[4:-7:-2]\n",
        "\n",
        "nums[::-1]"
      ],
      "metadata": {
        "colab": {
          "base_uri": "https://localhost:8080/"
        },
        "id": "waN5ipmb4yp3",
        "outputId": "696fe307-3aa7-4550-9abb-ad7040d3432a"
      },
      "execution_count": null,
      "outputs": [
        {
          "output_type": "execute_result",
          "data": {
            "text/plain": [
              "[50, 30]"
            ]
          },
          "metadata": {},
          "execution_count": 29
        }
      ]
    },
    {
      "cell_type": "code",
      "source": [
        "mystr = \"apple is red\"\n",
        "mystr[3:8:2]\n",
        "\n",
        "mystr[::-1]"
      ],
      "metadata": {
        "colab": {
          "base_uri": "https://localhost:8080/",
          "height": 36
        },
        "id": "R2W3_CWa75fq",
        "outputId": "37b49604-f762-4cc4-b47a-77389b2d7fc5"
      },
      "execution_count": null,
      "outputs": [
        {
          "output_type": "execute_result",
          "data": {
            "text/plain": [
              "'der si elppa'"
            ],
            "application/vnd.google.colaboratory.intrinsic+json": {
              "type": "string"
            }
          },
          "metadata": {},
          "execution_count": 32
        }
      ]
    },
    {
      "cell_type": "code",
      "source": [
        "word = 'civic'\n",
        "if word == word[::-1]:\n",
        "  print(\"Palindrome\")\n",
        "else:\n",
        "  print(\"Not palindrome\")"
      ],
      "metadata": {
        "colab": {
          "base_uri": "https://localhost:8080/"
        },
        "id": "9t6-YqpC8RKg",
        "outputId": "7163b422-32be-4d28-a97a-adfc8269a865"
      },
      "execution_count": null,
      "outputs": [
        {
          "output_type": "stream",
          "name": "stdout",
          "text": [
            "Palindrome\n"
          ]
        }
      ]
    },
    {
      "cell_type": "code",
      "source": [
        "fruits = [\"pineapple\", \"guava\", \"dragonfruit\"]\n",
        "# fruits.append(\"kiwi\")\n",
        "# fruits.append([\"mango\", \"orange\"])\n",
        "# fruits.insert(2, [\"watermelon\"])\n",
        "\n",
        "# val = fruits.pop(0) #removes the element\n",
        "# val\n",
        "# print(val)\n",
        "\n",
        "fruits.extend([\"apple\", \"mango\", \"banana\"])\n",
        "\n",
        "fruits.reverse()\n",
        "\n",
        "fruits.sort()\n",
        "\n",
        "fruits.sort(reverse = True)\n",
        "\n",
        "fruits"
      ],
      "metadata": {
        "colab": {
          "base_uri": "https://localhost:8080/"
        },
        "id": "Afm906TD85VN",
        "outputId": "71bcbffc-e9ca-4a3f-80de-69886ee33e24"
      },
      "execution_count": null,
      "outputs": [
        {
          "output_type": "execute_result",
          "data": {
            "text/plain": [
              "['pineapple', 'mango', 'guava', 'dragonfruit', 'banana', 'apple']"
            ]
          },
          "metadata": {},
          "execution_count": 59
        }
      ]
    },
    {
      "cell_type": "code",
      "source": [
        "my_list = []\n",
        "for i in range(1,21):\n",
        "  my_list.append(i)\n",
        "\n",
        "my_list"
      ],
      "metadata": {
        "colab": {
          "base_uri": "https://localhost:8080/"
        },
        "id": "OvMy3fDuAeK1",
        "outputId": "c301e542-eb8b-45be-9d0a-0af88e4913ef"
      },
      "execution_count": null,
      "outputs": [
        {
          "output_type": "execute_result",
          "data": {
            "text/plain": [
              "[1, 2, 3, 4, 5, 6, 7, 8, 9, 10, 11, 12, 13, 14, 15, 16, 17, 18, 19, 20]"
            ]
          },
          "metadata": {},
          "execution_count": 74
        }
      ]
    },
    {
      "cell_type": "code",
      "source": [
        "nums = [11, 15, 20, 30]\n",
        "for i in range(len(nums)):\n",
        "  nums[i] += 5\n",
        "\n",
        "nums"
      ],
      "metadata": {
        "colab": {
          "base_uri": "https://localhost:8080/"
        },
        "id": "FxND_JELDasI",
        "outputId": "150974eb-8574-480a-d2a4-f0599ce7356a"
      },
      "execution_count": null,
      "outputs": [
        {
          "output_type": "execute_result",
          "data": {
            "text/plain": [
              "[16, 20, 25, 35]"
            ]
          },
          "metadata": {},
          "execution_count": 81
        }
      ]
    },
    {
      "cell_type": "code",
      "source": [
        "nums = [i for i in range(1, 21)]\n",
        "nums"
      ],
      "metadata": {
        "colab": {
          "base_uri": "https://localhost:8080/"
        },
        "id": "23gyHG48ElZO",
        "outputId": "4aa6e49a-ae2d-4ba7-e27b-4cc1cbdb5477"
      },
      "execution_count": null,
      "outputs": [
        {
          "output_type": "execute_result",
          "data": {
            "text/plain": [
              "[1, 2, 3, 4, 5, 6, 7, 8, 9, 10, 11, 12, 13, 14, 15, 16, 17, 18, 19, 20]"
            ]
          },
          "metadata": {},
          "execution_count": 79
        }
      ]
    },
    {
      "cell_type": "code",
      "source": [
        "nums = [i for i in range(1, 21) if i % 2 == 0]\n",
        "nums"
      ],
      "metadata": {
        "colab": {
          "base_uri": "https://localhost:8080/"
        },
        "id": "Ev7uj_F7FLus",
        "outputId": "925a9f7a-d488-46ea-a90d-bc63aa7c2cdc"
      },
      "execution_count": null,
      "outputs": [
        {
          "output_type": "execute_result",
          "data": {
            "text/plain": [
              "[2, 4, 6, 8, 10, 12, 14, 16, 18, 20]"
            ]
          },
          "metadata": {},
          "execution_count": 87
        }
      ]
    },
    {
      "cell_type": "code",
      "source": [
        "fruits = [\"apple\", \"banana\", \"mango\", \"grapes\", \"tree\", \"ginger\"]\n",
        "\n",
        "[fruit for fruit in fruits if 'e' in fruit]\n"
      ],
      "metadata": {
        "colab": {
          "base_uri": "https://localhost:8080/"
        },
        "id": "AQfxSlqIFnby",
        "outputId": "290fe73d-6461-417e-c67b-447f066042fc"
      },
      "execution_count": null,
      "outputs": [
        {
          "output_type": "execute_result",
          "data": {
            "text/plain": [
              "['apple', 'grapes', 'tree', 'ginger']"
            ]
          },
          "metadata": {},
          "execution_count": 95
        }
      ]
    },
    {
      "cell_type": "markdown",
      "source": [
        "##**TUPLES**"
      ],
      "metadata": {
        "id": "9gq-yStAADJD"
      }
    },
    {
      "cell_type": "code",
      "source": [
        "t2 = (\"apple\", \"banana\")\n",
        "t2.index('apple')"
      ],
      "metadata": {
        "colab": {
          "base_uri": "https://localhost:8080/"
        },
        "id": "EFD4rVmQAFAP",
        "outputId": "30df2505-3d22-4133-e533-e2538de07b65"
      },
      "execution_count": null,
      "outputs": [
        {
          "output_type": "execute_result",
          "data": {
            "text/plain": [
              "0"
            ]
          },
          "metadata": {},
          "execution_count": 11
        }
      ]
    },
    {
      "cell_type": "code",
      "source": [
        "#tuples unpacking\n",
        "\n",
        "colors = tuple([\"red\", \"green\", \"blue\"])\n",
        "\n",
        "a, b, c = colors\n",
        "\n",
        "a"
      ],
      "metadata": {
        "colab": {
          "base_uri": "https://localhost:8080/",
          "height": 36
        },
        "id": "qcPi3BQiCsUX",
        "outputId": "5920d673-be95-4e4a-f056-695d56c16770"
      },
      "execution_count": null,
      "outputs": [
        {
          "output_type": "execute_result",
          "data": {
            "text/plain": [
              "'red'"
            ],
            "application/vnd.google.colaboratory.intrinsic+json": {
              "type": "string"
            }
          },
          "metadata": {},
          "execution_count": 2
        }
      ]
    },
    {
      "cell_type": "code",
      "source": [
        "x = 55\n",
        "y = 45\n",
        "t = x,y #comma determines tuples.\n",
        "t"
      ],
      "metadata": {
        "colab": {
          "base_uri": "https://localhost:8080/"
        },
        "id": "ws5FhCv_DIPN",
        "outputId": "338d62e0-6e04-44ec-f00c-b46eba0b8eb5"
      },
      "execution_count": null,
      "outputs": [
        {
          "output_type": "execute_result",
          "data": {
            "text/plain": [
              "(55, 45)"
            ]
          },
          "metadata": {},
          "execution_count": 3
        }
      ]
    },
    {
      "cell_type": "code",
      "source": [
        "x = 55\n",
        "y = 43\n",
        "\n",
        "# temp = x\n",
        "# x = y\n",
        "# y = temp\n",
        "\n",
        "x,y = y,x\n",
        "print(x,y)"
      ],
      "metadata": {
        "colab": {
          "base_uri": "https://localhost:8080/"
        },
        "id": "n7AMw4sGDgzE",
        "outputId": "34aaea4d-9c92-4f5d-aed3-a3634ffe837f"
      },
      "execution_count": null,
      "outputs": [
        {
          "output_type": "stream",
          "name": "stdout",
          "text": [
            "43 55\n"
          ]
        }
      ]
    },
    {
      "cell_type": "markdown",
      "source": [
        "looping through tuples"
      ],
      "metadata": {
        "id": "P3xqmq8bEsIR"
      }
    },
    {
      "cell_type": "code",
      "source": [
        "colors = tuple(['red', 'green', 'blue','pink', 'magenta','black'])\n",
        "\n",
        "for color in colors:\n",
        "  if color[-1] == 'k':\n",
        "  # if color.endswith('a'):\n",
        "    print(color)"
      ],
      "metadata": {
        "colab": {
          "base_uri": "https://localhost:8080/"
        },
        "id": "OSVb9aGKDvT_",
        "outputId": "ab2a6ede-5cba-4eb2-a3a0-7f282568b44b"
      },
      "execution_count": null,
      "outputs": [
        {
          "output_type": "stream",
          "name": "stdout",
          "text": [
            "pink\n",
            "black\n"
          ]
        }
      ]
    },
    {
      "cell_type": "markdown",
      "source": [
        "##**SETS**"
      ],
      "metadata": {
        "id": "S8GolLDzFRAz"
      }
    },
    {
      "cell_type": "code",
      "source": [
        "#set: removes duplicates from the list\n",
        "s1 =set()\n",
        "s2 = {1, 2, 3, 4,4}\n",
        "print(s2)\n"
      ],
      "metadata": {
        "colab": {
          "base_uri": "https://localhost:8080/"
        },
        "id": "gLU7LHkzFSy9",
        "outputId": "86ae43c6-4d73-4a05-e2e2-b69c3119e73c"
      },
      "execution_count": null,
      "outputs": [
        {
          "output_type": "stream",
          "name": "stdout",
          "text": [
            "{1, 2, 3, 4}\n"
          ]
        }
      ]
    },
    {
      "cell_type": "code",
      "source": [
        "s2 = {1, 3, 4,'a', 3}\n",
        "\n",
        "myList = set([10, 20, 30, 40, 50, 50, 80, 10, 30])\n",
        "s3 = set(myList)\n",
        "\n",
        "s3"
      ],
      "metadata": {
        "colab": {
          "base_uri": "https://localhost:8080/"
        },
        "id": "zSg5-SqBJjJw",
        "outputId": "0e04a9e8-a636-4b32-c615-8b511bbdcfca"
      },
      "execution_count": null,
      "outputs": [
        {
          "output_type": "execute_result",
          "data": {
            "text/plain": [
              "{10, 20, 30, 40, 50, 80}"
            ]
          },
          "metadata": {},
          "execution_count": 18
        }
      ]
    },
    {
      "cell_type": "code",
      "source": [
        "myset = set(['red', 'green', 'blue', 'orange', 'yellow', 'brown'])\n",
        "len(myset)"
      ],
      "metadata": {
        "colab": {
          "base_uri": "https://localhost:8080/"
        },
        "id": "Dl7UQp72LLzP",
        "outputId": "ce045c01-4ee6-46b8-d0fd-fb5abe84708d"
      },
      "execution_count": null,
      "outputs": [
        {
          "output_type": "execute_result",
          "data": {
            "text/plain": [
              "6"
            ]
          },
          "metadata": {},
          "execution_count": 19
        }
      ]
    },
    {
      "cell_type": "code",
      "source": [
        "for color in myset:\n",
        "  print(color)"
      ],
      "metadata": {
        "colab": {
          "base_uri": "https://localhost:8080/"
        },
        "id": "Tbe91MpQLZNS",
        "outputId": "7ba4d0be-6ef2-4c40-d2c6-50e5aab3acbe"
      },
      "execution_count": null,
      "outputs": [
        {
          "output_type": "stream",
          "name": "stdout",
          "text": [
            "red\n",
            "brown\n",
            "green\n",
            "orange\n",
            "blue\n",
            "yellow\n"
          ]
        }
      ]
    },
    {
      "cell_type": "markdown",
      "source": [
        "Set methods"
      ],
      "metadata": {
        "id": "K0XCUxGlLjyB"
      }
    },
    {
      "cell_type": "code",
      "source": [
        "nums = {10, 30, 45, 66, 88, 22, 11}\n",
        "# nums.add(100)\n",
        "# nums.add((10, 20 ,40))\n",
        "# nums.add('apple')\n",
        "\n",
        "# nums.remove(88)\n",
        "\n",
        "# nums.pop()\n",
        "\n",
        "# nums.discard(88)\n",
        "# nums.discard(400)\n",
        "\n",
        "# nums.update([1, 7, 99, 11, 22, 30, 45])\n",
        "\n",
        "\n",
        "print(nums)"
      ],
      "metadata": {
        "colab": {
          "base_uri": "https://localhost:8080/"
        },
        "id": "fuu4sEteLfYy",
        "outputId": "28470d29-6c93-40de-9b20-ec804d842d4b"
      },
      "execution_count": null,
      "outputs": [
        {
          "output_type": "stream",
          "name": "stdout",
          "text": [
            "{1, 66, 7, 10, 11, 22, 88, 30, 99, 45}\n"
          ]
        }
      ]
    },
    {
      "cell_type": "code",
      "source": [
        "s1 = {1, 3, 9, 12, 15}\n",
        "s2 = {1, 6, 12, 18, 24}\n",
        "\n",
        "# s1.union (s2)\n",
        "# s1 | s2\n",
        "\n",
        "# s1.intersection(s2)\n",
        "# s1 & s2\n",
        "\n",
        "# s1.difference(s2)\n",
        "# s1 - s2\n",
        "\n",
        "# s1.symmetric_difference(s2)\n",
        "# s1 ^ s2\n",
        "\n"
      ],
      "metadata": {
        "colab": {
          "base_uri": "https://localhost:8080/"
        },
        "id": "JXtvXsiaN6xB",
        "outputId": "0e96b835-1104-49c8-8480-ea440d7e8020"
      },
      "execution_count": null,
      "outputs": [
        {
          "output_type": "execute_result",
          "data": {
            "text/plain": [
              "{3, 6, 9, 15, 18, 24}"
            ]
          },
          "metadata": {},
          "execution_count": 35
        }
      ]
    },
    {
      "cell_type": "markdown",
      "source": [
        "frozensets"
      ],
      "metadata": {
        "id": "DoBSIq-GPVFj"
      }
    },
    {
      "cell_type": "code",
      "source": [
        "fs1 = frozenset({1, 20, 30, 50, 3, 4, 5, 6})\n",
        "fs2 = frozenset({10, 20, 30, 40, 50})\n",
        "fs3 = frozenset()\n",
        "\n",
        "fs1.union(fs2)\n",
        "fs1.difference(fs2)\n",
        "fs1.intersection (fs2)\n",
        "fs1.symmetric_difference(fs2)"
      ],
      "metadata": {
        "colab": {
          "base_uri": "https://localhost:8080/"
        },
        "id": "sL3ripu2PWZH",
        "outputId": "5b2ce8a3-97f9-44ae-f3aa-c24ea9a6d39a"
      },
      "execution_count": null,
      "outputs": [
        {
          "output_type": "execute_result",
          "data": {
            "text/plain": [
              "frozenset({1, 3, 4, 5, 6, 10, 40})"
            ]
          },
          "metadata": {},
          "execution_count": 37
        }
      ]
    },
    {
      "cell_type": "code",
      "source": [
        "l1 = []\n",
        "t1 = ()\n",
        "s1 = set()\n",
        "fs1 = frozenset()\n",
        "d1 = {}\n"
      ],
      "metadata": {
        "id": "PrAy98lBMMFQ"
      },
      "execution_count": null,
      "outputs": []
    },
    {
      "cell_type": "code",
      "source": [
        "d1 = []\n",
        "d2 = dict()\n",
        "\n",
        "d3 = {\n",
        "    \"biscuits\" : 20,\n",
        "    \"soap\" : 10,\n",
        "    \"rice\" : \"10kg\",\n",
        "    \"dove\": {\n",
        "        \"conditioner\" : 20,\n",
        "        \"facewash\" : 300\n",
        "    },\n",
        "    \"soap\" : 800\n",
        "}\n",
        "d3\n",
        "d3['noodles'] = {\n",
        "    'current' : 5,\n",
        "\n",
        "\n",
        "}\n",
        "\n",
        "# d3['noodles']['curent'] # to access nested key-value\n",
        "\n",
        "d3['dove']['cleanser'] = 343\n",
        "\n",
        "del d3['biscuits']\n",
        "\n",
        "del d3['dove']['facewash']\n",
        "d3"
      ],
      "metadata": {
        "colab": {
          "base_uri": "https://localhost:8080/"
        },
        "id": "LHqqhFAmLtif",
        "outputId": "7dd6d9db-2b42-4e42-d15e-601104181bc8"
      },
      "execution_count": null,
      "outputs": [
        {
          "output_type": "execute_result",
          "data": {
            "text/plain": [
              "{'soap': 800,\n",
              " 'rice': '10kg',\n",
              " 'dove': {'conditioner': 20, 'cleanser': 343},\n",
              " 'noodles': {'current': 5}}"
            ]
          },
          "metadata": {},
          "execution_count": 17
        }
      ]
    },
    {
      "cell_type": "code",
      "source": [
        "d4 = {\n",
        "    \"apple\": 20,\n",
        "    20 : 40,\n",
        "    3.15 : 'mango',\n",
        "    None : 1.435,\n",
        "    True : \"that\",\n",
        "    False : 5.55,\n",
        "    (1, 4, 7) : \"tuple\",\n",
        "    frozenset({1, 's', 'd'}) : ['a', 'b', 'c']\n",
        "}\n",
        "d4[20]\n"
      ],
      "metadata": {
        "colab": {
          "base_uri": "https://localhost:8080/"
        },
        "id": "E52j5meoM6vA",
        "outputId": "93ff90ee-6c46-4647-b7fe-213b793efe06"
      },
      "execution_count": null,
      "outputs": [
        {
          "output_type": "execute_result",
          "data": {
            "text/plain": [
              "40"
            ]
          },
          "metadata": {},
          "execution_count": 7
        }
      ]
    },
    {
      "cell_type": "code",
      "source": [
        "grocery = {\n",
        "    \"biscuits\" : 20,\n",
        "    \"soap\" : 10,\n",
        "    \"rice\" : \"10kg\",\n",
        "    \"dove\": {\n",
        "        \"conditioner\" : 20,\n",
        "        \"facewash\" : 300\n",
        "    },\n",
        "    \"soap\" : 800\n",
        "}\n",
        "\n",
        "# print(grocery.get(\"noodles\"))\n",
        "\n",
        "# val = grocery.pop(\"rice\")\n",
        "# print(val)\n",
        "\n",
        "grocery.update({'chicken': '3kg', 'deal': '15 kg', \"soap\": 10, \"noodles\": {\"wai-wai\" : 30, 'rumpum': 40 } })\n",
        "\n",
        "grocery"
      ],
      "metadata": {
        "colab": {
          "base_uri": "https://localhost:8080/"
        },
        "id": "UKurtN59OBaj",
        "outputId": "331e71b8-6016-49f9-fa0c-983e6a4ed115"
      },
      "execution_count": null,
      "outputs": [
        {
          "output_type": "execute_result",
          "data": {
            "text/plain": [
              "{'biscuits': 20,\n",
              " 'soap': 10,\n",
              " 'rice': '10kg',\n",
              " 'dove': {'conditioner': 20, 'facewash': 300},\n",
              " 'chicken': '3kg',\n",
              " 'deal': '15 kg',\n",
              " 'noodles': {'wai-wai': 30, 'rumpum': 40}}"
            ]
          },
          "metadata": {},
          "execution_count": 24
        }
      ]
    },
    {
      "cell_type": "code",
      "source": [
        "gr = {\n",
        "    'biscuits': 20,\n",
        "    'soap': 10,\n",
        "    'rice': '10kg',\n",
        "    'dove': {\n",
        "        'conditioner': 20,\n",
        "        'facewash': 300},\n",
        "    'chicken': '3kg',\n",
        "    'deal': '15 kg',\n",
        "    'noodles': {\n",
        "        'wai-wai': 30,\n",
        "        'rumpum': 40}}\n",
        "# gr.keys()\n",
        "# for var in gr.values():\n",
        "  # print(gr)\n",
        "\n",
        "\n",
        "for var in gr.items():\n",
        "  k, v = var\n",
        "  print(f\"key: {k},\\t value: {v}\")\n",
        "\n",
        "# gr.items()"
      ],
      "metadata": {
        "colab": {
          "base_uri": "https://localhost:8080/"
        },
        "id": "_PDB9CFGW984",
        "outputId": "69b43c7e-4c96-4439-c976-e9c6d7bead9b"
      },
      "execution_count": null,
      "outputs": [
        {
          "output_type": "stream",
          "name": "stdout",
          "text": [
            "key: biscuits,\t value: 20\n",
            "key: soap,\t value: 10\n",
            "key: rice,\t value: 10kg\n",
            "key: dove,\t value: {'conditioner': 20, 'facewash': 300}\n",
            "key: chicken,\t value: 3kg\n",
            "key: deal,\t value: 15 kg\n",
            "key: noodles,\t value: {'wai-wai': 30, 'rumpum': 40}\n"
          ]
        }
      ]
    },
    {
      "cell_type": "code",
      "source": [
        "#take a sentence \"Apple is a tree\"\n",
        "#convert into lower case\n",
        "#make a dictionary that contains the character of that sentence and its count\n",
        "#for example:\n",
        "# sentence : \" Apple is  tree\"\n",
        "#output:\n",
        "# {\n",
        "#     'a'= 2,\n",
        "#     'p' = 2,\n",
        "#     'l' = 1\n",
        "# }\n",
        "\n",
        "\n",
        "sentence = \"Apple is a Tree.\"\n",
        "sent = sentence.lower()\n",
        "\n",
        "ch_dict = dict()\n",
        "\n",
        "for ch in sent:\n",
        "  if ch in ch_dict.keys():\n",
        "    ch_dict[ch] += 1\n",
        "  else:\n",
        "    ch_dict[ch] = 1\n",
        "\n",
        "print(ch_dict)"
      ],
      "metadata": {
        "colab": {
          "base_uri": "https://localhost:8080/"
        },
        "id": "vJqsrr9yYvFj",
        "outputId": "895e76f4-ca4a-481f-fb25-317a468570a8"
      },
      "execution_count": null,
      "outputs": [
        {
          "output_type": "stream",
          "name": "stdout",
          "text": [
            "{'a': 2, 'p': 2, 'l': 1, 'e': 3, ' ': 3, 'i': 1, 's': 1, 't': 1, 'r': 1, '.': 1}\n"
          ]
        }
      ]
    },
    {
      "cell_type": "code",
      "source": [
        "list1 = [1, 3, 4, 7, 89, 15, 18, 21, 26, 30, 12, 23]\n",
        "list2 = [num for num in list1 if num % 3 == 0]\n",
        "list2.sort()\n",
        "list2"
      ],
      "metadata": {
        "colab": {
          "base_uri": "https://localhost:8080/"
        },
        "id": "E5XaqQY-TzvF",
        "outputId": "03cacfcc-b3bc-46f8-9f83-5512b3aaac55"
      },
      "execution_count": null,
      "outputs": [
        {
          "output_type": "execute_result",
          "data": {
            "text/plain": [
              "[3, 12, 15, 18, 21, 30]"
            ]
          },
          "metadata": {},
          "execution_count": 3
        }
      ]
    },
    {
      "cell_type": "code",
      "source": [
        "dict1 = [1, 3, 4, 7, 89, 15, 18, 21, 26, 30, 12, 23]\n",
        "mydict = {}\n",
        "for num in dict1:\n",
        "  if num % 3 == 0:\n",
        "    mydict[num] = num ** 2\n",
        "mydict"
      ],
      "metadata": {
        "colab": {
          "base_uri": "https://localhost:8080/"
        },
        "id": "7vUqX5bdUWW-",
        "outputId": "3404daf1-6e38-4c7b-80cb-5a92278c41a5"
      },
      "execution_count": null,
      "outputs": [
        {
          "output_type": "execute_result",
          "data": {
            "text/plain": [
              "{3: 9, 15: 225, 18: 324, 21: 441, 30: 900, 12: 144}"
            ]
          },
          "metadata": {},
          "execution_count": 5
        }
      ]
    },
    {
      "cell_type": "code",
      "source": [
        "employees = {\n",
        "    \"sujan\" : 1000,\n",
        "    \"aryan\" : 1200,\n",
        "    \"pujan\" : 700,\n",
        "    \"pranisha\" : 400,\n",
        "    \"manvika\" : 450\n",
        "}\n",
        "\n",
        "{name : salary for name, salary in employees.items() if salary > 550}"
      ],
      "metadata": {
        "colab": {
          "base_uri": "https://localhost:8080/"
        },
        "id": "8yl4-_qHVsYE",
        "outputId": "cab97486-0e32-4f8a-ae4b-dd6645be81af"
      },
      "execution_count": null,
      "outputs": [
        {
          "output_type": "execute_result",
          "data": {
            "text/plain": [
              "{'sujan': 1000, 'aryan': 1200, 'pujan': 700}"
            ]
          },
          "metadata": {},
          "execution_count": 7
        }
      ]
    },
    {
      "cell_type": "code",
      "source": [
        "employees = {\n",
        "    \"sujan\" : 1000,\n",
        "    \"aryan\" : 1200,\n",
        "    \"pujan\" : 700,\n",
        "    \"pranisha\" : 400,\n",
        "    \"manvika\" : 450\n",
        "}\n",
        "\n",
        "employees1 = {}\n",
        "for name, salary in employees.items():\n",
        "  if salary > 550:\n",
        "    employees1[name] = salary\n",
        "\n",
        "employees1"
      ],
      "metadata": {
        "colab": {
          "base_uri": "https://localhost:8080/"
        },
        "id": "iEWKbQFBXX1H",
        "outputId": "aec65b5c-caf2-477b-b792-497bc82d3dd0"
      },
      "execution_count": null,
      "outputs": [
        {
          "output_type": "execute_result",
          "data": {
            "text/plain": [
              "{'sujan': 1000, 'aryan': 1200, 'pujan': 700}"
            ]
          },
          "metadata": {},
          "execution_count": 8
        }
      ]
    },
    {
      "cell_type": "markdown",
      "source": [
        "##**FUNCTIONS**"
      ],
      "metadata": {
        "id": "JmnaeO4Kcg6I"
      }
    },
    {
      "cell_type": "code",
      "source": [
        "def greeting(name):\n",
        "  print(f\"Hello, {name}\")\n",
        "\n",
        "# greeting(\"lizbiz\")"
      ],
      "metadata": {
        "colab": {
          "base_uri": "https://localhost:8080/"
        },
        "id": "jfwzV-LTcjXV",
        "outputId": "88b0baba-d207-4567-baba-71e6a502045b"
      },
      "execution_count": null,
      "outputs": [
        {
          "output_type": "stream",
          "name": "stdout",
          "text": [
            "Hello, lizbiz\n"
          ]
        }
      ]
    },
    {
      "cell_type": "code",
      "source": [
        "def multiply(a, b):\n",
        "  return a * b\n",
        "\n",
        "result = multiply(3, 10)\n",
        "print(result)"
      ],
      "metadata": {
        "colab": {
          "base_uri": "https://localhost:8080/"
        },
        "id": "lA_mZT8JfSif",
        "outputId": "9bc8e8c4-dd96-47ba-c43f-c1ff0d19d1a5"
      },
      "execution_count": null,
      "outputs": [
        {
          "output_type": "stream",
          "name": "stdout",
          "text": [
            "30\n"
          ]
        }
      ]
    },
    {
      "cell_type": "code",
      "source": [
        "def multiply(a, b):\n",
        "  product =  a * b\n",
        "  return product\n",
        "\n",
        "multiply(3, 10)"
      ],
      "metadata": {
        "colab": {
          "base_uri": "https://localhost:8080/"
        },
        "id": "546e3nApf2_M",
        "outputId": "67d2e52a-d8a1-41b4-d90b-fa8a9c464072"
      },
      "execution_count": null,
      "outputs": [
        {
          "output_type": "execute_result",
          "data": {
            "text/plain": [
              "30"
            ]
          },
          "metadata": {},
          "execution_count": 14
        }
      ]
    },
    {
      "cell_type": "code",
      "source": [
        "def calculator(a, b):\n",
        "  if b == 0:\n",
        "    return 0, 0\n",
        "  return a * b, a // b\n",
        "\n",
        "calculator(400, 67)"
      ],
      "metadata": {
        "colab": {
          "base_uri": "https://localhost:8080/"
        },
        "id": "StPHbonRgI_i",
        "outputId": "1df02ddd-c078-421c-989e-bbe992e4a1ba"
      },
      "execution_count": null,
      "outputs": [
        {
          "output_type": "execute_result",
          "data": {
            "text/plain": [
              "(26800, 5)"
            ]
          },
          "metadata": {},
          "execution_count": 18
        }
      ]
    },
    {
      "cell_type": "code",
      "source": [
        "product, quotient = calculator(400, 67)\n",
        "# print(product)\n",
        "# print(quotient)\n",
        "\n",
        "product"
      ],
      "metadata": {
        "colab": {
          "base_uri": "https://localhost:8080/"
        },
        "id": "7LjFkAAYhjes",
        "outputId": "f3b9e3db-b4a9-402f-f4fd-b808b15c53e3"
      },
      "execution_count": null,
      "outputs": [
        {
          "output_type": "execute_result",
          "data": {
            "text/plain": [
              "26800"
            ]
          },
          "metadata": {},
          "execution_count": 21
        }
      ]
    },
    {
      "cell_type": "code",
      "source": [
        "# default arguments\n",
        "\n",
        "def greet(name, message, emoji = \"😰\"): #default starts from last.\n",
        "  print(f\"{message}, {name}! {emoji}\")\n",
        "\n",
        "# greet(\"Tiger\", \"Hi\", \"😎\")"
      ],
      "metadata": {
        "id": "4owYUK8Jh-eT"
      },
      "execution_count": null,
      "outputs": []
    },
    {
      "cell_type": "code",
      "source": [
        "greet(\"meow\", \"Meow\")"
      ],
      "metadata": {
        "colab": {
          "base_uri": "https://localhost:8080/"
        },
        "id": "y9hQw1tnkUv9",
        "outputId": "7ad6057a-a61f-4e4e-f218-bbed08d12ee2"
      },
      "execution_count": null,
      "outputs": [
        {
          "output_type": "stream",
          "name": "stdout",
          "text": [
            "Meow, meow! 😰\n"
          ]
        }
      ]
    },
    {
      "cell_type": "code",
      "source": [
        "greet(\n",
        "    emoji = '😎',\n",
        "    name = 'Manvika',\n",
        "    message = 'Hello'\n",
        "\n",
        ")"
      ],
      "metadata": {
        "colab": {
          "base_uri": "https://localhost:8080/"
        },
        "id": "J9UQFt8Rly7M",
        "outputId": "2eb87ca3-88be-405a-9989-82b3eb524f17"
      },
      "execution_count": null,
      "outputs": [
        {
          "output_type": "stream",
          "name": "stdout",
          "text": [
            "Hello, Manvika! 😎\n"
          ]
        }
      ]
    },
    {
      "cell_type": "code",
      "source": [
        "def temp(celsius):\n",
        "  fahrenheit = 1.8 * celsius + 32\n",
        "  return fahrenheit\n",
        "\n",
        "temps = [19, 29, 88, -77, 67, 108, 24]\n",
        "for temp1 in temps:\n",
        "  f = temp(temp1)\n",
        "  print(\"Celsius: \", temp1, \"\\tFahrenheit: \", f)"
      ],
      "metadata": {
        "colab": {
          "base_uri": "https://localhost:8080/"
        },
        "id": "G7R_zjV3nP0t",
        "outputId": "d1103161-8d54-40dc-bb0b-0bb283207c7d"
      },
      "execution_count": null,
      "outputs": [
        {
          "output_type": "stream",
          "name": "stdout",
          "text": [
            "Celsius:  19 \tFahrenheit:  66.2\n",
            "Celsius:  29 \tFahrenheit:  84.2\n",
            "Celsius:  88 \tFahrenheit:  190.4\n",
            "Celsius:  -77 \tFahrenheit:  -106.6\n",
            "Celsius:  67 \tFahrenheit:  152.60000000000002\n",
            "Celsius:  108 \tFahrenheit:  226.4\n",
            "Celsius:  24 \tFahrenheit:  75.2\n"
          ]
        }
      ]
    },
    {
      "cell_type": "code",
      "source": [
        "def calculate_area(l, b):\n",
        "  return l * b\n",
        "\n",
        "print(calculate_area(20, 30))\n",
        "\n",
        "print(calculate_area(30, 30))"
      ],
      "metadata": {
        "colab": {
          "base_uri": "https://localhost:8080/"
        },
        "id": "hYtWZPMXqjrc",
        "outputId": "8a1bed0f-2ea0-40cb-e566-56825b15ba5c"
      },
      "execution_count": null,
      "outputs": [
        {
          "output_type": "stream",
          "name": "stdout",
          "text": [
            "600\n",
            "900\n"
          ]
        }
      ]
    },
    {
      "cell_type": "code",
      "source": [
        "def triangle_sides(s1, s2, s3):\n",
        "  # if s1 < s2 + s3 and s2 < s1 + s3 and s3 < s1 + s2:\n",
        "  #   return True\n",
        "  # return False\n",
        "  return s1 < s2 + s3 and s2 < s1 + s3 and s3 < s1 + s2\n",
        "\n",
        "triangle_sides( 4, 7 , 20)\n",
        "\n"
      ],
      "metadata": {
        "colab": {
          "base_uri": "https://localhost:8080/"
        },
        "id": "wLcHxF-rr3IA",
        "outputId": "3ecb2495-5fc0-4be0-cf1e-9bdd6625358e"
      },
      "execution_count": null,
      "outputs": [
        {
          "output_type": "execute_result",
          "data": {
            "text/plain": [
              "False"
            ]
          },
          "metadata": {},
          "execution_count": 46
        }
      ]
    },
    {
      "cell_type": "markdown",
      "source": [
        "##**OOP**"
      ],
      "metadata": {
        "id": "YRLCqjMHYO9B"
      }
    },
    {
      "cell_type": "code",
      "source": [
        "class Person:\n",
        "  pass\n",
        "\n",
        "keshav = Person() #isntantiate --> sometimes name is referred as instantiate.\n",
        "type(keshav)"
      ],
      "metadata": {
        "colab": {
          "base_uri": "https://localhost:8080/"
        },
        "id": "Pz1R_76VYQa4",
        "outputId": "112f06aa-ad22-4f36-cbb9-f2b171384788"
      },
      "execution_count": null,
      "outputs": [
        {
          "output_type": "execute_result",
          "data": {
            "text/plain": [
              "__main__.Person"
            ]
          },
          "metadata": {},
          "execution_count": 4
        }
      ]
    },
    {
      "cell_type": "code",
      "source": [
        "# class attribute:\n",
        "class Person:\n",
        "  species = \"Homo Sapiens\"\n",
        "\n",
        "keshav = Person()\n",
        "aliza = Person()\n",
        "sujan = Person()\n",
        "print(keshav.species, aliza.species, sujan.species)\n",
        "\n",
        "Person.species = \"Homo Tigris\"\n",
        "print(keshav.species, aliza.species, sujan.species)"
      ],
      "metadata": {
        "colab": {
          "base_uri": "https://localhost:8080/"
        },
        "id": "m61cjoVcYZ-6",
        "outputId": "0dda2fc7-6f3d-4fe4-fb2f-2469eaec0230"
      },
      "execution_count": null,
      "outputs": [
        {
          "output_type": "stream",
          "name": "stdout",
          "text": [
            "Homo Sapiens Homo Sapiens Homo Sapiens\n",
            "Homo Tigris Homo Tigris Homo Tigris\n"
          ]
        }
      ]
    },
    {
      "cell_type": "code",
      "source": [
        "# object attribute:\n",
        "\n",
        "class Person:\n",
        "  species = \"Homo Sapiens\"\n",
        "\n",
        "  def __init__(self, name, height, weight, gender) :\n",
        "    self.name = name\n",
        "    self.height = height\n",
        "    self.weight = weight\n",
        "    self.gender = gender\n",
        "    self.nationality = \"Nepali\"\n",
        "\n",
        "  def info(self):\n",
        "    print(f\"Hi, {self.name}. Your height is {self.height}, your weight is {self.weight} and your gender is {self.gender}.\")\n",
        "    print(f\"Your nationality is {self.nationality}.\\n\")\n",
        "\n",
        "  def eat(self, dish):\n",
        "    print(f\"{self.name} is eating {dish}.\")\n",
        "\n",
        "  def dining(self, location, dish):\n",
        "    print(f\"{self.name} is eating at {location}.\")\n",
        "    self.eat(dish)\n",
        "\n",
        "keshav = Person(name = \"Keshav\", height = \"5'7\", weight = '62', gender = \"M\")\n",
        "aliza = Person(name = \"aliza\", height = \"5'1\", weight = '42', gender = \"F\")\n",
        "sujan = Person(name = \"sujan\", height = \"5'4\", weight = '62', gender = \"M\")"
      ],
      "metadata": {
        "id": "m4XIwRYQakRI"
      },
      "execution_count": null,
      "outputs": []
    },
    {
      "cell_type": "code",
      "source": [
        "print(keshav.gender, keshav.species, keshav.weight, keshav.nationality)\n",
        "print(aliza.gender, aliza.species, aliza.weight, aliza.nationality)"
      ],
      "metadata": {
        "colab": {
          "base_uri": "https://localhost:8080/"
        },
        "id": "j_n-behZd04h",
        "outputId": "efc3267a-4e73-4288-ea04-69e3cba17eb5"
      },
      "execution_count": null,
      "outputs": [
        {
          "output_type": "stream",
          "name": "stdout",
          "text": [
            "M Homo Sapiens 62 Nepali\n",
            "F Homo Sapiens 42 Nepali\n"
          ]
        }
      ]
    },
    {
      "cell_type": "code",
      "source": [
        "keshav.info()\n",
        "aliza.info()\n",
        "sujan.info()"
      ],
      "metadata": {
        "colab": {
          "base_uri": "https://localhost:8080/"
        },
        "id": "eOO4b9adeIt4",
        "outputId": "eed00a3f-efa3-4d91-80e2-7bd8f833eb29"
      },
      "execution_count": null,
      "outputs": [
        {
          "output_type": "stream",
          "name": "stdout",
          "text": [
            "Hi, Keshav. Your height is 5'7, your weight is 62 and your gender is M.\n",
            "Your nationality is Nepali.\n",
            "\n",
            "Hi, aliza. Your height is 5'1, your weight is 42 and your gender is F.\n",
            "Your nationality is Nepali.\n",
            "\n",
            "Hi, sujan. Your height is 5'4, your weight is 62 and your gender is M.\n",
            "Your nationality is Nepali.\n",
            "\n"
          ]
        }
      ]
    },
    {
      "cell_type": "code",
      "source": [
        "keshav.eat('noodles')\n",
        "aliza.eat(\"momo\")\n",
        "sujan.eat('pizza')"
      ],
      "metadata": {
        "colab": {
          "base_uri": "https://localhost:8080/"
        },
        "id": "ncV3srcFhfdk",
        "outputId": "6cd1f132-230d-4bd4-b62d-006041a36a0c"
      },
      "execution_count": null,
      "outputs": [
        {
          "output_type": "stream",
          "name": "stdout",
          "text": [
            "Keshav is eating noodles.\n",
            "aliza is eating momo.\n",
            "sujan is eating pizza.\n"
          ]
        }
      ]
    },
    {
      "cell_type": "code",
      "source": [
        "keshav.dining(\"Koteshwor\", \"noodles\")"
      ],
      "metadata": {
        "colab": {
          "base_uri": "https://localhost:8080/"
        },
        "id": "y4X-XyZKjWr_",
        "outputId": "8c2c3cd8-5054-40b0-c3ff-2dd2856c728f"
      },
      "execution_count": null,
      "outputs": [
        {
          "output_type": "stream",
          "name": "stdout",
          "text": [
            "Keshav is eating at Koteshwor.\n",
            "Keshav is eating noodles.\n"
          ]
        }
      ]
    },
    {
      "cell_type": "markdown",
      "source": [
        "##**INHERITANCE**"
      ],
      "metadata": {
        "id": "FraNQtKtmW5A"
      }
    },
    {
      "cell_type": "code",
      "source": [
        "#single-level inheritance\n",
        "\n",
        "class Vehicle:\n",
        "  def move(self):\n",
        "    print(\"Vehicle is moving.\")\n",
        "\n",
        "class OfficeChair(Vehicle):\n",
        "  def height_up(self):\n",
        "    print(\"Increasing height...\")\n",
        "\n",
        "  def height_down(self):\n",
        "    print(\"Decreasing height...\")\n"
      ],
      "metadata": {
        "id": "Tb9dx2wGmaKC"
      },
      "execution_count": null,
      "outputs": []
    },
    {
      "cell_type": "code",
      "source": [
        "oc1 = OfficeChair()\n",
        "oc1.height_up()\n",
        "oc1.height_down()\n",
        "oc1.move()"
      ],
      "metadata": {
        "colab": {
          "base_uri": "https://localhost:8080/"
        },
        "id": "9-JMi6sOnQdv",
        "outputId": "c71c5feb-77dd-4ab8-d208-2b3033e4176a"
      },
      "execution_count": null,
      "outputs": [
        {
          "output_type": "stream",
          "name": "stdout",
          "text": [
            "Increasing height...\n",
            "Decreasing height...\n",
            "Vehicle is moving.\n"
          ]
        }
      ]
    },
    {
      "cell_type": "code",
      "source": [
        "# Multiple Inheritance\n",
        "\n",
        "class Phone:\n",
        "    def call(self):\n",
        "        print(\"Making a call...\")\n",
        "\n",
        "class Camera:\n",
        "    def take_picture(self):\n",
        "        print(\"Taking a picture...\")\n",
        "\n",
        "# SmartPhone inherits from both Phone and Camera\n",
        "class SmartPhone(Phone, Camera):\n",
        "    def connect_with_wifi(self):\n",
        "        print(\"Connecting to wifi...\")\n",
        "\n",
        "\n",
        "sp1 = SmartPhone()\n",
        "sp1.call()\n",
        "sp1.take_picture()\n",
        "sp1.connect_with_wifi()\n"
      ],
      "metadata": {
        "colab": {
          "base_uri": "https://localhost:8080/"
        },
        "id": "fLlLuAbtfuG-",
        "outputId": "d5c7428b-e205-43ff-9a3e-819fc23d41d7"
      },
      "execution_count": null,
      "outputs": [
        {
          "output_type": "stream",
          "name": "stdout",
          "text": [
            "Making a call...\n",
            "Taking a picture...\n",
            "Connecting to wifi...\n"
          ]
        }
      ]
    },
    {
      "cell_type": "code",
      "source": [
        "# Multi-level Inheritance\n",
        "\n",
        "class Vehicle:\n",
        "  def __init__(self, brand, wheels):\n",
        "    self.brand = brand\n",
        "    self.wheels = wheels\n",
        "\n",
        "  def move(self):\n",
        "    print(f\"This {self.brand} vehicel is moving.\")\n",
        "\n",
        "\n",
        "class Car(Vehicle):\n",
        "  def __init__(self, brand, doors):\n",
        "    super().__init__(brand = brand, wheels = 4)\n",
        "    self.doors = doors\n",
        "    self.ignition = False\n",
        "\n",
        "  def start_engine(self):\n",
        "    self.ignition = True\n",
        "    print(\"Starting engine...\")\n",
        "\n",
        "  def turn_off_engine(self):\n",
        "    self.ignition = False\n",
        "    print(\"Engine turned off ...\")\n",
        "\n",
        "\n",
        "\n",
        "class RaceCar(Car):\n",
        "  def __init__(self, brand, top_speed):\n",
        "    super().__init__(brand = brand, doors = 2)\n",
        "    self.top_spped = top_speed\n",
        "    self.nitro = False\n",
        "\n",
        "\n",
        "  def nitro_on(self):\n",
        "    self.nitro = True\n",
        "    print(\"Nitro on...\")\n",
        "\n",
        "  def nitro_off(self):\n",
        "    self.nitro = False\n",
        "    print(\"Nitro off...\")\n",
        "\n"
      ],
      "metadata": {
        "id": "kYNvhZNBhBFh"
      },
      "execution_count": null,
      "outputs": []
    },
    {
      "cell_type": "code",
      "source": [
        "ferrari = RaceCar(\n",
        "    brand = \"Ferrari\",\n",
        "    top_speed = 300\n",
        ")\n",
        "\n",
        "ferrari.move()\n",
        "ferrari.start_engine()\n",
        "ferrari.nitro_on()\n",
        "ferrari.nitro"
      ],
      "metadata": {
        "colab": {
          "base_uri": "https://localhost:8080/"
        },
        "id": "KwI12II0jZ8W",
        "outputId": "70c04e75-4196-478b-8929-ec2089c2498b"
      },
      "execution_count": null,
      "outputs": [
        {
          "output_type": "stream",
          "name": "stdout",
          "text": [
            "This Ferrari vehicel is moving.\n",
            "Starting engine...\n",
            "Nitro on...\n"
          ]
        },
        {
          "output_type": "execute_result",
          "data": {
            "text/plain": [
              "True"
            ]
          },
          "metadata": {},
          "execution_count": 9
        }
      ]
    },
    {
      "cell_type": "markdown",
      "source": [
        "##**POLYMORPHISM**"
      ],
      "metadata": {
        "id": "CVx9OoPMkfHp"
      }
    },
    {
      "cell_type": "code",
      "source": [
        "import math\n",
        "\n",
        "math.pi"
      ],
      "metadata": {
        "colab": {
          "base_uri": "https://localhost:8080/"
        },
        "id": "oAdyjaHvllJi",
        "outputId": "abb8d5b9-838f-400e-ca80-dcba6978328a"
      },
      "execution_count": null,
      "outputs": [
        {
          "output_type": "execute_result",
          "data": {
            "text/plain": [
              "3.141592653589793"
            ]
          },
          "metadata": {},
          "execution_count": 21
        }
      ]
    },
    {
      "cell_type": "code",
      "source": [
        "class Shape:\n",
        "  def __init__(self, name):\n",
        "    self.name = name\n",
        "\n",
        "\n",
        "class Rectangle(Shape):\n",
        "  def __init__(self, length, breadth):\n",
        "    super().__init__(name = \"Rectangle\")\n",
        "    self.length = length\n",
        "    self.breadth = breadth\n",
        "\n",
        "  def area(self):\n",
        "    return self.length * self.breadth\n",
        "\n",
        "\n",
        "class Circle(Shape):\n",
        "  def __init__(self, radius):\n",
        "    super().__init__(name = \"Circle\")\n",
        "    self.radius = radius\n",
        "\n",
        "  def area(self):\n",
        "    return math.pi * self. radius * self.radius\n",
        "\n"
      ],
      "metadata": {
        "id": "Wbfnrn6mjcUt"
      },
      "execution_count": null,
      "outputs": []
    },
    {
      "cell_type": "code",
      "source": [
        "# r1 = Rectangle(10, 50)\n",
        "# r1.area()\n",
        "\n",
        "\n",
        "# c1 = Circle(7)\n",
        "# c1.area()"
      ],
      "metadata": {
        "colab": {
          "base_uri": "https://localhost:8080/"
        },
        "id": "kBjU0_5popg9",
        "outputId": "99b7f8f8-0ec9-4407-b216-b1f22f48a6bb"
      },
      "execution_count": null,
      "outputs": [
        {
          "output_type": "execute_result",
          "data": {
            "text/plain": [
              "153.93804002589985"
            ]
          },
          "metadata": {},
          "execution_count": 17
        }
      ]
    },
    {
      "cell_type": "code",
      "source": [
        "shapes = [\n",
        "    Rectangle(20,60),\n",
        "    Circle(4),\n",
        "    Rectangle(6, 18),\n",
        "    Rectangle(4,8),\n",
        "    Circle(11)\n",
        "]\n",
        "\n",
        "for shape in shapes:\n",
        "  print(f\"Area of {shape.name} is: {shape.area():.2f}\")"
      ],
      "metadata": {
        "colab": {
          "base_uri": "https://localhost:8080/"
        },
        "id": "uiYO1_Pxo4Fg",
        "outputId": "24a25d51-e9d4-4648-8802-4a81e9ae06cf"
      },
      "execution_count": null,
      "outputs": [
        {
          "output_type": "stream",
          "name": "stdout",
          "text": [
            "Area of Rectangle is: 1200.00\n",
            "Area of Circle is: 50.27\n",
            "Area of Rectangle is: 108.00\n",
            "Area of Rectangle is: 32.00\n",
            "Area of Circle is: 380.13\n"
          ]
        }
      ]
    },
    {
      "cell_type": "markdown",
      "source": [
        "##OPERATORS OVERLOADING"
      ],
      "metadata": {
        "id": "tzVbK9tFqWBN"
      }
    },
    {
      "cell_type": "code",
      "source": [
        "class Glass:\n",
        "  capacity = 100\n",
        "\n",
        "  def __init__(self, quantity):\n",
        "    if quantity > self.capacity:\n",
        "      self.quantity = self.capacity\n",
        "    else:\n",
        "      self.quantity = quantity\n",
        "\n",
        "\n",
        "  def __add__(self, another_glass):\n",
        "    new_quantity =  self.quantity + another_glass.quantity\n",
        "    if new_quantity > self.capacity:\n",
        "      self.quantity =  self.capacity\n",
        "    else:\n",
        "      self.quantity = new_quantity\n",
        "\n",
        "  def __eq__(self, another_glass):\n",
        "    return self.quantity == another_glass.quantity\n",
        "\n",
        "  def __repr__(self):\n",
        "    return f\"This glass has {self.quantity} ml of water with total capacity of {self.capacity} ml.\"\n",
        "\n",
        "g1 = Glass(40)\n",
        "g2 = Glass(40)\n",
        "\n",
        "# g1 + g2\n",
        "\n",
        "# g1 == g2\n",
        "\n",
        "print(g1)\n",
        "print(g2)"
      ],
      "metadata": {
        "colab": {
          "base_uri": "https://localhost:8080/"
        },
        "id": "lD8P9j8eqYh-",
        "outputId": "4fc4acbb-94fe-44f6-aaff-78f88e2bb477"
      },
      "execution_count": null,
      "outputs": [
        {
          "output_type": "stream",
          "name": "stdout",
          "text": [
            "This glass has 40 ml of water with total capacity of 100 ml.\n",
            "This glass has 40 ml of water with total capacity of 100 ml.\n"
          ]
        }
      ]
    },
    {
      "cell_type": "markdown",
      "source": [
        "##**Function Overloading**"
      ],
      "metadata": {
        "id": "3Ml_daMxrKBk"
      }
    },
    {
      "cell_type": "code",
      "source": [
        "class Animal:\n",
        "  def speak(self):\n",
        "    print(\"Animal is speaking.\")\n",
        "\n",
        "class Mammal(Animal):\n",
        "  def speak(self):\n",
        "    print(\"Mammal is speaking.\")\n",
        "\n",
        "class Cat(Mammal):\n",
        "  def speak(self):\n",
        "    print(\"Meow, Meow!\")\n",
        "\n",
        "class Dog(Mammal):\n",
        "  def speak(self):\n",
        "    print(\"Woof, woof\")\n",
        "\n",
        "class BullDog(Dog):\n",
        "  def speak(self):\n",
        "    print(\"Bulldog! woof\")\n",
        "\n",
        "class DoberMan(Dog):\n",
        "  def speak(self):\n",
        "    print(\"Doberman Woof! Woof\")\n",
        "\n",
        "\n",
        "class HybridDog(BullDog, DoberMan):\n",
        "  pass"
      ],
      "metadata": {
        "id": "NdF0LYzYp-mT"
      },
      "execution_count": null,
      "outputs": []
    },
    {
      "cell_type": "code",
      "source": [
        "c1 = Cat()\n",
        "c1.speak()"
      ],
      "metadata": {
        "colab": {
          "base_uri": "https://localhost:8080/"
        },
        "id": "gvUtWI-orA2x",
        "outputId": "dd526668-8fde-4bd1-95e4-c2ac0358d9e4"
      },
      "execution_count": null,
      "outputs": [
        {
          "output_type": "stream",
          "name": "stdout",
          "text": [
            "Meow, Meow!\n"
          ]
        }
      ]
    },
    {
      "cell_type": "code",
      "source": [
        "h1 = HybridDog()\n",
        "h1.speak()"
      ],
      "metadata": {
        "colab": {
          "base_uri": "https://localhost:8080/"
        },
        "id": "nC3p5vwvrNS5",
        "outputId": "79c44a7b-55b5-4085-a15c-6c160833f17b"
      },
      "execution_count": null,
      "outputs": [
        {
          "output_type": "stream",
          "name": "stdout",
          "text": [
            "Bulldog! woof\n"
          ]
        }
      ]
    },
    {
      "cell_type": "markdown",
      "source": [
        "##**Encapsulation**"
      ],
      "metadata": {
        "id": "2AsZKUTSt5gB"
      }
    },
    {
      "cell_type": "code",
      "source": [
        "class Person:\n",
        "  def __init__(self, name, gender):\n",
        "    self.__name = name\n",
        "    self.__gender = gender\n",
        "\n",
        "  def get_name(self):\n",
        "    return self.__name\n",
        "\n",
        "  def change_name(self, name):\n",
        "    self.__name = name\n",
        "\n",
        "p1 = Person(\"Pranisha\", \"F\")\n",
        "p1.get_name()\n",
        "\n",
        "p1.change_name = ('pranishi')\n",
        "p1.get_name()\n",
        "\n"
      ],
      "metadata": {
        "colab": {
          "base_uri": "https://localhost:8080/",
          "height": 36
        },
        "id": "RWrAlIeXt9y2",
        "outputId": "db28f59e-a523-44e3-ef01-f111ffc79214"
      },
      "execution_count": null,
      "outputs": [
        {
          "output_type": "execute_result",
          "data": {
            "text/plain": [
              "'Pranisha'"
            ],
            "application/vnd.google.colaboratory.intrinsic+json": {
              "type": "string"
            }
          },
          "metadata": {},
          "execution_count": 15
        }
      ]
    },
    {
      "cell_type": "code",
      "source": [
        "def fib(n):\n",
        "  if n == 1 or n == 2:\n",
        "    return 1\n",
        "  else:\n",
        "    return fib(n-1) - fib(n-2)\n",
        "\n",
        "\n",
        "print(fib(10))"
      ],
      "metadata": {
        "colab": {
          "base_uri": "https://localhost:8080/"
        },
        "id": "q5LAnwbDw75U",
        "outputId": "1f9beef8-f347-43a4-f921-455c07268074"
      },
      "execution_count": null,
      "outputs": [
        {
          "output_type": "stream",
          "name": "stdout",
          "text": [
            "-1\n"
          ]
        }
      ]
    },
    {
      "cell_type": "code",
      "source": [
        "class BankAccount:\n",
        "  def __init__(self, balance):\n",
        "    self.__balance = balance\n",
        "\n",
        "\n",
        "  def deposit(self, amount):\n",
        "    self.__balance = amount\n",
        "\n",
        "\n",
        "  def withdraw(self, amount):\n",
        "    self.__balance -= amount\n",
        "\n",
        "\n",
        "  def check_balance(self):\n",
        "    return self.__balance"
      ],
      "metadata": {
        "id": "7U1I3XLCyYev"
      },
      "execution_count": null,
      "outputs": []
    },
    {
      "cell_type": "code",
      "source": [
        "b1 = BankAccount(1000)\n",
        "b1.check_balance()\n",
        "b1.deposit(500)\n",
        "b1.check_balance()\n",
        "b1.withdraw(20000)\n",
        "b1.check_balance()\n"
      ],
      "metadata": {
        "colab": {
          "base_uri": "https://localhost:8080/"
        },
        "id": "icWfhuSw1S_i",
        "outputId": "74db1f1f-5c44-449d-846d-07f141a68973"
      },
      "execution_count": null,
      "outputs": [
        {
          "output_type": "execute_result",
          "data": {
            "text/plain": [
              "-19500"
            ]
          },
          "metadata": {},
          "execution_count": 22
        }
      ]
    },
    {
      "cell_type": "markdown",
      "source": [
        "##**Error Handling and Debugging**"
      ],
      "metadata": {
        "id": "kdPjouoj1u5F"
      }
    },
    {
      "cell_type": "code",
      "source": [
        "#try-except blocks\n",
        "\n",
        "try:\n",
        "  age = int(input(\"Enter your age: \"))\n",
        "  print(f\"Your age is: {age}\")\n",
        "\n",
        "except:\n",
        "  print(\"Invalid age.\")"
      ],
      "metadata": {
        "colab": {
          "base_uri": "https://localhost:8080/"
        },
        "id": "CKOYSs6R1yKs",
        "outputId": "a126fb76-3fcf-47eb-fb95-df7f6925c54f"
      },
      "execution_count": null,
      "outputs": [
        {
          "output_type": "stream",
          "name": "stdout",
          "text": [
            "Enter your age: dsa\n",
            "Invalid age.\n"
          ]
        }
      ]
    },
    {
      "cell_type": "code",
      "source": [
        "try:\n",
        "  print(\"10\"/0)\n",
        "\n",
        "except:\n",
        "  print(\"Error\")"
      ],
      "metadata": {
        "colab": {
          "base_uri": "https://localhost:8080/"
        },
        "id": "aC9sLht94oLL",
        "outputId": "fc91229d-bb9d-4195-b7f0-3a5823314ef9"
      },
      "execution_count": null,
      "outputs": [
        {
          "output_type": "stream",
          "name": "stdout",
          "text": [
            "Error\n"
          ]
        }
      ]
    },
    {
      "cell_type": "markdown",
      "source": [
        "Catching Specific Exceptions"
      ],
      "metadata": {
        "id": "ZnJq6nCd9Sz-"
      }
    },
    {
      "cell_type": "code",
      "source": [
        "try: #tries for code\n",
        "  age = int(input(\"Enter your age: \"))\n",
        "  div = 10/age\n",
        "  d1 = {\n",
        "      \"a\" : 20,\n",
        "      \"b\" : 30\n",
        "  }\n",
        "  print(d1[\"c\"])\n",
        "except ValueError as err: #except: catches error.\n",
        "  print(\"Value Error occured.\", err)\n",
        "except KeyError as err:\n",
        "  print(\"Key Error occured.\", err)\n",
        "except ZeroDivisionError as err:\n",
        "  print(\"Division by zero not possible.\", err)\n"
      ],
      "metadata": {
        "id": "NZfeZX7-48i3",
        "colab": {
          "base_uri": "https://localhost:8080/"
        },
        "outputId": "8d01c8b5-ad0d-4287-9bd5-96b4cca8c8fd"
      },
      "execution_count": null,
      "outputs": [
        {
          "output_type": "stream",
          "name": "stdout",
          "text": [
            "Enter your age: 10\n",
            "Key Error occured. 'c'\n"
          ]
        }
      ]
    },
    {
      "cell_type": "code",
      "source": [
        "raise #throws error(rethrows)"
      ],
      "metadata": {
        "colab": {
          "base_uri": "https://localhost:8080/",
          "height": 141
        },
        "id": "UBYpjP-U_D57",
        "outputId": "88c67bf6-99f9-4745-d90a-709aa9a489b4"
      },
      "execution_count": null,
      "outputs": [
        {
          "output_type": "error",
          "ename": "RuntimeError",
          "evalue": "No active exception to reraise",
          "traceback": [
            "\u001b[0;31m---------------------------------------------------------------------------\u001b[0m",
            "\u001b[0;31mRuntimeError\u001b[0m                              Traceback (most recent call last)",
            "\u001b[0;32m/tmp/ipython-input-1991072157.py\u001b[0m in \u001b[0;36m<cell line: 0>\u001b[0;34m()\u001b[0m\n\u001b[0;32m----> 1\u001b[0;31m \u001b[0;32mraise\u001b[0m \u001b[0;31m#throws error\u001b[0m\u001b[0;34m\u001b[0m\u001b[0;34m\u001b[0m\u001b[0m\n\u001b[0m",
            "\u001b[0;31mRuntimeError\u001b[0m: No active exception to reraise"
          ]
        }
      ]
    },
    {
      "cell_type": "code",
      "source": [
        "try:\n",
        "  with open(\"test.txt\", \"r\") as f:\n",
        "    content = f.read()\n",
        "\n",
        "except FileNotFoundError as err: #error is an object.\n",
        "  print(\"file not found error,\", err.filename)\n",
        "\n",
        "else:\n",
        "  print(\"Successfully read the content.\")\n",
        "  print(content)"
      ],
      "metadata": {
        "colab": {
          "base_uri": "https://localhost:8080/"
        },
        "id": "05XmiJpL_uiq",
        "outputId": "cb019996-5828-481a-8081-f9ebbd0ba952"
      },
      "execution_count": null,
      "outputs": [
        {
          "output_type": "stream",
          "name": "stdout",
          "text": [
            "file not found error, test.txt\n"
          ]
        }
      ]
    },
    {
      "cell_type": "code",
      "source": [
        "try:\n",
        "  f = open(\"text.txt\", \"r\")\n",
        "  content = f.read()\n",
        "\n",
        "except FileNotFoundError as err: #error is an object.\n",
        "  print(\"file not found error,\", err.filename)\n",
        "\n",
        "else:\n",
        "  print(\"Successfully read the content.\")\n",
        "  print(content)\n",
        "\n",
        "finally:\n",
        "  print(\"Closing file.\")\n",
        "  f.close()\n"
      ],
      "metadata": {
        "colab": {
          "base_uri": "https://localhost:8080/"
        },
        "id": "M_ROK4U4CyEn",
        "outputId": "7bedaadf-4c46-46ab-df48-3cc2e6ce3af3"
      },
      "execution_count": null,
      "outputs": [
        {
          "output_type": "stream",
          "name": "stdout",
          "text": [
            "file not found error, text.txt\n",
            "Closing file.\n"
          ]
        }
      ]
    },
    {
      "cell_type": "markdown",
      "source": [
        "Custom Exceptions"
      ],
      "metadata": {
        "id": "TLQi3_h3IxJi"
      }
    },
    {
      "cell_type": "code",
      "source": [
        "class DateOfBirthError(Exception):\n",
        "  pass\n",
        "\n",
        "# try:\n",
        "#   raise DateOfBirthError()\n",
        "\n",
        "# except DateOfBirthError as err:\n",
        "#   print(\"error occurred\", err)\n"
      ],
      "metadata": {
        "id": "v37F8V21IwBh"
      },
      "execution_count": null,
      "outputs": []
    },
    {
      "cell_type": "code",
      "source": [
        "1980-12-30"
      ],
      "metadata": {
        "id": "7ebOC2pOJeV8"
      },
      "execution_count": null,
      "outputs": []
    },
    {
      "cell_type": "code",
      "source": [
        "def check_dob(date_str):\n",
        "  date_list = date_str.split(\"-\")\n",
        "  year = int(date_list[0])\n",
        "  if year < 1900:\n",
        "    raise DateOfBirthError(\"Birth cannot be berfore 1900\")\n",
        "\n",
        "  else:\n",
        "    print(\"Valid date of birth.\")\n",
        "\n"
      ],
      "metadata": {
        "id": "_K5MA3WwJXfE"
      },
      "execution_count": null,
      "outputs": []
    },
    {
      "cell_type": "code",
      "source": [
        "try:\n",
        "  check_dob(\"1900-12-30\")\n",
        "except DateOfBirthError as err:\n",
        "  print(\"invalid DOB\", err)"
      ],
      "metadata": {
        "colab": {
          "base_uri": "https://localhost:8080/"
        },
        "id": "KNZISc1-KnKx",
        "outputId": "7a5aa3c5-a1e2-4b87-d539-fac80eefc5ec"
      },
      "execution_count": null,
      "outputs": [
        {
          "output_type": "stream",
          "name": "stdout",
          "text": [
            "Valid date of birth.\n"
          ]
        }
      ]
    },
    {
      "cell_type": "code",
      "source": [
        "myList = \"apple-23-xyz\".split(\"-\")\n",
        "myList"
      ],
      "metadata": {
        "colab": {
          "base_uri": "https://localhost:8080/"
        },
        "id": "ZTBC0iFlLIa5",
        "outputId": "717c97eb-4306-4fca-a36c-abfb51b8e814"
      },
      "execution_count": null,
      "outputs": [
        {
          "output_type": "execute_result",
          "data": {
            "text/plain": [
              "['apple', '23', 'xyz']"
            ]
          },
          "metadata": {},
          "execution_count": 34
        }
      ]
    },
    {
      "cell_type": "code",
      "source": [
        "\"_\".join(myList)"
      ],
      "metadata": {
        "colab": {
          "base_uri": "https://localhost:8080/",
          "height": 36
        },
        "id": "Bh5eXVJwLXqe",
        "outputId": "79802010-927c-4d05-a273-5a1c34395519"
      },
      "execution_count": null,
      "outputs": [
        {
          "output_type": "execute_result",
          "data": {
            "text/plain": [
              "'apple_23_xyz'"
            ],
            "application/vnd.google.colaboratory.intrinsic+json": {
              "type": "string"
            }
          },
          "metadata": {},
          "execution_count": 36
        }
      ]
    },
    {
      "cell_type": "markdown",
      "source": [
        "##IN-Depth Topics"
      ],
      "metadata": {
        "id": "54_bTnSYGuhG"
      }
    },
    {
      "cell_type": "code",
      "source": [
        "mylambda = lambda x: x ** 2 if x % 2 == 0 else x\n",
        "\n",
        "# mylambda(8)\n",
        "\n",
        "\n",
        "t1 = (1, 6, 8, 9, 14)\n",
        "obj = map(mylambda, t1)\n",
        "tuple(obj)\n"
      ],
      "metadata": {
        "colab": {
          "base_uri": "https://localhost:8080/"
        },
        "id": "4X4paucIGxr2",
        "outputId": "df2edb7d-ae09-45b9-9ee7-3366b721da49"
      },
      "execution_count": null,
      "outputs": [
        {
          "output_type": "execute_result",
          "data": {
            "text/plain": [
              "(1, 36, 64, 9, 196)"
            ]
          },
          "metadata": {},
          "execution_count": 3
        }
      ]
    },
    {
      "cell_type": "code",
      "source": [
        "t1 = (1, 6, 8, 9, 14)\n",
        "obj = map(lambda x: x ** 2 if x % 2 == 0 else x, t1)\n",
        "tuple(obj)"
      ],
      "metadata": {
        "colab": {
          "base_uri": "https://localhost:8080/"
        },
        "id": "laBIGzDqHjCD",
        "outputId": "2b979793-c475-47bb-d6bc-4547079a0e7f"
      },
      "execution_count": null,
      "outputs": [
        {
          "output_type": "execute_result",
          "data": {
            "text/plain": [
              "(1, 36, 64, 9, 196)"
            ]
          },
          "metadata": {},
          "execution_count": 6
        }
      ]
    },
    {
      "cell_type": "markdown",
      "source": [
        "filter"
      ],
      "metadata": {
        "id": "0Z-i6NI7JFGA"
      }
    },
    {
      "cell_type": "code",
      "source": [
        "t1 = (1, 6, 8, 9, 14 )\n",
        "obj = filter(lambda x:  x % 2 == 0 , t1)\n",
        "tuple(obj)"
      ],
      "metadata": {
        "colab": {
          "base_uri": "https://localhost:8080/"
        },
        "id": "wQekX8Z8JF2B",
        "outputId": "1a73f7a5-22ff-4f23-e75f-a33cd86bbfd8"
      },
      "execution_count": null,
      "outputs": [
        {
          "output_type": "execute_result",
          "data": {
            "text/plain": [
              "(6, 8, 14)"
            ]
          },
          "metadata": {},
          "execution_count": 8
        }
      ]
    },
    {
      "cell_type": "markdown",
      "source": [
        "##sorted - - > converts tuple to list"
      ],
      "metadata": {
        "id": "dn4NdPhsJhJ3"
      }
    },
    {
      "cell_type": "code",
      "source": [
        "mytuple = ((1, 'apple'), (5, 'mango'), (3, 'orange'), (8, 'pineapple'))\n",
        "\n",
        "sorted(mytuple, key = lambda x: x[1])"
      ],
      "metadata": {
        "colab": {
          "base_uri": "https://localhost:8080/"
        },
        "id": "kwvPcw8nJeao",
        "outputId": "702d6f43-b78f-44c5-9a6f-4d80d89f6e6b"
      },
      "execution_count": null,
      "outputs": [
        {
          "output_type": "execute_result",
          "data": {
            "text/plain": [
              "[(1, 'apple'), (5, 'mango'), (3, 'orange'), (8, 'pineapple')]"
            ]
          },
          "metadata": {},
          "execution_count": 14
        }
      ]
    },
    {
      "cell_type": "code",
      "source": [
        "mytuple = ((1, 'apple'), (5, 'mango'), (3, 'orange'), (8, 'pineapple'))\n",
        "\n",
        "sorted(mytuple, key = lambda item: len(item[1]), reverse = True)"
      ],
      "metadata": {
        "colab": {
          "base_uri": "https://localhost:8080/"
        },
        "id": "_2Lz5fBtK2H9",
        "outputId": "a66f6c37-493b-40ae-e2d9-c8b74e90b3c7"
      },
      "execution_count": null,
      "outputs": [
        {
          "output_type": "execute_result",
          "data": {
            "text/plain": [
              "[(8, 'pineapple'), (3, 'orange'), (1, 'apple'), (5, 'mango')]"
            ]
          },
          "metadata": {},
          "execution_count": 23
        }
      ]
    },
    {
      "cell_type": "markdown",
      "source": [
        "##Generators"
      ],
      "metadata": {
        "id": "TAAWEhrnMV2m"
      }
    },
    {
      "cell_type": "code",
      "source": [
        "def count_up_to(n):\n",
        "  count = 1\n",
        "  print(\"Loop Start:\")\n",
        "  while count <= n:\n",
        "    yield count\n",
        "    print(\"Count:\", count)\n",
        "    count += 1\n",
        "\n",
        "my_gen = count_up_to(5)"
      ],
      "metadata": {
        "id": "Xk1wmz5CMSsE"
      },
      "execution_count": null,
      "outputs": []
    },
    {
      "cell_type": "code",
      "source": [
        "# next(my_gen)\n",
        "\n",
        "for i in my_gen:\n",
        "  print(i)"
      ],
      "metadata": {
        "colab": {
          "base_uri": "https://localhost:8080/"
        },
        "id": "FMhzi2ZuN5vo",
        "outputId": "147d36aa-9a26-4af4-ff4d-b7cdf53c6a5d"
      },
      "execution_count": null,
      "outputs": [
        {
          "output_type": "stream",
          "name": "stdout",
          "text": [
            "Loop Start:\n",
            "1\n",
            "Count: 1\n",
            "2\n",
            "Count: 2\n",
            "3\n",
            "Count: 3\n",
            "4\n",
            "Count: 4\n",
            "5\n",
            "Count: 5\n"
          ]
        }
      ]
    },
    {
      "cell_type": "markdown",
      "source": [
        "##Generator Expression"
      ],
      "metadata": {
        "id": "zFa-f6WVQQUN"
      }
    },
    {
      "cell_type": "code",
      "source": [
        "cubes = (i ** 3 for i in range(10))\n",
        "cubes"
      ],
      "metadata": {
        "colab": {
          "base_uri": "https://localhost:8080/"
        },
        "id": "iBRwjJ9lQURZ",
        "outputId": "96155bcc-b6af-4e4d-e259-6ac7f056d3d6"
      },
      "execution_count": null,
      "outputs": [
        {
          "output_type": "execute_result",
          "data": {
            "text/plain": [
              "<generator object <genexpr> at 0x7dfc9e2d2670>"
            ]
          },
          "metadata": {},
          "execution_count": 46
        }
      ]
    },
    {
      "cell_type": "code",
      "source": [
        "for i in cubes:\n",
        "  print(i)"
      ],
      "metadata": {
        "colab": {
          "base_uri": "https://localhost:8080/"
        },
        "id": "B_8NKva5Qgxz",
        "outputId": "43b45239-dd13-4c7a-cbce-a76451d833ff"
      },
      "execution_count": null,
      "outputs": [
        {
          "output_type": "stream",
          "name": "stdout",
          "text": [
            "0\n",
            "1\n",
            "8\n",
            "27\n",
            "64\n",
            "125\n",
            "216\n",
            "343\n",
            "512\n",
            "729\n"
          ]
        }
      ]
    },
    {
      "cell_type": "markdown",
      "source": [
        "##iterators"
      ],
      "metadata": {
        "id": "gK1-YEnwS8gm"
      }
    },
    {
      "cell_type": "code",
      "source": [
        "fruits = ['apple', 'banana', 'mango', \"orange\", 'litchi']\n",
        "it = iter(fruits)"
      ],
      "metadata": {
        "id": "efTd_WiqRIx0"
      },
      "execution_count": null,
      "outputs": []
    },
    {
      "cell_type": "code",
      "source": [
        "next(it)"
      ],
      "metadata": {
        "colab": {
          "base_uri": "https://localhost:8080/",
          "height": 36
        },
        "id": "SxmHQl7UTK4Z",
        "outputId": "5e939d32-2cbf-40e1-c6c0-30857cfe6c8d"
      },
      "execution_count": null,
      "outputs": [
        {
          "output_type": "execute_result",
          "data": {
            "text/plain": [
              "'mango'"
            ],
            "application/vnd.google.colaboratory.intrinsic+json": {
              "type": "string"
            }
          },
          "metadata": {},
          "execution_count": 52
        }
      ]
    },
    {
      "cell_type": "markdown",
      "source": [
        "##Custom Iterator"
      ],
      "metadata": {
        "id": "zX0_GQfKUI73"
      }
    },
    {
      "cell_type": "code",
      "source": [
        "class MyRange:\n",
        "  def __init__(self, start, end, step = 1):\n",
        "    self.start = start\n",
        "    self.end = end\n",
        "    self.step = step\n",
        "    self.current = start\n",
        "\n",
        "  def __iter__(self):\n",
        "    return self\n",
        "\n",
        "  def __next__(self):\n",
        "    if self.current >= self.start and self.current < self.end:\n",
        "      num = self.current\n",
        "      self.current += self.step\n",
        "      return num\n",
        "\n",
        "    else:\n",
        "      raise StopIteration"
      ],
      "metadata": {
        "id": "EYHvZWIPULrO"
      },
      "execution_count": null,
      "outputs": []
    },
    {
      "cell_type": "code",
      "source": [
        "for i in MyRange(10, 15, 2):\n",
        "  print(i)"
      ],
      "metadata": {
        "colab": {
          "base_uri": "https://localhost:8080/"
        },
        "id": "74n-9uxVVL9K",
        "outputId": "b40680bc-b02b-4569-9978-4dfa991cdd8c"
      },
      "execution_count": null,
      "outputs": [
        {
          "output_type": "stream",
          "name": "stdout",
          "text": [
            "10\n",
            "12\n",
            "14\n"
          ]
        }
      ]
    }
  ]
}