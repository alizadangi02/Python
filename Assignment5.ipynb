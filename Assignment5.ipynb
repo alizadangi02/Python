{
  "nbformat": 4,
  "nbformat_minor": 0,
  "metadata": {
    "colab": {
      "provenance": [],
      "authorship_tag": "ABX9TyNGOIxtXgDWGMHyNkbjErTY",
      "include_colab_link": true
    },
    "kernelspec": {
      "name": "python3",
      "display_name": "Python 3"
    },
    "language_info": {
      "name": "python"
    }
  },
  "cells": [
    {
      "cell_type": "markdown",
      "metadata": {
        "id": "view-in-github",
        "colab_type": "text"
      },
      "source": [
        "<a href=\"https://colab.research.google.com/github/alizadangi02/Python/blob/main/Assignment5.ipynb\" target=\"_parent\"><img src=\"https://colab.research.google.com/assets/colab-badge.svg\" alt=\"Open In Colab\"/></a>"
      ]
    },
    {
      "cell_type": "markdown",
      "source": [
        "##1. Text File Reading & Writing\n",
        "\n",
        "Write a Python program to create a text file named \"notes.txt\", write at least 5 lines of text into it, and then read and display the content on the screen."
      ],
      "metadata": {
        "id": "NjUqfTSY9Kl9"
      }
    },
    {
      "cell_type": "code",
      "execution_count": null,
      "metadata": {
        "colab": {
          "base_uri": "https://localhost:8080/"
        },
        "id": "ycORknFT6uUP",
        "outputId": "e3aeb1b9-39ca-459b-b14d-18e9c3f610bf"
      },
      "outputs": [
        {
          "output_type": "stream",
          "name": "stdout",
          "text": [
            "The content of notes.txt is:\n",
            "\n",
            "\n",
            " Python is a powerful programming language.\n",
            " It is widely used in data science and machine learning.\n",
            " Python makes file handling very simple.\n",
            " You can use open(), read(), and write() functions.\n",
            " This file demonstrates reading and writing in Python.\n",
            "\n"
          ]
        }
      ],
      "source": [
        "with open(\"notes.txt\", \"w\") as file:\n",
        "    file.write(\"\\n Python is a powerful programming language.\\n \"\n",
        "               \"It is widely used in data science and machine learning.\\n \"\n",
        "               \"Python makes file handling very simple.\\n \"\n",
        "               \"You can use open(), read(), and write() functions.\\n \"\n",
        "               \"This file demonstrates reading and writing in Python.\\n\")\n",
        "\n",
        "with open(\"notes.txt\", \"r\") as file:\n",
        "    content = file.read()\n",
        "    print(\"The content of notes.txt is:\\n\")\n",
        "    print(content)\n"
      ]
    },
    {
      "cell_type": "markdown",
      "source": [
        "##2. File Modes\n",
        " Write a Python program to open the file \"notes.txt\" in append mode and add 2 more lines of text. Then open it in read mode and display all the contents."
      ],
      "metadata": {
        "id": "7iHFOeni93qj"
      }
    },
    {
      "cell_type": "code",
      "source": [
        "with open(\"notes.txt\", \"a\") as file:\n",
        "    file.write(\"\\n Python is also great for web development.\")\n",
        "    file.write(\"\\n It supports frameworks like Django and Flask.\")\n",
        "\n",
        "with open(\"notes.txt\", \"r\") as file:\n",
        "    content = file.read()\n",
        "    print(\"The updated content of notes.txt is:\\n\")\n",
        "    print(content)\n"
      ],
      "metadata": {
        "colab": {
          "base_uri": "https://localhost:8080/"
        },
        "id": "2EO0foM495w7",
        "outputId": "36c1cf62-ac40-4a68-b4de-1e3089686749"
      },
      "execution_count": null,
      "outputs": [
        {
          "output_type": "stream",
          "name": "stdout",
          "text": [
            "The updated content of notes.txt is:\n",
            "\n",
            "\n",
            " Python is a powerful programming language.\n",
            " It is widely used in data science and machine learning.\n",
            " Python makes file handling very simple.\n",
            " You can use open(), read(), and write() functions.\n",
            " This file demonstrates reading and writing in Python.\n",
            "\n",
            " Python is also great for web development.\n",
            " It supports frameworks like Django and Flask.\n"
          ]
        }
      ]
    },
    {
      "cell_type": "markdown",
      "source": [
        "##3. File Path Handling with os\n",
        " Write a Python program that:\n",
        "\n",
        "Uses the os module to check if a file named \"notes.txt\" exists in the current directory.\n",
        "\n",
        "If it exists, print its absolute file path.\n",
        "\n",
        "If it does not exist, display a message: \"File not found\"."
      ],
      "metadata": {
        "id": "xmmgSLtZ95Da"
      }
    },
    {
      "cell_type": "code",
      "source": [
        "import os\n",
        "\n",
        "filename = \"notes.txt\"\n",
        "\n",
        "if os.path.exists(filename):\n",
        "    abs_path = os.path.abspath(filename)\n",
        "    print(f\"The file '{filename}' exists.\")\n",
        "    print(\"Absolute file path:\", abs_path)\n",
        "else:\n",
        "    print(\"File not found\")\n"
      ],
      "metadata": {
        "colab": {
          "base_uri": "https://localhost:8080/"
        },
        "id": "-MC3kjT7-amT",
        "outputId": "4f131437-691b-4e85-e6b3-2652c2343ac8"
      },
      "execution_count": null,
      "outputs": [
        {
          "output_type": "stream",
          "name": "stdout",
          "text": [
            "The file 'notes.txt' exists.\n",
            "Absolute file path: /content/notes.txt\n"
          ]
        }
      ]
    },
    {
      "cell_type": "markdown",
      "source": [
        "##4. Reading & Writing CSV Files\n",
        " Create a CSV file named \"students.csv\" with the following data:\n",
        " Name, Age, Grade\n",
        " Add at least 3 rows of data. Then, write a Python program to:\n",
        "\n",
        "Read the CSV file using csv.reader\n",
        "\n",
        "Display each row in a readable format."
      ],
      "metadata": {
        "id": "-HfrP52O-pTL"
      }
    },
    {
      "cell_type": "code",
      "source": [
        "import csv\n",
        "\n",
        "with open(\"students.csv\", \"w\", newline=\"\") as file:\n",
        "    writer = csv.writer(file)\n",
        "\n",
        "    writer.writerow([\"Name\", \"Age\", \"Grade\"]) #for header\n",
        "\n",
        "\n",
        "    writer.writerow([\"Aliza\", 21, \"B\"]) #for rows\n",
        "    writer.writerow([\"Pranisha\", 20, \"A\"])\n",
        "    writer.writerow([\"Manvika\", 20, \"A\"])\n",
        "\n",
        "with open(\"students.csv\", \"r\") as file:\n",
        "    reader = csv.reader(file)\n",
        "    print(\"Contents of students.csv:\\n\")\n",
        "    for row in reader:\n",
        "        print(\", \".join(row))\n"
      ],
      "metadata": {
        "colab": {
          "base_uri": "https://localhost:8080/"
        },
        "id": "q3afChp5-aj7",
        "outputId": "5d414944-f9d7-4240-c75a-23b92848f590"
      },
      "execution_count": null,
      "outputs": [
        {
          "output_type": "stream",
          "name": "stdout",
          "text": [
            "Contents of students.csv:\n",
            "\n",
            "Name, Age, Grade\n",
            "Aliza, 21, B\n",
            "Pranisha, 20, A\n",
            "Manvika, 20, A\n"
          ]
        }
      ]
    },
    {
      "cell_type": "markdown",
      "source": [
        "##5. CSV with Dictionary Reader & Writer\n",
        " Write a Python program that:\n",
        "\n",
        "Creates a CSV file named \"employees.csv\" using csv.DictWriter with columns: Name, Department, Salary.\n",
        "\n",
        "Adds at least 3 employee records.\n",
        "\n",
        "Reads the file back using csv.DictReader and prints each record."
      ],
      "metadata": {
        "id": "AVf16xy3_0tr"
      }
    },
    {
      "cell_type": "code",
      "source": [
        "import csv\n",
        "\n",
        "with open(\"employees.csv\", \"w\", newline=\"\") as file:\n",
        "    fieldnames = [\"Name\", \"Department\", \"Salary\"]\n",
        "    writer = csv.DictWriter(file, fieldnames=fieldnames)\n",
        "\n",
        "    writer.writeheader()\n",
        "\n",
        "    writer.writerow({\"Name\": \"Aliza\", \"Department\": \"HR\", \"Salary\": 40000})\n",
        "    writer.writerow({\"Name\": \"Pranisha\", \"Department\": \"IT\", \"Salary\": 55000})\n",
        "    writer.writerow({\"Name\": \"Manvika\", \"Department\": \"Finance\", \"Salary\": 50000})\n",
        "\n",
        "with open(\"employees.csv\", \"r\") as file:\n",
        "    reader = csv.DictReader(file)\n",
        "    print(\"Employee Records:\\n\")\n",
        "    for row in reader:\n",
        "        print(f\"Name: {row['Name']}, Department: {row['Department']}, Salary: {row['Salary']}\")\n"
      ],
      "metadata": {
        "colab": {
          "base_uri": "https://localhost:8080/"
        },
        "id": "cfYjtTJS_1JL",
        "outputId": "91ef3a7d-63a1-4583-c10a-88a7a8e40fdc"
      },
      "execution_count": null,
      "outputs": [
        {
          "output_type": "stream",
          "name": "stdout",
          "text": [
            "Employee Records:\n",
            "\n",
            "Name: Aliza, Department: HR, Salary: 40000\n",
            "Name: Pranisha, Department: IT, Salary: 55000\n",
            "Name: Manvika, Department: Finance, Salary: 50000\n"
          ]
        }
      ]
    },
    {
      "cell_type": "markdown",
      "source": [
        "##6. JSON File Handling\n",
        " Write a Python program that:\n",
        "\n",
        "Creates a Python dictionary containing at least 3 people's details: name, age, and city.\n",
        "\n",
        "Saves this dictionary into a file named \"people.json\" using the json module.\n",
        "\n",
        "Reads the file back and displays the data in a user-friendly format."
      ],
      "metadata": {
        "id": "HUbvfXpDAKKM"
      }
    },
    {
      "cell_type": "code",
      "source": [
        "import json\n",
        "\n",
        "people = {\n",
        "    \"persons\": [\n",
        "        {\"name\": \"Aliza\", \"age\": 25, \"city\": \"Kathmandu\"},\n",
        "        {\"name\": \"Pranisha\", \"age\": 21, \"city\": \"Pokhara\"},\n",
        "        {\"name\": \"Manvika\", \"age\": 22, \"city\": \"Lalitpur\"}\n",
        "    ]\n",
        "}\n",
        "\n",
        "with open(\"people.json\", \"w\") as file:\n",
        "    json.dump(people, file, indent=4)\n",
        "\n",
        "with open(\"people.json\", \"r\") as file:\n",
        "    data = json.load(file)\n",
        "\n",
        "print(\"People Details:\\n\")\n",
        "for person in data[\"persons\"]:\n",
        "    print(f\"Name: {person['name']}, Age: {person['age']}, City: {person['city']}\")\n"
      ],
      "metadata": {
        "colab": {
          "base_uri": "https://localhost:8080/"
        },
        "id": "lY_J8lmxAJ2L",
        "outputId": "c7ce5640-3479-4803-94c0-1f96468cf1ce"
      },
      "execution_count": null,
      "outputs": [
        {
          "output_type": "stream",
          "name": "stdout",
          "text": [
            "People Details:\n",
            "\n",
            "Name: Aliza, Age: 25, City: Kathmandu\n",
            "Name: Pranisha, Age: 21, City: Pokhara\n",
            "Name: Manvika, Age: 22, City: Lalitpur\n"
          ]
        }
      ]
    }
  ]
}