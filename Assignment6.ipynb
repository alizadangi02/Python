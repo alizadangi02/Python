{
  "nbformat": 4,
  "nbformat_minor": 0,
  "metadata": {
    "colab": {
      "provenance": [],
      "authorship_tag": "ABX9TyMjsKIAAM/bmYaMo/CqoEqf",
      "include_colab_link": true
    },
    "kernelspec": {
      "name": "python3",
      "display_name": "Python 3"
    },
    "language_info": {
      "name": "python"
    }
  },
  "cells": [
    {
      "cell_type": "markdown",
      "metadata": {
        "id": "view-in-github",
        "colab_type": "text"
      },
      "source": [
        "<a href=\"https://colab.research.google.com/github/alizadangi02/Python/blob/main/Assignment6.ipynb\" target=\"_parent\"><img src=\"https://colab.research.google.com/assets/colab-badge.svg\" alt=\"Open In Colab\"/></a>"
      ]
    },
    {
      "cell_type": "markdown",
      "source": [
        "##**Object-Oriented Programming**"
      ],
      "metadata": {
        "id": "RBIxMr-vGCTr"
      }
    },
    {
      "cell_type": "markdown",
      "source": [
        "1. Create a Car class with attributes brand and model. Create two objects of this class and display their details."
      ],
      "metadata": {
        "id": "xTkR0z9xGJhW"
      }
    },
    {
      "cell_type": "code",
      "execution_count": 1,
      "metadata": {
        "colab": {
          "base_uri": "https://localhost:8080/"
        },
        "id": "bxFH0O8TF6mX",
        "outputId": "91256cb4-293a-4163-8b09-e7aadc3e4ed7"
      },
      "outputs": [
        {
          "output_type": "stream",
          "name": "stdout",
          "text": [
            "Car Brand: Toyota, Model: Corolla\n",
            "Car Brand: Tesla, Model: Model 3\n"
          ]
        }
      ],
      "source": [
        "class Car:\n",
        "    def __init__(self, brand, model):\n",
        "        self.brand = brand\n",
        "        self.model = model\n",
        "\n",
        "    def display_details(self):\n",
        "        print(f\"Car Brand: {self.brand}, Model: {self.model}\")\n",
        "\n",
        "\n",
        "car1 = Car(\"Toyota\", \"Corolla\")\n",
        "car2 = Car(\"Tesla\", \"Model 3\")\n",
        "\n",
        "car1.display_details()\n",
        "car2.display_details()\n"
      ]
    },
    {
      "cell_type": "markdown",
      "source": [
        "2. Demonstrate the difference between class attributes and object attributes using a Student class."
      ],
      "metadata": {
        "id": "LAGO4KlsGWp2"
      }
    },
    {
      "cell_type": "code",
      "source": [
        "class Student:\n",
        "    school_name = \"Herald College Kathmandu\"\n",
        "\n",
        "    def __init__(self, name, age):\n",
        "        self.name = name\n",
        "        self.age = age\n",
        "\n",
        "    def display(self):\n",
        "        print(f\"Name: {self.name}, Age: {self.age}, School: {Student.school_name}\")\n",
        "\n",
        "\n",
        "student1 = Student(\"Aliza\", 20)\n",
        "student2 = Student(\"lizbiz\", 22)\n",
        "\n",
        "student1.display()\n",
        "student2.display()\n",
        "\n",
        "student1.age = 21\n",
        "\n",
        "Student.school_name = \"Islington College\"\n",
        "\n",
        "print(\"\\nAfter modifications:\")\n",
        "student1.display()\n",
        "student2.display()\n"
      ],
      "metadata": {
        "colab": {
          "base_uri": "https://localhost:8080/"
        },
        "id": "8jGg1E4VGcR-",
        "outputId": "9fb2fd16-7962-411f-9ee3-bc67de0983ad"
      },
      "execution_count": 2,
      "outputs": [
        {
          "output_type": "stream",
          "name": "stdout",
          "text": [
            "Name: Aliza, Age: 20, School: Herald College Kathmandu\n",
            "Name: lizbiz, Age: 22, School: Herald College Kathmandu\n",
            "\n",
            "After modifications:\n",
            "Name: Aliza, Age: 21, School: Islington College\n",
            "Name: lizbiz, Age: 22, School: Islington College\n"
          ]
        }
      ]
    },
    {
      "cell_type": "markdown",
      "source": [
        "3. Write a class Person that initializes name and age using the __init__() method and displays them using a method show_info()."
      ],
      "metadata": {
        "id": "d94FhGvBGco2"
      }
    },
    {
      "cell_type": "code",
      "source": [
        "class Person:\n",
        "    def __init__(self, name, age):\n",
        "        self.name = name\n",
        "        self.age = age\n",
        "\n",
        "    def show_info(self):\n",
        "        print(f\"Name: {self.name}, Age: {self.age}\")\n",
        "\n",
        "\n",
        "person1 = Person(\"Aliza\", 20)\n",
        "person2 = Person(\"lizzybiz\", 25)\n",
        "\n",
        "person1.show_info()\n",
        "person2.show_info()\n"
      ],
      "metadata": {
        "colab": {
          "base_uri": "https://localhost:8080/"
        },
        "id": "X9RYVRPdG5Xm",
        "outputId": "a6d2d2bb-8372-429b-de07-189a0a7b30b5"
      },
      "execution_count": 3,
      "outputs": [
        {
          "output_type": "stream",
          "name": "stdout",
          "text": [
            "Name: Aliza, Age: 20\n",
            "Name: lizzybiz, Age: 25\n"
          ]
        }
      ]
    },
    {
      "cell_type": "markdown",
      "source": [
        "4. Create a Book class where a method uses the self keyword to access and modify the object’s attributes."
      ],
      "metadata": {
        "id": "vOdeidY4HCLG"
      }
    },
    {
      "cell_type": "code",
      "source": [
        "class Book:\n",
        "    def __init__(self, title, author):\n",
        "        self.title = title\n",
        "        self.author = author\n",
        "\n",
        "    def show_details(self):\n",
        "        print(f\"Book: {self.title}, Author: {self.author}\")\n",
        "\n",
        "    def update_title(self, new_title):\n",
        "        self.title = new_title\n",
        "        print(f\"Title updated to: {self.title}\")\n",
        "\n",
        "\n",
        "book1 = Book(\"Python Basics\", \"Guido van Rossum\")\n",
        "\n",
        "book1.show_details()\n",
        "\n",
        "book1.update_title(\"Advanced Python Programming\")\n",
        "\n",
        "book1.show_details()\n"
      ],
      "metadata": {
        "colab": {
          "base_uri": "https://localhost:8080/"
        },
        "id": "nX6cyx48HB9O",
        "outputId": "7cf648ab-198d-46af-f659-40d6c32f452f"
      },
      "execution_count": 4,
      "outputs": [
        {
          "output_type": "stream",
          "name": "stdout",
          "text": [
            "Book: Python Basics, Author: Guido van Rossum\n",
            "Title updated to: Advanced Python Programming\n",
            "Book: Advanced Python Programming, Author: Guido van Rossum\n"
          ]
        }
      ]
    },
    {
      "cell_type": "markdown",
      "source": [
        "5. Implement single inheritance: Create a Parent class and a Child class that inherits from it. Show method usage from both classes."
      ],
      "metadata": {
        "id": "fheXpP3PHVfP"
      }
    },
    {
      "cell_type": "code",
      "source": [
        "class Parent:\n",
        "    def __init__(self, name):\n",
        "        self.name = name\n",
        "\n",
        "    def show_parent_info(self):\n",
        "        print(f\"Parent Name: {self.name}\")\n",
        "\n",
        "\n",
        "class Child(Parent):\n",
        "    def __init__(self, name, age):\n",
        "        super().__init__(name)\n",
        "        self.age = age\n",
        "\n",
        "    def show_child_info(self):\n",
        "        print(f\"Child Name: {self.name}, Age: {self.age}\")\n",
        "\n",
        "\n",
        "child1 = Child(\"Aliza\", 20)\n",
        "\n",
        "child1.show_parent_info()\n",
        "\n",
        "child1.show_child_info()\n"
      ],
      "metadata": {
        "colab": {
          "base_uri": "https://localhost:8080/"
        },
        "id": "aXF_gDZ0HZjn",
        "outputId": "7d99e398-5138-4e3e-d8f9-a0534387a3ee"
      },
      "execution_count": 5,
      "outputs": [
        {
          "output_type": "stream",
          "name": "stdout",
          "text": [
            "Parent Name: Aliza\n",
            "Child Name: Aliza, Age: 20\n"
          ]
        }
      ]
    },
    {
      "cell_type": "markdown",
      "source": [
        "6. Implement multiple inheritance: Create two parent classes Teacher and Author. Then create a child class TeacherAuthor that inherits from both and shows the combined data."
      ],
      "metadata": {
        "id": "N_26e_hNHtn_"
      }
    },
    {
      "cell_type": "code",
      "source": [
        "class Teacher:\n",
        "    def __init__(self, subject):\n",
        "        self.subject = subject\n",
        "\n",
        "    def show_teacher_info(self):\n",
        "        print(f\"Teaches Subject: {self.subject}\")\n",
        "\n",
        "\n",
        "class Author:\n",
        "    def __init__(self, book):\n",
        "        self.book = book\n",
        "\n",
        "    def show_author_info(self):\n",
        "        print(f\"Author of Book: {self.book}\")\n",
        "\n",
        "\n",
        "class TeacherAuthor(Teacher, Author):\n",
        "    def __init__(self, subject, book, name):\n",
        "        Teacher.__init__(self, subject)\n",
        "        Author.__init__(self, book)\n",
        "        self.name = name\n",
        "\n",
        "    def show_all_info(self):\n",
        "        print(f\"Name: {self.name}\")\n",
        "        self.show_teacher_info()\n",
        "        self.show_author_info()\n",
        "\n",
        "\n",
        "person1 = TeacherAuthor(\"Mathematics\", \"Guido Van Rossum\", \"Aliza\")\n",
        "\n",
        "person1.show_all_info()\n"
      ],
      "metadata": {
        "colab": {
          "base_uri": "https://localhost:8080/"
        },
        "id": "uobV9dEMHy_-",
        "outputId": "8cec50eb-4104-403f-b71f-be2ffe6cf327"
      },
      "execution_count": 7,
      "outputs": [
        {
          "output_type": "stream",
          "name": "stdout",
          "text": [
            "Name: Aliza\n",
            "Teaches Subject: Mathematics\n",
            "Author of Book: Guido Van Rossum\n"
          ]
        }
      ]
    },
    {
      "cell_type": "markdown",
      "source": [
        "7. Create a class Shape with a method area(). Create subclasses Circle and Rectangle that override area() to compute actual areas. Demonstrate polymorphism by calling area() on a list of shapes."
      ],
      "metadata": {
        "id": "4K9d7ScsHyb2"
      }
    },
    {
      "cell_type": "code",
      "source": [
        "import math\n",
        "\n",
        "class Shape:\n",
        "    def area(self):\n",
        "        return 0\n",
        "\n",
        "class Circle(Shape):\n",
        "    def __init__(self, radius):\n",
        "        self.radius = radius\n",
        "\n",
        "    def area(self):\n",
        "        return math.pi * (self.radius ** 2)\n",
        "\n",
        "\n",
        "class Rectangle(Shape):\n",
        "    def __init__(self, length, width):\n",
        "        self.length = length\n",
        "        self.width = width\n",
        "\n",
        "    def area(self):\n",
        "        return self.length * self.width\n",
        "\n",
        "shapes = [Circle(5), Rectangle(4, 6), Circle(3)]\n",
        "\n",
        "for shape in shapes:\n",
        "    print(f\"Area: {shape.area():.2f}\")\n"
      ],
      "metadata": {
        "colab": {
          "base_uri": "https://localhost:8080/"
        },
        "id": "whpK7ouFIKFm",
        "outputId": "4534f3e3-b0bb-4d8e-f020-365b68046f1f"
      },
      "execution_count": 8,
      "outputs": [
        {
          "output_type": "stream",
          "name": "stdout",
          "text": [
            "Area: 78.54\n",
            "Area: 24.00\n",
            "Area: 28.27\n"
          ]
        }
      ]
    },
    {
      "cell_type": "markdown",
      "source": [
        "8. Implement operator overloading for a 2-dimensional Vector class with attributes x and y (x is for x-coordinate and y is for y-coordinate), so that the + operator can add two vectors. Also, define __repr__() method for string representation of this class."
      ],
      "metadata": {
        "id": "CNWYxQ8sIXSe"
      }
    },
    {
      "cell_type": "code",
      "source": [
        "class Vector:\n",
        "    def __init__(self, x, y):\n",
        "        self.x = x\n",
        "        self.y = y\n",
        "\n",
        "    def __add__(self, other):\n",
        "        return Vector(self.x + other.x, self.y + other.y)\n",
        "\n",
        "    def __repr__(self):\n",
        "        return f\"Vector({self.x}, {self.y})\"\n",
        "\n",
        "\n",
        "v1 = Vector(2, 3)\n",
        "v2 = Vector(4, 1)\n",
        "\n",
        "v3 = v1 + v2\n",
        "\n",
        "print(\"v1 =\", v1)\n",
        "print(\"v2 =\", v2)\n",
        "print(\"v1 + v2 =\", v3)\n"
      ],
      "metadata": {
        "colab": {
          "base_uri": "https://localhost:8080/"
        },
        "id": "GDCVZNWPIXEW",
        "outputId": "3863ef8d-ff2b-43e6-99dd-2cf7d81b450e"
      },
      "execution_count": 9,
      "outputs": [
        {
          "output_type": "stream",
          "name": "stdout",
          "text": [
            "v1 = Vector(2, 3)\n",
            "v2 = Vector(4, 1)\n",
            "v1 + v2 = Vector(6, 4)\n"
          ]
        }
      ]
    },
    {
      "cell_type": "markdown",
      "source": [
        "9. Create a class BankAccount with a private attribute __balance. Provide methods to deposit, withdraw, and check balance, ensuring the balance cannot be accessed directly from outside the class."
      ],
      "metadata": {
        "id": "zaMGhXuUIkUP"
      }
    },
    {
      "cell_type": "code",
      "source": [
        "class BankAccount:\n",
        "    def __init__(self, initial_balance=0):\n",
        "        self.__balance = initial_balance\n",
        "\n",
        "    def deposit(self, amount):\n",
        "        if amount > 0:\n",
        "            self.__balance += amount\n",
        "            print(f\"Deposited: {amount}\")\n",
        "        else:\n",
        "            print(\"Deposit amount must be positive.\")\n",
        "\n",
        "    def withdraw(self, amount):\n",
        "        if 0 < amount <= self.__balance:\n",
        "            self.__balance -= amount\n",
        "            print(f\"Withdrew: {amount}\")\n",
        "        else:\n",
        "            print(\"Insufficient balance or invalid amount.\")\n",
        "\n",
        "    def get_balance(self):\n",
        "        return self.__balance\n",
        "\n",
        "\n",
        "account = BankAccount(100)   # Opening account with 100\n",
        "\n",
        "account.deposit(50)\n",
        "account.withdraw(30)\n",
        "print(\"Current Balance:\", account.get_balance())\n",
        "\n",
        "\n"
      ],
      "metadata": {
        "colab": {
          "base_uri": "https://localhost:8080/"
        },
        "id": "Jb8wVFnTIlW2",
        "outputId": "eabb3aa3-b24f-41a9-a91e-62f452c0fe56"
      },
      "execution_count": 11,
      "outputs": [
        {
          "output_type": "stream",
          "name": "stdout",
          "text": [
            "Deposited: 50\n",
            "Withdrew: 30\n",
            "Current Balance: 120\n"
          ]
        }
      ]
    },
    {
      "cell_type": "markdown",
      "source": [
        "10. Create a base class Employee with a method calculate_salary(). Create subclasses FullTimeEmployee and PartTimeEmployee that override calculate_salary() to compute salary differently based on working hours or fixed monthly pay."
      ],
      "metadata": {
        "id": "aTDR5e9WIloF"
      }
    },
    {
      "cell_type": "code",
      "source": [
        "class Employee:\n",
        "    def __init__(self, name):\n",
        "        self.name = name\n",
        "\n",
        "    def calculate_salary(self):\n",
        "        return 0\n",
        "\n",
        "class FullTimeEmployee(Employee):\n",
        "    def __init__(self, name, monthly_salary):\n",
        "        super().__init__(name)\n",
        "        self.monthly_salary = monthly_salary\n",
        "\n",
        "    def calculate_salary(self):\n",
        "        return self.monthly_salary\n",
        "\n",
        "class PartTimeEmployee(Employee):\n",
        "    def __init__(self, name, hourly_rate, hours_worked):\n",
        "        super().__init__(name)\n",
        "        self.hourly_rate = hourly_rate\n",
        "        self.hours_worked = hours_worked\n",
        "\n",
        "    def calculate_salary(self):\n",
        "        return self.hourly_rate * self.hours_worked\n",
        "\n",
        "employees = [\n",
        "    FullTimeEmployee(\"Aliza\", 50000),\n",
        "    PartTimeEmployee(\"lizzybizzy\", 500, 40),\n",
        "    PartTimeEmployee(\"lizbiz\", 600, 25)\n",
        "]\n",
        "\n",
        "for emp in employees:\n",
        "    print(f\"Employee: {emp.name}, Salary: {emp.calculate_salary()}\")\n"
      ],
      "metadata": {
        "colab": {
          "base_uri": "https://localhost:8080/"
        },
        "id": "udDr9L8cI6bf",
        "outputId": "f1ef09c1-cfb4-411a-f8d5-50755e7564af"
      },
      "execution_count": 13,
      "outputs": [
        {
          "output_type": "stream",
          "name": "stdout",
          "text": [
            "Employee: Aliza, Salary: 50000\n",
            "Employee: lizzybizzy, Salary: 20000\n",
            "Employee: lizbiz, Salary: 15000\n"
          ]
        }
      ]
    }
  ]
}