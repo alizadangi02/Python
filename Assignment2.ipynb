{
  "nbformat": 4,
  "nbformat_minor": 0,
  "metadata": {
    "colab": {
      "provenance": [],
      "authorship_tag": "ABX9TyNU0yHwHerzNxwle+vzwrDA",
      "include_colab_link": true
    },
    "kernelspec": {
      "name": "python3",
      "display_name": "Python 3"
    },
    "language_info": {
      "name": "python"
    }
  },
  "cells": [
    {
      "cell_type": "markdown",
      "metadata": {
        "id": "view-in-github",
        "colab_type": "text"
      },
      "source": [
        "<a href=\"https://colab.research.google.com/github/alizadangi02/Python/blob/main/Assignment2.ipynb\" target=\"_parent\"><img src=\"https://colab.research.google.com/assets/colab-badge.svg\" alt=\"Open In Colab\"/></a>"
      ]
    },
    {
      "cell_type": "markdown",
      "source": [
        "**Grade Checker using if-elif-else**\n",
        "\n",
        "Write a program that takes a number (0-100) as input and prints the grade:\n",
        "\n",
        "○ A: 80 and above\n",
        "\n",
        "○ B: 60 to 79\n",
        "\n",
        "○ C: 40 to 59\n",
        "\n",
        "○ F: below 4"
      ],
      "metadata": {
        "id": "HfpzE3GHyTY3"
      }
    },
    {
      "cell_type": "code",
      "execution_count": 2,
      "metadata": {
        "colab": {
          "base_uri": "https://localhost:8080/"
        },
        "id": "4wKMZwKVyMkd",
        "outputId": "28c2be77-9c94-4a2d-b530-9e2789db8d51"
      },
      "outputs": [
        {
          "output_type": "stream",
          "name": "stdout",
          "text": [
            "Enter the score: 50\n",
            "Your grade is B.\n"
          ]
        }
      ],
      "source": [
        "score = int(input(\"Enter the score: \"))\n",
        "\n",
        "if score >= 80:\n",
        "  print(\"Your grade is A.\")\n",
        "elif score >= 60 or score <= 79:\n",
        "  print(\"Your grade is B.\")\n",
        "elif score >= 59 or score <= 40:\n",
        "  print(\"Your grade is C.\")\n",
        "elif score < 40:\n",
        "  print(\"Your grade is F.\")\n",
        "else:\n",
        "  print(\"Your grade is not valid.\")"
      ]
    },
    {
      "cell_type": "markdown",
      "source": [
        "**Even or Odd Numbers in a Range (using for loop)**\n",
        "\n",
        "Take two inputs: start and end.\n",
        "\n",
        "Print all numbers between start and end (inclusive), and indicate\n",
        "whether each number is Even or Odd."
      ],
      "metadata": {
        "id": "_L9fOEeHzOzM"
      }
    },
    {
      "cell_type": "code",
      "source": [],
      "metadata": {
        "id": "S7Anu5DE0G1U"
      },
      "execution_count": null,
      "outputs": []
    }
  ]
}