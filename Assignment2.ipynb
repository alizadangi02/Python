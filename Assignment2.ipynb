{
  "nbformat": 4,
  "nbformat_minor": 0,
  "metadata": {
    "colab": {
      "provenance": [],
      "authorship_tag": "ABX9TyPVUykeMhHhCBcfaprB7WLz",
      "include_colab_link": true
    },
    "kernelspec": {
      "name": "python3",
      "display_name": "Python 3"
    },
    "language_info": {
      "name": "python"
    }
  },
  "cells": [
    {
      "cell_type": "markdown",
      "metadata": {
        "id": "view-in-github",
        "colab_type": "text"
      },
      "source": [
        "<a href=\"https://colab.research.google.com/github/alizadangi02/Python/blob/main/Assignment2.ipynb\" target=\"_parent\"><img src=\"https://colab.research.google.com/assets/colab-badge.svg\" alt=\"Open In Colab\"/></a>"
      ]
    },
    {
      "cell_type": "markdown",
      "source": [
        "**Grade Checker using if-elif-else**\n",
        "\n",
        "Write a program that takes a number (0-100) as input and prints the grade:\n",
        "\n",
        "○ A: 80 and above\n",
        "\n",
        "○ B: 60 to 79\n",
        "\n",
        "○ C: 40 to 59\n",
        "\n",
        "○ F: below 40"
      ],
      "metadata": {
        "id": "HfpzE3GHyTY3"
      }
    },
    {
      "cell_type": "code",
      "execution_count": 4,
      "metadata": {
        "colab": {
          "base_uri": "https://localhost:8080/"
        },
        "id": "4wKMZwKVyMkd",
        "outputId": "565271d1-cb30-45f2-9230-ee7f9a695f14"
      },
      "outputs": [
        {
          "output_type": "stream",
          "name": "stdout",
          "text": [
            "Enter the score: 59\n",
            "Your grade is C.\n"
          ]
        }
      ],
      "source": [
        "score = int(input(\"Enter the score: \"))\n",
        "\n",
        "if score >= 80 and score <= 100:\n",
        "    print(\"Your grade is A.\")\n",
        "elif score >= 60 and score <= 79:\n",
        "    print(\"Your grade is B.\")\n",
        "elif score >= 40 and score <= 59:\n",
        "    print(\"Your grade is C.\")\n",
        "elif score >= 0 and score < 40:\n",
        "    print(\"Your grade is F.\")\n",
        "else:\n",
        "    print(\"Your grade is not valid.\")\n"
      ]
    },
    {
      "cell_type": "markdown",
      "source": [
        "**Even or Odd Numbers in a Range (using for loop)**\n",
        "\n",
        "Take two inputs: start and end.\n",
        "\n",
        "Print all numbers between start and end (inclusive), and indicate\n",
        "whether each number is Even or Odd."
      ],
      "metadata": {
        "id": "_L9fOEeHzOzM"
      }
    },
    {
      "cell_type": "code",
      "source": [
        "start = int(input(\"Enter the starting number: \"))\n",
        "end = int(input(\"Enter the ending number: \"))\n",
        "\n",
        "for num in range(start, end +1): # (end + 1) to print till the last no.\n",
        "  if num % 2 == 0:\n",
        "    print(f\"{num} is even.\")\n",
        "  else:\n",
        "    print(f\"{num} is odd.\")"
      ],
      "metadata": {
        "id": "S7Anu5DE0G1U",
        "colab": {
          "base_uri": "https://localhost:8080/"
        },
        "outputId": "c5b2cfe5-01c0-4a32-e787-e33fbddd16be"
      },
      "execution_count": null,
      "outputs": [
        {
          "output_type": "stream",
          "name": "stdout",
          "text": [
            "Enter the starting number: 4\n",
            "Enter the ending number: 9\n",
            "4 is even.\n",
            "5 is odd.\n",
            "6 is even.\n",
            "7 is odd.\n",
            "8 is even.\n",
            "9 is odd.\n"
          ]
        }
      ]
    },
    {
      "cell_type": "markdown",
      "source": [
        "** Count Vowels in a Word** (loop over string)\n",
        "\n",
        "Vowels found: e, e, a\n",
        "\n",
        "Total vowels: 3"
      ],
      "metadata": {
        "id": "olx2mPC7KgmI"
      }
    },
    {
      "cell_type": "code",
      "source": [
        "word = input(\"Enter a word: \")\n",
        "count = 0\n",
        "vowels = []\n",
        "\n",
        "for ch in word:\n",
        "    if ch in \"aeiouAEIOU\":\n",
        "        count += 1\n",
        "        vowels.append(ch)\n",
        "\n",
        "if count > 0:\n",
        "    print(\"Vowels found:\", \", \".join(vowels))\n",
        "    print(\"Total vowels:\", count)\n",
        "else:\n",
        "    print(\"No vowels found.\")\n",
        "\n"
      ],
      "metadata": {
        "colab": {
          "base_uri": "https://localhost:8080/"
        },
        "id": "fuHEWTv0KgBQ",
        "outputId": "9c387c2f-9faf-400b-b362-4898bdeee8d7"
      },
      "execution_count": 7,
      "outputs": [
        {
          "output_type": "stream",
          "name": "stdout",
          "text": [
            "Enter a word: hello aliza\n",
            "Vowels found: e, o, a, i, a\n",
            "Total vowels: 5\n"
          ]
        }
      ]
    },
    {
      "cell_type": "markdown",
      "source": [
        "**Find First Number Divisible by 7 in Range** (use for-else and break)\n",
        "\n",
        "Ask the user to input two numbers: start and end.\n",
        "\n",
        "Find and print the first number divisible by 7 in that range.\n",
        "\n",
        "If no such number is found, print \"No number divisible by 7 found\".\n"
      ],
      "metadata": {
        "id": "fiFDrxk_LMw7"
      }
    },
    {
      "cell_type": "code",
      "source": [
        "start = int(input(\"Enter start number: \"))\n",
        "end = int(input(\"Enter end number: \"))\n",
        "for num in range(start, end + 1):\n",
        "\n",
        "  if num % 7 == 0:\n",
        "    print(f\"Number divisible by 7: {num}\")\n",
        "    break\n",
        "else:\n",
        "    print(\"No number divisible by 7 found.\")"
      ],
      "metadata": {
        "colab": {
          "base_uri": "https://localhost:8080/"
        },
        "id": "eRvilqwnLMUv",
        "outputId": "092db018-5cf7-4b0b-e197-ca046aa3f9f2"
      },
      "execution_count": null,
      "outputs": [
        {
          "output_type": "stream",
          "name": "stdout",
          "text": [
            "Enter start number: 21\n",
            "Enter end number: 70\n",
            "Number divisible by 7: 21\n"
          ]
        }
      ]
    },
    {
      "cell_type": "markdown",
      "source": [
        "**Pattern Print**\n",
        "\n",
        "Print the following patterns using nested for loops:\n",
        "\n",
        "![image.png](data:image/png;base64,iVBORw0KGgoAAAANSUhEUgAAAr4AAADICAYAAAAOY+KAAAAAAXNSR0IArs4c6QAAAARnQU1BAACxjwv8YQUAAAAJcEhZcwAADsMAAA7DAcdvqGQAAI3pSURBVHhe7P13kCVLlqeHfee4R9x7U5Z4pZ6op7VorablTPeIHoXhrJrdhdgFuAZCGQiQZoQRMHDNaCSNJNa4gAEGWyxBgFALscOdFbO7s6NbjGwxPa2flqVe6VT3Rrj74R8eNysrX2blzazMkv5VR9/MCHePuJEvPH5x4gg5fvy4mRkxJkKMYIaZYRQKhcKNRwARQURwzuGcIiLrm03ETvvtFuv3b3ZzZ9bx/tcf115wPd81hECIuX9KCdX838D1jFkoFO5cRIQYIyKCqmIp0u/31jcDQO6//35rQyBGW73ZFAqFws3GzDBLOOeovENV1zeZiJs9p63d/80Ubmv3vdfn5Hq/56hpgXwjG4velNKeH3ehULh9GYvffK8wenW14ZyhbRsRcTjnNmxQKBQKNxqz/CDufYWI0raRlNL6ZhORBfT1CbHr4Wbvn10QotthN/ZlduW/gfz79Y9ZKBTuXMbz7BUDibDZtKGiSkqJEML6bYVCoXBTGAuetm2zpU+VNsT1zbbFzRZPN3v/N4Ld+o5m+SFnrTGmGGYKhcJmvHd+sG55L5pSWvWh2umrxEKhUNhNpPPT0u7BPKVEjPnzetgtYVZ4L7t6bndxqEKhcBdyjTlEx6+TVJUY4+5OXoVCobADstC94t9pZjjncgDudXK3zXE34vvu5j52c6xCoXD3stlUotIFtI0F8HvNxYVCoXBj2WheMrPrtviOsZvkd3uj93kj9rdb+7hZf5Mbga0u+d/aNdc0TW3BVr2vfw+Fwu3NRvNK8W0oFAq3DesnsOtlt8ebhJuxz71it77Lbo1zLdTyImuU4I0ShQYksW5JmMRuSZ0QHh/M5IYnAxJgCJaTAOb+ln8er08iN+Q7Fgq3C0X4FgqFQmHb7JZY3a1xtkITuATOcq7oseg1yQISOlG8B5gY1gnf/HlF/I6VuHT/JhW/+diVJFdE79VjCNZtM7kxAr9QuFVZa/ktwrdQKNw+dGmudpONXoXtNTdifzdiH9fLDT3GTg9mK+kV0WvdNrrf9wYBU8RcFqarS3cLvkrvTn5OxqNsxV4J+kLhdsPMivAtFAq3H3shVnd7vK3Yy/3t5djs0vi7McZ2SGPXgPVqsRO/Y0G8F4hlkSumYG51yetZI8UnR8fSueu6Vk6vyup16wuFwl5ZfDs/qvEyvp7HP27v8t45eTIzohhRElEiadW3KmLE9x7cNkhAFNaOcvWXtPEx5HZ7ObEWCncjuy2ednu8rbjR+9sNduOYtxrj2lt3RtK8vOe1//iXNQJ4txEEMUER1BQ1h1gWwlkMZ1lq29y7WkLIyxVp3y3dttymULi7uNYcsifCV1jjS7WBP9X451VhvIeYXAkqsFW/qtB9dkdi0E1J67tfExPBUBDNn90YeZy8GIpJ93OZfQqFXWcrEbVddnu8G8leWMLXshtj78YYO2GcUeHK3g3pXnvmW0Hecr2ZjdZ/PxFBMFy3P7F8p7hyn1hjjx3fMLeD5fuYYSTLCwIixdJbKGzE9pTe9bLen2rd5r0hX/qrTv+r69b+uDbqdfJpYq9Fe6FQmIz1YqOw++zGOd6NMXbKFVtolwNhzVtJBSSNhenuHKN16fdyKr5EimHVCpvZQJaufUU6Cd2xmmVBn3NErEmY1j0I3czzXijcauyZ8F0NIliTYWV86a1elJMHsF4HkgMKkgPTNcs4yACQtU4Ik08Q42lrvUvH2uls7fP8Th7mC4XCZOzmzX03x9qK3drXbo2zV9wSx9elNCMZTgSHrFp9vfN459b32DZr8+FfEb+GasD5iGgipYClkEX2jk+Lkax7c+nA1LLrsIdIIpEQJ6hTrtOIXSjcUeyJ8M3uBXl5jz9VpwLfs36PyKK0s/eaIrjOJWGtBRjGr4q2h+XckGvF7ZqtkptcsSys2VYoFHaf3RRXN9JSdr37ud7+W3G9419v/93AzPLrfxEww0JCk6HRsBCxGEkxsWm5p20wLrTivQdAiAgNMaxgqcFpFsPXfRcUMDGiJVqLBEvk6JVEtPESr3cvhcIdxZ4IXzrxyxp/XtZaPccicCyOr+66a+RDyPI2e97moAJdDSjoFsbOUNs7kjx+F1wgCSRh5GX8Uk0koeM26wcoFAq7zq0gsnbCTo97p/0m5XrHv97+u4WZ4USzsSIZzoCYUAMvDunWeb1+q++Ycelts4RIwGlAJGDWYhby28Y1953tSGGjizMRIWBEDPNKEwNJQSrXuT4UCoW1yOEjx3b9usgXbx42u/Wz+hQtmuXfeDLMT9/Xbw3NT/NXxlbNmt7y7HCl4eqP66eY8c/bOxJZ813GmI1fd121ukxAhcJ1YinS7/fWr96Q6w1SWstujbV+rljPTvaz1ZgbMel+djL2mOvpuzJsVufwzTAgSbasupTf7FkX0SVmmGRvWhPJll0SlRm+DQyAfb0+c1NT9Ht9oiUuLSywsLzMkkVWKkfQvFhnoXGWELoCFJqrorkEkIjaFaBIneuEJbyLKENmBo57DvY5sK+HinLx0hJnzi2zuAJN8ljqYdQYQnAhu2KQA6ezoSj7Z6Txe8okCInoYs5W5I2RBqSv+Kmaqdkp6rqmaVqWLizQLo+oR0odcx5hZw5wJDMs+31k41C33+3eAwuFWxEzo67chvPIngnftCp8s7V1PWY2Voi53YQT8WaMxa6ZEWNERFBVUoz5UlbXHUUOd81HZ2vkaGeKtveepGuy9nXomtKQOv4+67Zf7/csFO5mtiN82YV5ZS27MdYkYnA7+5lkvI2YZB87HZvr6DvuNxy1G96w1mIYQx9IGpkfKpoqgjoiEZ8SUYXGCSaOqknMpBX2x5aH64rPPfIIH7jvKAcrT6WeURtoUU6eu8RvvvwDvrp0gdO+4qKbJWoPDTBILd4agks0qkRxDBowDSy4IdVggF2OHKCHby9y6EDLj3xwhl/4wiMc2e/p92s0BoajwMXY45d/+4f81lcXOPeuw9IBlpxnpVqhlhbD0UifKjjqNCJJS6z7WOvpJSHJCqPeiJU6MJoa0X9owLGPHmf6kVnilEHlaYaRuu1z5tWTXP7SG7g3R/iFml7ah1ifkUXMB0QaXDJ8ynfrIn4LdwJmRuUdqu/VXW56ZvavX7VmV8j23tXk2QYq+emVLqJWVXFdIIFNOBFfi2xhzct48lQVIKGScCogiZTykh0gOheH1UFW/28izAyzmK3Y4/yQ3dzRJZcBMZxzOB2L4snHLxQK6zBb9ZuclOudW9aym2Ndi73ez16PvxPWiuUQczaErQiaSGIM2uzMFkUxMRyQJIIqDmG6SRwaLfKZh+/nL37iR/j0A/fy2KDHUYWDXrinX3FPv8fR+Rkevf9eZmemOXH6XZYCtOLACWqxc2lbtZFSpURMATczy9LiCkemp9HFd/nAU1P81b/8Pv7szzzGE0da7pluma0b5vwK++YS+/c7Hnv6OM8++yDnTp7l4rkFVloj1g5NEUQJUuNM8BYxDbQqWOuo1dHqMsv9JZpDxgOfepSnv/gCgyenCUcizf5AmEvYtFDPe+aOzXP80ePElDh39hKpEXzyVOJQizjrjEPdd8psfe4LhVsdp7o6j6ydT/ZE+Jpl4efGYjdZjqIl/yzpihXULKvjSSa5rbAuglZVO+svKAGzJvtTjcWwdAvrrm9Zv2IrxrlwhIQRLGXP3m6ItSEFyfIruasD6gqFwrbYgfBlF4Xebo2zFXu9n70e/3qZVPimbHOgFxUTR9Ds7qDZAQFVqJqWo9H4qYfv48999MM8MuhxMBm9GKFtOzGbixypGPv6fR6Yu4cDs/s5efYsF0dD2kqIms0Zq9nak+A1ElRYaRwD7TEdF3jhIce/9q98iI98eIq+O0sdV7J7gvo8/0skxWWqKePAvileeOpxTp44yalzlxjSw3VW10SFJnA0RE1EVcwU7xKL7hLDIy33/vijPPjpx2nmA81sYFlWaGkxErW67M8sAtM9Zo4dwdRz+fQFdCkwlaDufJwFsC4ffblHFe4U1gpf1sx7eyN8u0+vmv2T0pW8iQqI5INRBO/cNmvVbI6IrArfLIIjqi1eAxBXNW2yblKVda/SdiB8jSx8cyRtjhpGIFrCuSzAAVwXMFEmlULhOrjJwpddHutabLWfnboTsMXY1zPuTvuu7zeZ8O38bM1Rx2ztzcIXlKzmvAXmRi0f3Lefv/aJD3JcEgcT1KMGTQlxjpRi9hWWBLGlGrXMBceR+f0sxcCLZ95h2Hc02vkTm+BTFtcmgYDDGDAlMBie4X/31z7IR14I9Ko36fsRVVBU6nxcMSFhiFYNyCJ9P2Kmlzh6+BB/+CfvcGnFYUkxVZI4nBkqgegSwSkqDrRlOLPM7If2c8+PPcjKgZZ2JjL0DVYZ4pXUZalQExKJ5YHRTFfM7ttPe3GZ5RPnmQ2OOmS/4ahCknw+85ktFG5/1gtfurlvIuFr5JQpMv6FdS4CHWMBq4AHnBk+BHpmzHvP/l6PA4Mp5ns9emYwGkHTImqdm0C+8MbLarBr98M4L4JY/r9E7re6LiW8gtIgNmJ2AAfnHQf3VRyY61M7I7ZNFuGSK+jko81V1ZLkfI4GV558u2Ow1a+8dl3KJTCd0WoguIhMOdxsRX9+QDXbI/rEKI1oUkPe25pjRrvvOo6/ywOXqadQ2ATLrkPrJ7NJ2Wm/9ezWOFuxV/vZq3F3wnrRy4TCVwA1wSfFmRJVCA6QXBYYNVwccb9z/OzjT/HRA7McEMNFQ1ojJ78VxHsQh2J4EVxKSNvSc4pOT/P6xXO8vXyZ1jnEHN4UNe3K1Qe07mNR6NsCP/cj9/C/+sIRDkyfpFctQpvwMpNvji4gURBxCAHnImG0RN9FpgY9Fhrj+68v0aSqqwQqqCWQQNBIFEVRGhapjnse+PFHCY862ulAKy2RCOTSyJVWub9z4JWmZyxLy+z0DH5kLL99Hrnc4kxpVQmq+byVO0/hDmIj4cukFt8oiZGLOEtUkZwKrBtMU0IUWjOiUywKNYmZ1DLfDHlIhU8fPcTn7zvMjx47zOfuO8JHDszzgfk5Xpib5XBqWVm6SCTQKjSuwlyNBcEbeEsIkSRG1BxdW0eQCpZtBTeosGhUQeiFhilZ4v4DI370A1P84mfu4QsfmuenPn6UTz87w4cf6/G+J+cYVEusLC7RLLX0bIC1niBC0ognklCC+BwBm0AtEpW80+CocDlToo80dWTYHxIPtEy/MM/8Rw4w86FZZj9ygN7z01RPTFE9Ns3K/sBodBmLIyQl1DxKjzblCTupZZ+0bsrLvPcPVijczZgZ3ndvTzaY0CZhp/3Ws1vjXIvN9rGRWNwOezHuTvpu1mcS4Zs9za4UoWjViEqX+SAHmVRhxGNTA37x6Wd5qO/wbZNLBWsNknO6m7osGDujLyTwOZuCn5nl7eUFvnf6FK3WqHlcciAQFJII4BELzFeX+Tf/+Q/x7AMNPc7jUdSm0TQAAiYrSKoQ6iy4ETwel4ZUPYefOczvfv0kl1cEw5OzzqdsVXaGaY2LENwKc8/Pc88nj7Ey3xCkxYnD4ZCYizUJHkSIokQRojU4b2DClPVYfOMcK2eWUKsIWhE1h6DnLBXl1lO4M7g+4auJxgeqBL0ogHbpXMBbtrxGNVCPDzAXI/eEIe87sI9ffOF5fvzB+/jEPfv5wL5pnpzp8eRMn2f2zfHsgf08PD/H/n3TrDTLXFhcZiQ1QSpEFG+Wha8kEkLsAhWqkIiaSH3PctMwwNFvhux3Qz76whx/4Wcf5+c+cw+ferri2eOORw4Zj97T8vTxiuef3MeDDx/g3nv3s3J5mYUzK6j0acRIHqoUcl5E7eFM8ZZwFghOs89VdFSiBFli2G8YTrfUDw146Mee4NDHj9B7bkD1TB97SLAHHP7+PtOPzDP9wCz7DswQmhGXLy1B9KjVqPixuRqRiFq2NeeZ571/sELhbmat8OUaAm4rdtpvPbs1zrXYi33s9pibCdhrca0+Ewlf8luzLrkXIVsp0JRTdpkmBtby3NwsX7j/QfY7yNk0HYLLPq2qmHRhXV3lJVMjVoaZYL7i7aVl/vT0aZalAqtRpLsnJhCHJXDacGz/kL/wk49wdHYBby3EaSTNkpPqjhA3QqwPqcpuduaRUCPWgEss2wxf+ZMLnDqfMKmyqLdI0khwCtRUUWncMvs+fIDes7O0/YhD0KhocngcisdQkmSjiqH4FKgBS0oVKhbfusjSiUUk1LRSEVVwZlQpp4Ert57CncB1CV8juwFUUahSvqCCKqbk6FkCCFQY/VHkXgt8+oGj/MLHPsrz99zDA4M+8wI+tlTWuSM4cF6Zm53iwSPHmKmmWFlpuLi4wtASVjlMAtb5VUn3CseZ4SUyNDDtk5rEvDPq5iI//qlj/NJfeIEPvW+OYwcSU4xwzqECXhLOG+IaZu+Z4d77DvPYg8e5cPYsp06fpRVHVI+3RBJHosIZOAuYBoJXUspFMNDAki6wMt8w9ewBnv7J93PgyUPIYSXORpZ1hSAhRxerUDlhambAwaOHqWdnWRm1LC+sIMPEAE8VIy6l7M9l48C73UuiXijcKawXvuxQxO2kz0bs1jjXYi/2sdGY1xKiu81W+5pU+I4DzbI4zK/6XVK8VEQiUy7ywYMH+NTho0z7LjfuOMGmZk1q2mUa6nzOkhOaCnzyRJSTTcvXTpzkAp5ElYW2JoIPqCmaFKHhoaOOn/3s/RzoL+JIYLMYA4SA6AoiAVIfRElqGB6xAcgIpGUxzfL73xnx2qkh1glsbyl/N3VI9AxSxVAXOfCJo+gTUyRHPgZzVxlMcuXULq8xULeBWsC0QhtPPLHC0isX8aMeSXqYKJUl6hSzy+IE575QuNXZTPiui+7aHJeyf1N+kuwSg5MDCbK3lOGahvnQ8vFjR/j5Z57kuakBh0PLoGnRpkVMOhkdUU0IDX1rOLo05Kfue5A/98zzvDA3zXSzDGmly5donecSVElwGOYSJkq7ArPVDHVY4pPvn+Mv/dknePqxFfrV22DnSTFgCUwcqAcSla0w4F2OzJ7jsXsX+at/8QM8+XBN3y1CG/IrqDUFL4yULdpd9XOc0WpD02sYPDHLfV94BH20x8K+FZYGDUMfiF0Un2qiqgU0EmXEu1NL1B84wv0//iz9x+ZZqZawtEwvBQbRqKOglv2bdyvgr1AovJethNetzK127Ns9nu22vxb5XZkRJWKSEEvZPS3l2I0o2R7sLXbzuuQ3bBJBmk50NiQJmKQu+tohscJHRxUcLglJlNZlf1iTHLStllALOSKlGzt1sSfjnO5GwqTN7hOpzsekDW29RFuNMJV8G7YcXWJ4zPKDnVp3J7B8X8huFj4HrEn3lpVcjMKk27dEoraY5ApxaoYaOFOMnPUidvE6dVTq4NCYXT1yEtLd+9sUCrcqEwlfNcUnl32bxkV6NaeSSWTzrVikHxsem53hY/cf4/GpAftCw3Tb4paHOZ2LeMyUlMBiwqWIa0d4C8wuLfLC7CyfPH6cY5XQswYjkMRAFLFxPgSjTdnJt1f1cO2Q+/d7fvEnn+bRe1eYdifoyVkkLOV0ak5yuppgSBNQi1RxETc8xYGZ8zx9vOHnf+Jh7plzVDKW2JInHYuY5GC0aCm/AtNA40bUx/ocfOEI+nDNwvwyS1MrLLJCq4mqX6M4UjBGzYhAIFSR0Uzk7OAy+vCAIx9+AHekIvoGIbs45HObwwve+4xSKBQ2wtYWidkGO+mznp3uezvs9fhcxz6222+77a9Jlzc9SQ6+HsdHqCmWDBMlxMily5doQ4tarrSmKYKFbImVthPAgeQipglJQh0raITKHAuLSyyGlpEKwWVjjzPwMbvBqSWEigsXhiwPE6aCSYu5huRGmDZZ+FoOWjPXEt0ywa9grsUUknMM28SF80sYrnN/M8S6jEhJceYhgqIsLCzSRCOgBIFWEq1GggskbTFtu/tKjs1JqrTqaBNYNFbOLeCHiX4QqthZu1fPY6FwZzOh8AXfXXAJzRMN+XVIN9WAJaZIPHv4IM8dPsw+M3oxIclyEIFlpSy+h7oeYkqFUiEoLS4OOVIrzx++h8f3z9EPI1zKibVzygMl5RABouTgOrGWypb4yAuH+MAz+5l15xmwSBVDdvT3NVhDYpivah1AdFRR8bFlthox48/w0ffv4/knp/Harj7v5oyGCUhd4Fl++5MItL5h6vgM+584SDvb0vRGtK7BnGFJiA04KrzrY+ow74gegm9Z8UvE/YnpR+eZfmiOlXrESBtasRxgJznooQjfQmF77ERU7aTPzWB8nLfS8W73WLbbfiIkpy3T5PCxQpMjaaJxLSaRFI3Tyy3vRHJe95jd8tCc+iyQ72OQkBQQC2hqcW0kqXLWC6+tLLIYI0LCWQLL7zuddX61UkH0XFyAd84IQ2ZJaqgu4lhAREjqCToiyjC7MISaKhrIMskZQ5njzAXl4oUFHDHfdyTf68xc1sHa0vjlnE/4VMvMpT5BYegioYLk8kOYJUOty1jR3cmWa2PoIv3k6J837MwIbQTMcES85RMUJQv7QuFOZiLhiwk5rCzXRk+aL3y6i8wkpx6bdsLTRw9zuN/DYxBCduJ3FTiPqSeZw1IXeRocJAcWoDa8jTg+P8Pjhw4yFSN1TFSxS01jQlAjqpIk+1mpDBnUKzz/1D0cnG6orUFHjjrNUNlUTt1rI5RR9wTtIQ0gTFGnKXRxRK1DDu0LPPnYAXpVm193keuy51QyWfiKOtQEsYTVkcNPHKU66DEXibFFkuDF4ZPHxzwRYh6TihahAaxp6LlIqyu4A47DTx2jGURWamNUCY3T1drwnWtzoVDYBjsRVzvps57dGONmcSOOfS/2YZ2bQwKcVfRDD00VIwejOoA2iAinRsZXz17icgiY9ySUYTCCVSTpATXOcoo8I2DWksKIhYHwzfYif3T+NNF7+gH6MeKIJHLmBUsVQgXqWA41/79/9j1OXJymsSnMRtAugFW01FhfEGdoO6Ae7qca9WlGlxn5PqdX5vmNr57g8mLs3vkZJkZwHqNCk5BYYdhbITojvtJQfTfgh1A5ByGRWkNxVFJn14YIoKirSH2hTS0HV3rw4gLhnRFiNY03kmtQWhQjdUalQuFOZiLhO74MDCNpIkl++s3VGx0JQVWY69Uc6lX0LGGqoJqFr+R66SbZR9hwiPlO9DpiJUSfp7EpNY70p5lTR2WCWBacJhBc6vI05ldBKiP27zcO7Es4Wc5iOs4iYR8Sp8aP+Ih0xStMQWqwPoRpsD4SW3p+yD0HKmanfedakWdV7XyejJzCTZNDUapBhe7zxDq/8qpM8VHwUfGm2drc+WoZniiOiKOORj8aZg2pb+j+HnHWM/IwdMrIO9oubkfNirtVoXCD2AthVth7chBX/ttlv1vDWc6ObgYmnoujhq+9/AqnYmQpBKJ6KvX0ojAIghu2WEpEhRVHnoenZzjjPX/4ymu89u5ZkushjH1hwSTlpYoMWWZkLdH3+d0/Osk3vn2R5eFRLO6HapqYlqhMccv70WYf1tZgDhGHm97PUjvD914d8ptfOcHicEBIvtsHndtbttw6czlHr9QsnV3kra+9wuw7xr6zFfubAdP0UIHgWoYsIzrCpWXcaJH+onFwOEt4a5l3vvsmy+dW8j1q1cJb/vsv3D1MJHzpGpqML/jsguAAla40sHPMTE8xX3tyGJkjiRt7KWTLabd0UrIbwdP4Ho1ziDqqBAemppiqe6uvafIi0E02Mhbjljh4YIaZWY/RdC4XA8ymgAoInUdyh1h3HB5jAExBTFSa2L9vmrnZGeimAL3yFi3v2wRvOVdif2qATTtSlQMOfPQ5qnbVDzm7SOR9ZlcQQfBR6KX8rcyDTlfU04Nu8sn+vUlykIOQHy4KhcL2KCJ2cnZ6rrbTbztt2UH7JNbZfa/cGxTBDKIqQ+958dIF/vY3/oAfzHhO9h0rtcuGmWGDBsFFRZID7TOa3scbVY/fef0tvvLSqyxTdfZQzTeH7oZiGKaR5BpajayYotP7+f/8j3/Cn77kGcnjDJsZohjRFlCWEb2E9BcJukBb11wKs7xzeY7/6n/8BqcuQavz4HpXrE1wRfwmgSBUqcKGcOaHZzj7R6c5sLgft9BHUo9FS1ykYalKNL2cms1hHBwOmH7L8eaXX+Hs98/gQnUlWL3I3sIdStaa72Vi4ZtfKSVil+VbLOGirEbPmmi2whI7S2mXC3BNBK1oA9JgGkgSMe1yBuJx0eOCx4dchSfRVZSRLAZz5GweXyzm+uLj1F/SRaR2T8j5qTyChu59WE7mnVxDW63Q+hG2GhGbj1tMOteEfEpyUEFCLOd3VMvuGS5lERvUiI4uonZtVG2XY1hCjqwl5uNOkoMDzRFEcqJ1MXzKluIq5qwZWLYoXDXvFQqFbbFd8cQO+6zlevtvxW6Pv9vjbcR297Ht9mKYZn/YJHnOdqmrzoYQxdFUNRe85yunzvC3fucrfP3sBU5HYQUPbirHftgUYjOMmj4vvrvEL3/vh/ydr32dd0KirQeYVKsGCmNsBDJSSpAi/emaYYy0Ms1r78Lf/K9/n7/7629yaukIy3qEtpoluECrgZFThv2DvHF5hi9/u+X/9P/8Xb77amCp7RMVgrVXvt/4jmagOFx0+ODpW59qqeKdL73Jd/7Rt+GEUF3qMRvmmbd9zNo81XKPfjNDfblHenHEG//k+5z5vbeoF3sMmEak6gxK43O+vXNfKNwObDSnTJTHdywmkySSC5gaPik+VgieoCCMOBhHfOqew9w3mMahXWaEAMScWUFy1CxyxeYrIiQTfHRoUALKd869y1dOn+CMr2hc9m/yJHIoQsSbdXkOA1NumY89f5CHjiqeFRBHEsUkorKUL2brY1QkP6T1y0RnqFU4M9ARQ6n41quRL33tMhdHWdg6M1yXySEIGH16oUIssjy9SO99c3Ckh7krDhG5hHFOi5O/Z7ZAqOVFzHL0riqu9cS3Fln4+jtMXXT40CeIYmJUtLiUir9VobAO2yCP77XYKIfjVuykz5jr6XsjuZ7j3OhGshusHTdOmMc3Z3TI9xK3+oYuuzmIKMlywHBAaJzj3OUVXnrzLZaGI1aAyzFwIUbeXF7hlZUhXz91ml/5znf47Xfe5rQoi75H62tCdw/MR5TFNmK4mN8EjtqW/mDA8nKDc1OcO7fM9186xavvnIH+HAtDx9Kwz9mlAa++6/jhyYr/6R++yH//K2/w2glhhWlMa6KOEJcwBBHJVVI7i68fV5gjx72oeVKrLJy8yPk3TiON0VsWqovQP6/oiYCeME5/8xSv/5MfMPzBZeqlHoMwjU99YsxpN03TunxC46VQuL1RzdcR6+Y8OXzk2ISzmILlHIFJDR89PtZE8zR1ogqXeSys8O995BP86NH7mLaEWuxqQGYXhegsW1pNkZTrnWtULEn2N4rCOe/4b1/8Dn/7pe/zztQUQQYMWqW2lqQjjIAmxZhGaJmvzvIf/Gsf5Oc/OWCaEzmVDTlfojDMLgdWYdYnjVPI4KjiDNoK4hvOxxn++3+6yH/6d97mYpwCFJ/Ap0TUSKNCZIpe8JiucHH/OR74K89QfewAo1kwCYChkqNxsWxtAM1+zGSreKIFr1iqmLnQI/z+u7zx33+Lfeen0TTDcuUJEqhoqMbCd3KjfKFwx5NSpN+r16++JpMIqPXspM+Ya/XdK9G4XURkR8eynT7X03bUBFSvPfcZEDRbep1BFbP4NeiKLGVHN8tqGAEqElVYZtZa9lWOmZ6n7tW0CBeXGy6NWoZRCVoT1dGqrjpQuC7uQ4ik7r5Wh+zi1rhA8JBM0ejxCQYyxMkiM1OJQ3MVc/U06hwXl5c5ezmwOPIsxynMekQB0xEiozzvm88CN+XiFHR3gmxkufIK1xCibxm5ZWwQcbPgp2p8XRMaWLo0Ig0T9cjot4qLfcR6YL6L18kFmiDhknR+zIXC7U82kii6VvB2P09o8c0XmJDz+fpUAY5WoalzLfE6tNTBmBrs45FD97DfIipgIkTvCc7RiuC0RlE0ZHeJnEJGsNCyNDfgG+0Cv/ray7y2skyUKluWO7cDE4Pk0FgDNckSMOLIPQOeefI+ptwSXpYQG+aSlG4fDUNat4wA3gb4UY2PDohYZSynKU4s3sM/+Z23eem1JYL6/LRrOVVbDshzJALJjxj5Ia0GZqzPofuPsHQg0PoWla54ZjQIgtcKpSYZoJ7kHCuDltYaDjVzTL9hnP3Sm7RvrqChziWgJVvGlW72lvwMXigUMtu1+LKFEN2MnfQZcz197xTWC9ntMqnFN9+XclahsT127ZR5xT1BsaioeMw5ljAuYpwJgZOjltOjwMUoDLWmrXq0qkRxOYd8VwRDVt9UpnwzNaiizy5qmhC6vO/qiXgCFUH6LDaOC4t9Tp0f8NZ548yKsRAdy3ii9LpYGEUk5yDOb/m6CnOrMc5jyXvlKwo5v69PjqqFakWoFx2cjchZ0IuOarFPbzRDPzh8UpQ6u/Qh+Q2sBFRycQ8du/4VCncIay2+bFf4Zud3QQHfVZFJAlEguuyCUCXDtbnKzANTAx6a6lF1qblC0+LEUamDpoWUwAlREomEakWrnrcVvnr6JF9+/XUu4jCpskjunm+zH28XtCCKVEpKgZWlBZ54+BDH9vepXUBig0UDPOIrPAM09NFhjVAjubI7I99nxQ7wlT+5xK/+xttcWPQE52F8gtYEphkBc4lYJcwS2iq9fT36x3rUqvgkEBKqQlV7ogVCaLIvtIETMGe4kTB3oaL5ziXe+YM30AXFU3fuGYZ0VXXyH6hMQoXCWnYifNmBGN1u+43YjTHWY2bXPe5Ox7heMbsZG407qfBVrrgDIPkeMXZ96FZ14pgcACeGKbSiBHG57H3ykDzOKlzyWILg8jycK59lw0unNDvReWW/OdtmlsT5XpGDypIqpjXoFME8jSRaFwguEX1OC5qNHTkuRq3qilxkv9s8Vh57bPgxsS5uJn/PVrO7AuT4EczjpY/FihQdSo+cjjShlsW8ieaUpBJzdTesc/MtwrdwZ7Fe+NLNyxMJ31wdZzwR5Nc9+eLOdc5JhkNwMdGurDDAOLJ/hsHsNNGMyldUCbQdZ1kQxHUJxH3FilUsTc/wrXPn+PUf/IBXF5dY1gqTqptcuollnFPXGw2RNkV85RiuLBOWl3j8+P3sn5rKF7KHyBA1j4YatSq/8pJcdjj2p7iw5HjllOfv/Mr3efGNlmGaJTldnTWz1M+TGUg3cebJqBkOiS4yf3CWmd4MFR6tPMFFhowILmLOqLziUqKKiapR9g9niK8Oefv3X2Ph1csM4gA1n6Nru5rxwjjeYOuJv1C4mzAznNu4/vq12G57dthnLdfbfzN2Y9ztjrGRON2M3Wg7ifDN03l2meukaXefGM+heTYdV/1UjQi5UIOgVOqzKwGKE4/TbHUdZw8ax3noqmDOYhO0E9xC6xLRpSzBzeX7lSTER4yWFENuqy3oIq7KvS0oYtnG2tmju2+UHRqkCziznDO0E7v5c1ylDgHrrMxJheSU5LuyxLlOMeoSqjnIOglEzUYr09QJ7oim8b5zerNrn/VC4fZhI+HLxBZfsZyFgOxLpdnwmsWvgFl+CvbqaUNkYWWBoQtMHzlM1etTGVQJJEQkda9wcCTxNK7HhXqKb569wK9//wd88+QpLrua4HqYXMm6AEbSiEkEMYJF8BVNSFSu4q3XztHDcd+x++j3e7jKSNog0uKswWQIPhAItNWAi82Aty4M+B9+5Xt89ZvnWGjmSH4O0+yn202Vq6JXUcxy0IQTJTSBxZUl2hA4dPBexNeEWhhWxgIjgodcXU5wKddEn1+ZoX15hbe+8irnv3OWerGizxRmbnUyMunOL3STUaFQGGNmeJctvhtNaFux3T7bbb+W6+m7Fdc79vX234zNhOx2mUT4Zu2X7yfZONNZZrqZczyD51aJXgxUKeJTzr2uKc/PdBl5WiKt5nSb2cFtnEgzW1izsB7fDbJ7RetbohqCz0aWLhZGNWLWIJLwKpi1GAlNNZKmcDaLs36XBnNs0c0B0VdP+53I7YTu6kI2QNWWq6NmS7dkX2Eiol055TQCG4FAUiXJ2EI9DmhL3SnTXJBDJAvvtYdQKNymXJfwNWHVGqk2fjrNF+DY/QAEUSUijFLg9PlznL1wmX49YMYPGIinNg+uzkUkqGmpOXFpyO+9e45/8N3v8PV33uZiVTHyNclXa6atfGEnyU/eEhPOObSuGbUB1YoUjLffPMfZc5eYmpvHDQZIv8L77Dvb4mi0T1sf5I3zNd/4wQr/7d/9Dl/+43MspxlG9EkqOe1ad2MQyxOckn1+RQVJoJoTiWOOxXMLnDt9gcHMPL7qgQr93hQD6dOPPfrDHoNmAOcSw+9d4u3ffYVz3zxFtVgziFNoqvM3XH2Sz+d4LLgLhcIVbrTwZYd9xlxP3/WsFZU7HXc8xnb675aYXc+1xp1I+ApAnjels5JmX9XuztH593avzwDpXMp0Nf1kd1PrnAq6TAqS7zvZsNOl6uze/qllY4hwxZ8iZ1jIM/aqhdZAzeGkC1Ij+9DmCqjZvxbJQWXjzD3jOf/KO8bxHaBbZ50vc1eKOJOPb/x2MmcQkuw6kb8cIr47/twnu29c2VP+jo78lYroLdw5bCZ8J8rqEMWyz1MXOetjnjgNCAJJhWApX9LR6EliEBpmYuCRqSk+cPQoj+/bz6F+n6mqZhQiiyFxsWn44cnT/P67pzmZEksqhLpH05VvyBc7aPc0nLRFzKiiIJVjMbT4/hSpTVQR+mGFWbfC8SPKhz94mOefP8S+/oj9Uz3aCBeWWy6v9PmjP3mbb3z3Am+eTCQ3zTAJUbNfVn7gzc/0mnJeXUWwlE9isIA4IZEIFYxcoO016D2O/U8fYvrBWXTWUU/3IBlpOZIWA2ffOMPCd8/gzkXcSkUdp6hsitga5rpE6BK7J/DsRz2eqAqFQialSK+uVn/faFLbiu322W77tazvey2xtxXr+64feyt2KpzX73czJm3HBG0nyepQKBQKm2EbZHUYM7nw7Sy+PoJPVyRZFCWKEFdLH3bCURKVBapmhWkCc16Z7nv6vR5RlMsrDReHI1YiJOkRtCKqEiW/jiG7KHX+Tzl1TJSIS0IveJIkWh9zOhsckjwuCn1p8SzhZIW5Gbhnps9MPQ0inF9a5OylluW2orEpgg0wfHaJ0BFIS8LndGsomrIf1ton8Bzot/aUCdFHRrpE8A0yY1RTnnrQA60YLjaMFlpSa/RaoR8UF2vU+phV2T9LIklDtgJgXVqZ/ARfKBSusBvCl232207b9azvu5XguxYb9V0//rXYifDdaJ+bMWnbSdoV4VsoFK6H6xa+OYNDbtb5zHeVzbL3URJHIltN6ayjzgSnBtZAGqKSchELAFEsaRasriJaDnlbb+Hswtq6gDjLuQajUoUq+/m6hqAxW2upseTRCF4Twgixhsr6SPSYRKJrSJoIuJzr12rAdfblFpFIFMgvgTT7PnVqfix812Jd1ToRI6URxgj1WRgnEuJ6WHKYeUQ8Lo1QS2AeqIi4roRyyFXmiOTXVePo2i3/NIXCXcV64TtmUiE3Zq/br2Vt30lE30Zs1m/S41rff6f9NmPSdkzYtgjfQqFwPVy38M2SczwJjdO5dJ8GSHaTD9J5CKUuQMsJySLJclCa005MJkMtlyYGoXHk9CqmuNWjueLkPxbZAmhSXMyiMGnANOW0auKzALecq9GJw0LEicttbQiuxVx3PCY5GCH5XI7YcruobfYj7twsMuN0L7LqCwaQLFu6VRRJEUm5lLITRUSJia6c8dhlYoRIJJGPNevqCNKCRNSsE7xjnywr4rdQWMNuCV920Ge77dcy7juJ6NuIzfpNekzr+0/Sb32fa7HbbYvwLRQK18N1C18QsBzSZtIVkhjbaDtnexsHDpCzQCA5A0IeXHKqmASSEopQoXiyMB5qJEoXQdvFG+RxsqjOGnjs95qja8m21q5tV6vdg6HECGKeSioSy6AjnFNSSsTU5eHVzrJqDrUKSdn6m7Tpqs1xlfAcH9cYAQLQiiHqOivt+Pizq4aZoaKo5lzExBYz6yzkrgvKiIi0qGWvZlCMHNg3dqwoFAqZzYQvE4q5tex1+7XslfBlwuNa338nfTZj0nZM2NbMaNpYhG+hUNgxZoZ3suE8Mpnw7UoKAwTJibeRiBj4rHE7wZaFr1pECVn8SbammnSlHyWrSCOnjckCuovK7VKrjEVvdmEY52FUfJRcQthHMMXHCp88kDBpMd9mV4aQUKvw0iPYMiIRJwNIva6EsOWI2m4RExKuS+DdqdyrJHb+XL1VjHOGY2ApJ4XpLLuWNS8ihlrCpZQ/SUSEKBURj6l03z3hrc2ZHEyy+KYikf2ki/AtFK5wLeHLhIJuLXvdfi2ywzLBbCEYJzmm9f130mcz9qJdEb6FQuF6uJbwfe+aTUnYWpE6Tt9ylTQbp4XJ6VIUw3XpzyxFxHIOXstpt4lqmJM1kjJnTezUcU4hNt6BZTHcGX1X3RBWA80sG2o1Zmty5RSViBeXyzQGl5Od47Ot2XKpyZxwnM7KG/JAa/Y5Xq64PXSH1oW8OXIqG02GWALLn2K59HCuxNYJ2O5mI9Jtt7ELRX5ooDt7V3Y42Y2iUCjsjEnF2M1kq2PcavtO2Isxt8LMbsp+C4XCnctGc8pkFt91rNOAG7B+yPe2eu8Y6/tk8tossq+sG7ddu37j/ldYK7DHbCQur26Tt2Y5fjWdAl/z+/qRNuu3vt3Va97bo1AoZLay+MJk1sy17HX762WjiXs91zqmjfpfqz2b9NmI3Wy3tk2x+BYKhethbPEdz3Vr57wdzSxjCbn51Lm2xcat3rt1fZ+85H9XM1579fr39n3vXsZCd63g3ajdFcZHsXG7q39f32KzftdeUygUCttjEmE5KZOONWm7SdjNsQqFQuFa7Ej4FgqFwq3KdkXUXre/2ynnq1Ao3GzWzkNF+BYKhbueO1Wc3Q7f63Y4xkKhcPsznmuK8C0UCncct6qY2svj2sux1zPpvrZqt9X2QqFQ2G2K8C0UCrcVk4qlSdvthL0c+2aym99rN8cqFAqF3cAs59AqFAqF24oiqgqFQqGwE4rwLRQKdyzbEcjbacsO2u+EG7GP7TLJMe1Wm0KhUNhtivAtFAq3EVfE0l4Ip70Ycz2T7mPSdmvZSZ9CoVC4myjCt1Ao3NHcrWJwu997u+2vhxu5r0KhUFhLEb6FQqGwhiLKNqecm0KhcLtThG+hULhtmVSITdruRrHXx7PX41+Lm7nvQqFQ2IoifAuFwm3NpEJr0nbbwcz2bNydspO+k/SZpM0k7NY4dw8GpG4pFArXSxG+hULhtme3xdRuj7cRN2IfN5o78TvdaBLSLZBIJIndkvLvWLdN1nctFAoTUIRvoVC4Iyiia++4kef2Ru7rVsUQEPLSrYHudwFDc5tCobBtivAtFAp3DbeDqLodjnGnbPXdttp+NzDWu2KCmqAIiqKAWl4v5eZdKGzJZvNJuXYKhUJhAzabNHeTG7GPrditY7jeca63/52C2BWBC4B1MtcU0E4Q53aFQuHabDSvFOFbKBTuKjaaCK+X3Rpzt8a5FbmTv9tuo6teDutE75U1xdGhUJiQ9XNPEb6FQuGOYf0Ed73s9niFwlYoYCmBGSKCdYFu2adXsZR/kjVVDAuFwuQU4VsoFAp3KZMI+0naFHYPw1DnMDOGw4YmBEwcbYwMmwYkS94YS3qzQmEnFOFbKBTuOu50MXejv9/17u96+99JJDOiRaKA6/XRukeTElEdrtcjOSHEUJx8C4UdUoRvoVC4o9htETXpeJO2uxsp52ZyzBKiAqq0KZLEUQ2mqeoeoxAIIeDrCiuuDoXCjijCt1Ao3JXcKmLsVjmOwq2Bc46mbUkYrqpoY2DUNqw0La7yqK8YNQ2+qtZ3LRQKm7B2ni3Ct1AoFO5CiuC+NQkpoc6hCClG3veJz/BX/93/I09/7JPEkPCqqCoxxfVdC4XCBBThWygUbismEWyTtNkOk443abvbhUm+z1Ztrnf73YWB5GLEzsAjpP2HScef5lI9T+Ur4qjFqWAU4VsobIfxXFOEb6FQuCOZRFBN0uZ25U7+bnc643y9AIYjqieKu7JeupLGhUJh2xThWygUbjuKqNuc2+nc3E7HWigU7gyK8C0UCoXCeyiitFAo3IkU4VsoFO5YJhFvk7RhG+0KhUKhcGtiZkX4FgqF25M7SYiaGSnduEpcu3Xuthpnq+2FQqFwoynCt1AoFHYRM7tpgu9m7Xcn3E7HWigU7hyK8C0UCoXCrlOEbaFQuBUpwrdQKNz1TCrSJm13N1DORaFQuB3ZI+Fr3TL+zTASJjF/XlVjvEyehUJh7ygC7fai/L3y/TP/y79Ld04Sgq1Z0uqy9q47/uluP4+FwsbsjfCVFtEWVSEZhNTQn0v8yOeeZ9+hHtES4FAVoMEI60coFAqFLblTRNKN/B43cl+bcSscw61JwscVKpZJ2tJ6xaVAvx1Si2NZp1h0PYZ4VqxmuT/DglaMegOGCuYhSQTyYqT3mJoKhbsdNz0z+9fXr7xekgWMSDMK+N4U4gLzh+CzP/Zhzp0/z7l3h8QIKbX5WVUcskcavFAo3DmYJZxePVeIbF3CarfajJmk7SRt1rOTPlux0ZgbrVvLzRamybY+xjsRQfDJodJnRaZoqn0cefRZjj36JE2vz/SDD3PPU09x7LnnuP/Jp3nw4Uc5cvQIJ0++Q2iGKAnt7MG5tJt2o5ZCb4W7D9lkrtsTtendgLqaQZ0SU6RpI1UN9SDSm8ovYJync33wYHtyGIVC4S7gZou0wnvZ6d9kp/3uFMwEsz5i00jsk1pPaALD5WXuu/9+XvjoR3nuE5/g8Q9/lKc/8lE+/IEP8PzTTyMp0asqHLpO6q5dCoUCgBw+cmzXZxozpZ5SnnruEG+dOMGJUxd48PEp/uI//1m+8rvf4A+/fIpeZTz68ONcOCOcOXEWXWfFKRQKhfWkFKi8X796w6f6tWy1nQnbjJmk7UZtNhN24/Ub9dkOG42/fkwze8+69Ww0znqu1eZa27jG9vH6EO0uvScYTiIxtJhWWNXHfI+qN4WIw0KkX3nSaATeMRQwEs3SAhJGeEs4BQxs1f6rnRX4xuWJLhRuNmaGCp1L7dXsifANBgcPT/FLf+UzzMz3OXP2FOcXvs+zLxzn5ZdOEJf2c/yBByBM8Xu//Rpf/4PvFKtvoVDYks2ELxsIvLVca9uYSdqMmbTt+nZbCT426LMdNhp//XhF+N66GEZ0kWDhyvdP4ESRJBANJx5nQhJh5D0xRWoVHInYNjgRQDAcSbLk1dUQuELh7mAsfEXeOwfuifCNJExXmD+SeOLpB3j2/ffyxLPz7LunR2wrXv3BZX743RN895uv887rS8RhD0dv/TCFQqFwFTsVvmO2arPV9jE7bbeV4GODPpOy2djrx9tK+G42znqu1e5a29hk+9p1d63wNcG0IpkBiXwKAtESBqjv07QR53ukGPAp4MRQESxFLEa8cxgOk5zxoQjfwt3ItYTvnswsZhGhx/lTff7gK6/wq//g9zh3bsRwWQlNzdf+8CX+yd//E958dYUYBL3GJFwoFAqrvFcvFbZgI5F5vVzPmNfT905HAA1CHSrq6PEBfBSqlBfaiMdhMTswuHH4mkUUcM5hq7d1g+LiUCi8Z87ZE+GrWmOxR62H8DLFU08/wf6ZR/jdX3+Zs6eN973wfmamDpLaGbAemFs/RKFQKGyL9ZNboXC7kSTRVCss9y8z7C3S+CWiW0Z1mYplBmmRmbTAfLvATLuCI10JWxMwUUzAZCx68ydF/BYKq+yJ8LUoqPYI8TL3HZ/mU5/6EN/4gzf5rV99hf/5v/l19u3r8SOffJZeT1GmsOLfWygUCncE5QFk5yhClYxeMKoAPimSHJY8WIWYQ0xRy3kbWLXr5kC2cSGL8RYhdm4O5W9SKIzZE8Xp1GFxRFUv8pGPPMZwaYWv/M63WDjveOn7p/njP/wG73v/oxw40CeFhFAsvoVC4eYzqWibtN1O2MuxC7c+YoIzh5jDqInSp9UBIzdg6PoMtWboKxrnSLKmiptIZ+0lF63orL7Z2nu1JC4U7mb2pICFqmKpZTBQmnaFH3zvdd56Y4nYVrRNw4Vz5xktJd567QyaeqQUKW6+hUJhK8wSzm3+vL4+iGE9W21nwjZM2G6SNhux036bsX689b/fatxpBSzG4lSIndOB4pIRJZcjFgJIAqsAJUoiKjlATZUoOVjN1IgCUTX7NoiNo3dW9yWr/5dzO1xZO14KhbuDtZfG2vlkT7I65IriEJKBZn+jmLIl2NeedjjESYWSI1HlLozeLRQK2yfFQFVtnNWBCQXdVm222j5mJ+02s+auXz/p2GtZP8Z6RGS1zbXG32octmhzrW1cY/va9XdaVoeIJyH0uMRIKsSmmR81nK1WmPWe2C6Q+jVu8TBOK5b9JVI1ohcSFiuS1jhJpLBEGDhSW9O3PtBm8dvZdN97xtb69r53a6Fwp2Jrsjqwbs7bsyvBABXF4RDzeHEoQmojTirEJDe6xgRcKBQKhcKdgJItvEi+QUYF3xtwOXlG/XmCeqrKkVJAhJyezARzNVFronic85glvCqVXH373vhmrmuWQqHA3l0N+UIbK2wHOAQ10JS3ihjItfNJFgqFwo1mM4tkYe+408+5s4SzSBJFTfEkhh6aVNFU+1iQOZZliiBDKhfQzkWhTbBCxbIbsNAKLY6UBEkRS6H47RYKO2BPfHwLhUJhLzBLqMqmD8ybrV/LbrVhwnZbtdlI9G3VZyesHXMvxmeT77IT7jQfX7GEEgnOEHOoCY2D+Qef4Cf/8r/G85/6PG+/9SrpwhmkHSGVkFQQGfD0x3+Uz/3cLzJsAwtnT2M0eNOsip0Ut91CYRPkRrs6FAqFwo1mt4RXYW+4W/8+Srb4SsoFJqIY0VccfeYF9j/8HPPHn2H/I89Cz+ErSCliyQhJ8bMHOPTok6SpWdrkERxiiar2RfMWCjugCN9CoXBXcbeKr8JNRMCpoElJqgQF6Q14/OMf5623TnL2zEWe+sgnsX6ftrsrKw51NdHXjFyPxtWoq5CUrVcxBawo30JhItbO+0X4FgqF247bSbzeKsc6yXFM0qawfYxEEhBzIEIrwv6jDzJ1+DAvf+dPOfHiixw5/iDVwaOsICRRxBRLShChdXmdGZAURInF3lso7IgifAuFQqEwMUUcb59cQsIwEUiJABx7/GmakLj46vc5+9J3UZRDjzzDyA1ICNoFxZlETBNJE2KGs5wwNGqpx1Yo7IQifAuFQqFQ2ENy6YrOSpsSzve455EnaBZXCOfepjn1KivnLnLwwacIvRlMHGKCZI9gkICulh8GcERcEb6Fwg4owrdQKBRuMbZrVd1u+8INRoRkYA68KLPT88zdfx8XT79LuHialTNvMTx/kf33PszgwFGSKWKglm3FYhGxiKZc4C2h2Xq8BrvqX6FQ2IwifAuFQqGw59zN4lxIuNSgwRDbz+zBx+nP7ue1V34ICcKyceqVtzi47z6OHHyYOtVIaoh1JOARm8WlGSQKgyD0Y4WzPhpBUkLESEQigaSRJIkkho3LFN+9p75QeA93oPC1bikUCoVC4eZjkog+ob4i1ft48qOfZZnAiYsnmHniUeoH7+edS+dZxDh8/CFcryb4hlE1IriEdRZe04DKMhZXSCmg6oDs62skrCtfjIztvp3wLRQKq+yh8BUwj1CDOSwlsNB9ekgV4HNJxm1ZAhJI6MIF7IrGtQgSc+1yAkJc169QKBQmY3tz0tbs9niF24vkHCuqrDhHO93j/qcfo56q+fl/5S/zs//7v8af+Q/+dT75Sz+FHOpx+IWHWdnXY6WnRNciOiLKZRq3wLC/yLC3ROwtkPwiI020qkRTMIeuukiAdj7CULRvocCaeXhPha+gKL676gwRcM7hpAJzxPY6ShZLfsYVDCEBESeGCpgFUgpYarPQLhQKdw1FZBZuNbSBmVHFVKw4du+9zE71ee23vsqv/7/+Fv/wP/sv+JW/9bf5p//53+LkH/0Rh/ffy/S+R6E9iF85wPRwlqnRFHWcIoQBkRmcTSOhZiSexlUEdaAekqBJusA4wbIdmHIXLBSusCfC1wxSakEXCZwFFnFOCcEYjZZpwjl8f5mqF0kpbO9x1Dykqc5iHDFdBhpUK2KoWVny9Kt7qKsBohFfZdFdKBQKhVuPu+FBRZPDWY9Fi/QeOcLSrPD2977H8FsvsvjN73HhG99i6Vt/ytnv/ilejPseeRSjj4s1g+jxTcRMSYNZVnpzrLg+oerRVDWNczQGJp5KPc4UlwQxMFmzrD+oQuEuxU3PzP719SuvF5Hsb4SMQFtEIXWuDXWvQnREG5YRFbAKEd2GOHVgvdxeWtAWgGiCxYpePUMzagnWElOT94FuT1wXCoVbErOEan5ev9bbomttY4Lt7GKbMdtpyw7ab4e9HHs3SHbrH+P2UFpxtIf2c/yLn6Gd8fzgN3+H/ul3mdKEl4RDsOmaY888S6w8r//g+7QRDj/6FEeefpalSpg6dpgjjzzG4Uef5v7Hn+b4w8c5dPAAZ0+fwcWIM+vudrIqeMf3Pil3wcJdhkherl6Xc2TvAYKKI0ZFpU8yh3hlem6GJrSo7yFSgykpJcy28yLGOv/e7EOcrMoVbcTQOuH7hrkW7z2hzW0KhcKdx61gKTSzW+I4Crc2ZqDOc2DfHPdM9bn8xus0Z0/TdxBpMJ9owxIL757g3DuvMTfdY989+0iaWB5eZjha4P5HHuSFH/kMz37m8zz36c/zwic/w8c+9lFeeO45vHOdMSiHtJX/IguFzZHDR47t+jWSUsI5T9MmqrqmjSMOHJzjJ37qC3ztj77Oqy+/RWgTvdphqe0svpM+ixpi2bPXUJIk0AaTIZ/45Id56skn+W/+679Daiq8nyWFFpHtCOtCoXCrkmLAe7f6+2ZWwc3Wr2WrNlttX8skbUU2DuTdaB0TjjlmszE2Y7OxJxnnWm12sm2j9SHaqmX/TqAKSpUcC97BoYOoKO7Eu8xIZMm1NN6gBVWPn5nCO6O9eJ6B81hvhqY3y7DXI0rO7evMUEtYChAjw4XL+BSpMMSyYcgQkuRIGBhbgguFuwOzHPO1fqrbM4tvsohZQNRjpkRrGcwKxx6Yox5E1EPd63WO9832XO8lIq4h2giznLkh0SK9wPT+xNSBEdXUCuaHtO1o9Vuvn1w3m/gLhULhVmD9nFW4fTFJRGvpE6nOnMG//Q59CSwzovXGSBOxFipLyKXLpIuXqMQYhRWa4QVGF97G3j0B754mnT1DOnuScO4U7aULDC9eoBYQEkkCSRImCSQ7+Y2XcscrFDJ7Iny9lyxoZZHoztOfb4hugajnmNrfEP1ZorxLmy5Q1YKMcw9OQIqJZjhkaqpGfEuQBahHLK6McL2IqyOtGOZWiHKJkJYJoUVViTGiquX1ZKFQuCXYjXloN8Yo7C2tJBZ9YLluwUXqCpYYMnIRSYaL0FgkGqj0WQ6e87Hicj1g2KuIXtAUqaLhoyEWcGlE3bYMBCQ0CBETSApRIJIARciBboVCIbMnwW3JEgcOzPALf+5HOfpgjyhD+nPCc+87zskzr5Is8MRT9/HZT38CLz1OnTyHcOX15TUxxbseIbQ88cxDfP6LH6c3HXG9IY88fox77z3Kiy+9xL3HHuADH3yGF559P+fPLrCwsEhVVZ1P8XWkUSsUCjeNtcFtbPHm5lrb2IXta5mk7SRt1rOTPpOwV+PuFrdFcJvRRY/lQDJZLSBhCDmNQpK8mBrJw4omTCGaEWvFCdRNpKceUUVNiAmoeqReRXLQhhG1QWWS8/NiiLQ4AQtGvhwMEyNZt+8unWj+7LjFT2ehsNvIJq4Oe+Lja2ZMzTo+9xPP88wH70V7KyysXObIkcNcvnyJdjhibnAvb720wO/9zvd5+YcnECYMQutyFKoPPPz0vXz0M89y30PzXFw5w/x8n7nZfbz64lvce+RhFi80fOuPX+frv/9DFheWiDHmL92diVt+Yi0UClcxqY8vW2xjgu1M2IYJ28kGPr7rf1/PJONuNcZGbDbuJGNdq81Otm20/rbw8TXQVGFiRBdQWpIkxBRJDjGlcRDVcClSJWickiRXWxNLDEJLZTnvWBBPVEcSI4qQRBACLrV4cvnhRA7mhoSSUFvrxJBz9mZ0b17nFgq3CXYNH989Er5KkgapLjN31HPfw1P89D/3Se69/xBTgxn+/v/yG3zzD9/i0umGlYsOJ4OcpmwCxASvnmGzgp82/MyIfUf6fPRTj/OJT7+PQa/i5Fvn+Qe//GXeeOkCKxcTzZJnemqGtu2yPYQAcOtPrIVC4SqK8H0vW42xEZuNO8lYm7XZbP2YzbZvtP52Eb5iChimASF0gWQgXRW1RAKJqGXba6OeKJotxGb0UsBld1wSjlYdJmlNGrKEWuhKUUgnmsdiN+LsFj9HhcJN4lrCd2+uGhMs9bEwx5kTK5w/21BVAy5eusSF85dphhUn31qgHQ5QnZpY9AKYRNq4jDpHaCoWLwunTi5y7twyaMP5i2/TpkucO3+B5eVlvB/Q6/Vo2+znS5d14pafVAuFQqFwS2Pa5nzy4xSbKOC6HApGnRJTrdGLiZyRaFxtdFXWEkSzGF51UsiFScflhg2HUWF0lmLyto0fXQqFwlbsjfrzAi7QygJVz/jc5z5Fu1Tzy//dV/jBt07ysY98gvuPH6GJKzQxbCenA1ECrQ5J3gjSkmzIow8f42d/8ot8+dde5O/+d3/IbP8on/7Uhwgp0jRDsGw9SCl1qdYmF9qFQqFQKKzHJBG1JWnb2V9rAn0a6bHiKoZOwYQqGc6yi54DXDI0ZZnbOE+rnlY8rWoWvCadG0NCTQhS0UiPIHXeZgk169wcCoXCdtmT4LY2BsQncMt84kfex0c/8kG+/Nvf4Ot/9BJvvn6Kp554jHvvvY+XX36TtvHdhT4ZJgmrjDaArxzz+yt+6ic/QwrKP/6VL3PijfPEEHj/+97HxfNLvHvqEmp1jmztbN6bveYrFAq3NjcyuI0J2zBhu0narGcnfSZhr8bdLW6L4DaMqDFXSbMeK65PK30a52m8Y+Qlb0NpVYniViNZcqYFx7KvSFKRcCQBb53JN2epJ4nQaJ9WeyQUbwFnAUFIosXqWyhcA7mRrg5ePRYVR5/7jz7Id//kVb7++9+DpuLUm0v89j/7Y2b6B5ifOoAmN66rOBlJ0FhB9BA9B+ePUOss/+jv/Qan3rqINcoffeX7vPbDUzz/5IeodDCeSQqFQqFwHWzkj3s97PZ4NxpBMSpaHVAfup/egaNMH7qfmcNH6R86jB08xIXZOS72p2hUsXTlRpyS0vb61PsP0zt4lKHLwW2GZpcIiyCgg1n6B45hUoEqqR2hAtsqeFooFFbZo+A2R7RE3W+ZnatZWl5mNDScVoQ4oq6Fufk5Ll5oIPaxGCavriYC4hgNoe450EUOHpri9OkzCH1EIiEN2Tc/R2grmpX86qhQKNz+lOC297LVGBux2bhbjXWt7dfaxibbN1rHbRLcZhitRZz26R24n5/+t/63zAzmkTCCXuRSc5nhqQu8/ObbfP9bXye88SoHYiRJYhRBdIr6/c/xS3/+XyQNR/y9X/4fuPi976IxMqgChCWWqXjhx/8cH/38z/Lrf//v8srv/SpzrICfYhgdTrM3caFQuJobHtwmGF4dqXWcO7NMu+LRNE079PTcfsLQ8+6Jy1irpDZnWJgYE4hK7WpIiqSKk2+do3azpNbjmaGWOS6fD1jTI7brBygUCoVC4XoRFAfJMzJHmp/hUhjxO7/1W/zmr/4Tvv31b6Ha5yOf/yLPf+GLVPsOEKwLZHMO8zWPfPAjrPSmcfsPcfiRx5HBNOI8bWizk0RVEXyP0Jtl5Gq0qqi80rYt4qq1WXoLhcKE7InwNYtgEUkOLwOINYSKvp8mtdkFovYz2dlfrYuInQxLRooJ54TYjlA8XqYgePpVnxRAUo9KZ4gNeDdhfuBCoVAoFCZEgBpPaiPSr1l2kUjLd7/6ZV78vd/ja//gH/Fr/9Pf48SJszzw5DMcffhRggmRLHy1N8Xx517gW6++xcunz/HYBz8IvQFJHQhIV+iiEU/sTZPqAa1FYmxxVc73u7G9vFAoXIs9Eb5IBNpcijjlGoqqhlnAUgJ89k+yCNIiEtePsCkiglMwG+GdkWLEaZV9rSyikp/CxRxGJJfXKRQKhUJhFzFDUsBhJAtETQgBbYbMDodMhcTozDnOvHWK6el5ZvcdIDlHMiOh3Hv8YarZfbz6+uv88KWXOHz8IWYPHaK1nMc3WUKcYr5iZBBQRHMQXEw5qK5QKGyfPRG+ooZoxMwQcdlXSyJGJ3ItvyQSBSTkpIXbQRLQIC4gkssPmyUg5P0YgHSCenJRXSgUCoXCZBhqDYO6RWwZL33CCHwFzpZxbUOshcYr0YQYA62AT5HajKNPPMXKqGX5le9y+dXvsNwsc+yJxzGNeCJJlGFIJEkgDRqGWDKGlScJaGgRcn7gK8t7DnHD1YXC3cyeCN+rrzbpfm5BRvlzdf3a9ttEYhbNAKv5DOPVbhMSO5G8g/ELhcIdzWaBVYXCZAgmSooj0mgF7+YYyTQrCkuDilAP6D34AEcffYR28TIXz58g+PzWctCfYfqhR2kvXiKeegU58wbh8iJz9z5MPTUNZkTtgZvCnGA2wlnAuz5Lopjz1JZz/eZ73gYK1/JdttiFC4Wr2SPhC7k+TU7NYoBJwKTFJHaXqMPMrb9UJyKPnauS559z1RuTtGY9GLZ9a3KhUCgUCluiRGYZxmmopmlQRtMzvPDTP88LX/wzfOLn/zJf/Lk/z2MHDnPy63/AhVe/jWjgEhXh0L1MHT1Ge+o0/tJlwpkLDN9c4vCx56kPPEjLAEIPtT4hOtCKZA6NDo0ezJPyK9M1y7rbueRY8JLUqFC4mj0RvlmIKmbdJ7nUcF7GwtStEcaTH8a44KNJLuiY+/vu01YvdBPBxLL4LRQKhcJ1s1katLuRJELreyTXR8SI7QpHDx3iw5//Sd732S/wwU98lqP79/H9L/0a3/6nv0JvcYE+IIMBgweOU+2f5dVvfQ+rBiwNlde+9yb1viPM3fcgSEXflKmmwYVlnGuprWGmDcw2Lf00RC1got1t/L1/F+tsweWdZ6FwNXtSuQ1JXSXxusu727kliIE5oMohqxhI7OqSTyh+JYveHEAnYDWIu3KZiwN83taVksxjv3di2Jo1T9O2wUsj4cq0kmtNdhbm9dPMTvZdKBTWs5uV25igzVbbx0zSbpI269lJn0nYq3G3y2bHcTtUbjOMEYarAlorH/jsT7F48ix/5z/5j/jul36Lb/3u7/DHv/urvPrtr6Cjy0hSWqtIM9M8/cUfo3fvUZrlEfc/+Tj3PvMCUw88RHzoHkJY4PT3f0A1ikTxzD7zNEeefJLXv/UdmjfewGhIzhNQkCtvTcemoO5dZ2f86W5fV+5khcJdg9zIPL4g3VXWgAw7kdoDm+rEcOy2xU6kXklIvzU5E0R+yvXdGKG7ontgVV6nw24S2O6lLt3Ya18jaQ7GW7dcEbzj5+pukTXLKnt0qguFQqFwU1CWcLJMzyvSROaSIu+eoj77Jv7dV6gW36YOl/EieJuh1/aYGszyxJOPUY+WeOzJR3ng2Q/w8PPv59j9B1Auce/Dx2F6nraLXVEnBCKtKkEcAUcjSuMcObzNgeQ3q1fZalbNQd39uFAowF6qMTFDpEG6dGW5BGNOwJKdFSJCQrYdYLKm79jxQUL3eze2pW7s9X0nYe0LoitBA+N/a6eTK6yZba6addbONmvbFwqFQuF2RkgMvKEWiFbRyBRB+0iKVHGRaZYYWEMlHmk99ahiMKx45L5nmLN5XvyHv87f+5t/g3/0N/5jfuM//s/41f/o/8G5L3+Je2rP4XuP4KuEtZfxaYmeBiSNMGdQK9ElghjmPFGVUUyEZKQ0vumN71FS0p4VCuvYE+GbXRfGS+qEaug+7WrR2rWblCv9Uidw47plPPb4kt/O6HSTxTgNWmdNJnQZJLqsEZKuBM2Z5KwSplf/fJXVmG4iKhQKhcKdgAA2BEYViQEjP8Ni3aftVyxX0KgSqJE0TfR9Lky1XNjXQx55ktP0OfnO6yxffp1w7mXad19m+d1XOfvqKzipOfb4UwyrmtirSaqMmoQM5mmnDzKaP0KYOUw9fwg/M4sbDNC6RrxHNL+JvPoeOD7aQqHAXglfIFt3TTu31zVida3o3cwldgtW3WmvEtHrxLTlY9ju2Ff56q66LHRp0TRimnLQnFg3mawVuOtdJMaMhfJ2D6ZQKBRuD251n9zdR0lW4emjbUTbIRpGmCYap4xcRZQas5pgiWW/jDvU59hDx2kXR1y8eIYqXmZKR2izyGwVufjO21y82LLvwRdo99/HYj3PCrO4wb08+4mf4fP/0r/NZ/6Ff5sv/Iv/Lj/9l/4NfvEv/Qv8+E//NHhPMKONIRfWMNA1tzLt3rYWCoW9Er7mwHz36dYJwbGllDVicTuX5Ni66jbpO07r0O3bNmpzDVattlfngUl0ReiwzglCum8y/m6uW3TNZ9dfKKK3UCgU7iASkCqPuUA9PM/lb/8el771ZforC9QxZWEsINLgbciURGZshHv9NZb/8A9J777NXAggFSPncZpYOf0mJ779dVZOvMYMy8ywSPP2y7z19d+nPXMCTSNSu4xrR6SlZZZWhqy0geQUE1Dnso13VfB2Anj9wRcKdzFy+Mix3VdkJleCv0gYERHDzFDVXFnNHGaKiGYpeVUg2DUwVsc2Ui6LPN5khkgWrWbZApFz+a7dvtUUoN1x5uM1yb7DqUuVlnfXiVoD7cT7eH9XGFt4O8sxaY0LRKFQ2AkpBry/Egx7rev5WtvGbNVmq+1jJmknIu8pmrH+9/VMMu5WY2zEZuNOMta12uxk20brQ8z3ipvL2uOyNQaU/JmAxmBGWxitsNA/xCAJzi5h0pKsT9SEmuCASCJER98OUqln2b2DT5EF9iO+ogoXQZUV69PTxGy4SBVGLPSnWK7mkTTAQkvqR3wSZAShV5NSi6ZAZYHKDGcxv+1cNch0RppJ77GFwh2AmaGbZHXYE+Er+JzDN0WMgFmD8yCaBXFKkKKiWpEiiLtawF4LM0HMIaqk1ObxU4s4IcWEc9ny6rQixnSVtXU8wY4n/fdO/oJaTUwJ9ZBSAE05qjY2xJTHDyHhqx4pRrxkL6oYoKpqUswBBVcqxq0VvrKJlbpQKEzCnSZ82UT4jZlkXLYYYyM2G3eSca7VZifbNlp/M4Xv2DVv1Wza/Tz2mrXxGz0TIOKtATEarbEu7gQxBM0W1wSCI4gHFEk5/WZyDWC0eHCKWgOAmcvZ6a1BUyQ6Icj4DaaQNOcVIgmmApaPTDEwQ1cDqW/O+SsUbgWuJXz35MqIMRIt5ncsLiBVZP7gFF/82S9w+L79mAZwgURA3HsnvWsh0nkKm5EkEa3F1eBq430ffIaf+fmfwFWJyBCTdvUp1zpr8/jms+HEb2RR6yosWD5hkohpBBoYTFf89M/9BO/74LM0aRn1kWQNMQ4RjcTYoE66iXIDNthloVAoFG4dsuxdU3xpdd3Yxe3KogZJPEGqLI5VSOpJVGuKNLmccqy73ZoLJBcBh4niJeFS28XF5NsmpkSpCa6H4XFGHkUMb4amfPOuUqSyhLeE2rgUVHmzWChciz25OsSDuEjSEaYjtI64XuLBRw+z72AP8SPwAa1bWlvqsiVMRp58IpEG9QmtEq0ts9Jc5vB9czz61H1IbwRuhWG8CBpQzYozpZz8XkQ2Fr4CqkJKkZhaIGCMEG0xGeLqlkefvJ8Dh6cwXSGxjLgG0YhzRogjzBLJyiulQqFQuB0xyflyozgiOW9uEEeSLFSty5lrAkGVKJ2wNY+kvGgXY5LwRM0px67kdl8T7G1d+s01n2rWWYq1SwHa/Vv1281B47qJfaVQKFybPRG+RqBJi1SDyDAsE2yEHxjVVKA3bUQdknSBlXCRqp/AbUMoaha7Jg3DcJmkK5hrqKYi/ZmE7weasEJyK/heRFygDU3nAgHee8yy/+5GqEska/BVxGSISMMoLGPa0MQRUzNC1U+E1GA6AsmiF2kRSZhFbDPhu/EuC4VCoXDLYJ1Lg+SSwKIgYysv0OWJVxImECU7GmCCS4pLiqZxWkshCCTJMSldSFy3jO3K4My6JbssXHGIGwdrj624CrZHN+5C4S5hT66fRGD2QJ8f/+Jn+fDHn2L/kQG+byRdYLDPqAd97j1+iC/85Kd55IkHidZOrApjDKy0C/gBPP70Q/zoj/8IDzxyGO31Md+gvUXuubdmZv8M7//w43z6cz/C7OzsqqtDSukawtcIoQUJOAf79s3w8R/5ED/yyeeZ2zfH3H5B/BKD2cSBwz0eOH4vP/Zjn+aBB48RYoM6ELVr+CtnH7FCoXDz2fCtT+GuJzs6XF0kKfvRjoVqRK/K9R7BEt6yG0JespjFxiI35hSY4+WKjAajs+nmUOkrd4nxfeSK6F27vfzXWyjsjD0JbksSmNk34Cd/+rM8+tRhWjnLpaV3eOD4YS6cv0yzNGB++n7OnR7y5d/+I37w7ddxVBNdyomIuDyJPPr4w3z+pz7J/D3CxaXXmdtvzM1P8/IP3uGe+UeRuJ8ffOsEX/3tr7NweXFV7I5F8HvJ2RzatgWE/ffM8yOf+RDPvu8BUn2eU+de5Nnnn+TMmUtcvpg4PPMoF04Gfve3vsqLL76CRcHMIbjupjr+PmstwFt/x0KhsDG7Gdx2vdvXMknbEty28baN1t/M4LYccW2IOIIF6NKEkRIOXa0KakBrERFFkuDxWDIcSiKBQpRElIgBKl2qMTpN2xlgVPL9wnnPcHm5C5I2RBX1jpgisbtnORFiE/DOZbe/kqmhUNiQfG1tHNy2J8IXBJyQZMijzx7ioWcGfOJzD3Lg0ADHNH/85Tf59h+d5K2XL3Dh3SVIHsGvH2QTIooxahL1dJ/Ze3o89NQMz3xong994n5UIu++M+SPv3KSV76zxDuvXaRZThNWcEskC4g4UnSod/i+cd9DAx59foqPf+5eDh6ZJrYD/vgP3uEHX7/AyReXuHB2gZQiznlCG1HN7hRXnsvHp3gPTnWhcBdRhO/GXGuMjdhs3EnGuVabnWzbaP3NFL5i2aKbRDDN/rz5eLq7SEoolv1xvRCToShiLgtWUVSFmBoS2RlX1V3lwJCFLyRj9c7cti2D/jTEHPOSLNGagQqqWQCrQSUKZiRLiNv471go3O1cS/i66ZnZv3716usnhJZkEZGK0++e4OSZC7zvQ/fR68Ps9AF+69e+x+/97vdZWWhRM5xWnQ/T1giKE81pzTxcXDzPm2+eYGoennjqOCka598d8Sv/yx/y1munaUeGk3pC4auI1FiKVLVhElkeLnPuwjkuL17g6eeP0R8Ivd4M//BXvs53vvkaC+caMMU5j6oS2iyArxa+4+W9E3yhUJgcsxygOmYzAccW29iF7WuZpO0kbday3fbbYS/H3g3Se/Ki30jG7ghKNEdrAlVNEE+07PCQxIE4BHBe8VWfpWGb26kQEcR51EmXwx5yNt+x+FWSKKKekBJ4j/oKVLEYQXJotWlu18RIMkFFssuEpRy0fdPOUaFw6yMbXCJ7Jnydq/KF7iJ+YPzMz36Se+89yj/9x78PccBjDz7Nqy+fYLQcITlILheemIAsIRWznMosSctTz93PL/ziz/LSD1/la3/wQ55+4gP03BR/+ievM9WbhqQTCl9wmhN+h5gLbzhvSCX86Oc/wlOPP8U//sd/wHDJ8+lPfpYffucNli62eFfTNDmAzq6asPPRXqEI30LheijCd3fYy7F3g5sqfFVJCE0Sku/RiCe4Pm2XizdpjbkeQTxihqGsJKF1uQJb8D2COoIKZuMqatr58Gbhm0RJIogqeE8TDfEVTQiIpWypci63U496j/cVCUNSwntPijH3LxQKG7Je+I7nlD0RvkKNSIX4ZR5/6j5+/Cd+jD/4ve/ypd/6Dm+/fpoPvv/9HNi3n1deepM0HHSW1vWjbIIJlsB5T7Ahs/MDPv/5H+XgwUP88v/8T/jet88w1ZvjAy98lFPvnODS+QWwakLhm0hxhEqNpSr7WFVDHn7sID/7Mz/FV7/yp/zub36Pd968xMc+/hGme7O88eIpQpv9rFRzxG1K4zzBRfgWCrvJpMJ3s/Vr2arNVtvp2kzSjgnHW8t222+HvRx7N7iZwjcCbVJcf4re/D3IYIZqahY/mMf3Z6ln5vGDWcT3iG2DqmMUjemj9yL9aaq5OVxvQNWbwrnsr2sJnClIF9YmQhIhROjPzVFPzbAyHIIItVNC25JUQR2u7jE1N0sIgRRbvHPEtqGus4GpUChszA0VvinmVzquHvLpz32YS5eW+a1/9nVWFoVL55cYjZZ47plneOkHb3L5fOxy6052BZsJiqIOkrQ8+NB9PPfC8/zGr32Jl374NtYop09c4IH7jnNg/35e+uFrELMVd2sMaHM+RunjHKDL/MQXP8n5C4v85q99g+Fij+XLLRcuneLh4w9x5p3LnDt7kcFgQNu22b9r1XpdhG+hsJvcisJ3UrbTlm22305bdtB+L9noWG6m8M1evdDff5jP/sV/lU//3J/n+fe9wAc/8Rk+8IlP88JHP8lzH/80T33ww5x64zWWL75L/8ghfvpf/3f40Od/huc+/HE+9LFP8uTzn+DeJ59DDhziwqUldHGZygJJEsMUEN/nviee5uf/6r/D05/+HK+98UPa84vQNqgHRQnAs5/+PD/1F/8lLi6vcP7N16hFuoDp2Bl0bs55KhRudW6o8HU+lxNGIpcuXeY7f/oiC5daLHoU5fzZi5w6cY7z7y5gyeUyjxNeu/lVkZKsRSQyalY4efJdfvDd15A0hcWa4dKI0ydPc/r0CS5dWEJssowRACoeFUeII0SHJBqWlpZ56fvv8O7JFZQpQgicOfUOF88vcvbUQn6i7yJ0na4N0ls/KRXhWyhcD0X47g57OfZmbGefN1f4Zjc3m5rnwR/78wyrAd//o9/klZdf4e033uDN117mrbff4M3XX+H8668go8uEqZqHv/hnWEk1X/vKl3jr5Ve4dK5lcOQ+HvzIJ6in5nj31ZeR0WVwkRaFeoanf/QL1I9+iJWZOc4vvMPo5bdxcYRpFr6IsO/pD3LPCx/nu9/7HqN3XkaagPM5BmXsOlEoFN7LDRW+WcgaCWHh0ojhikEaV55RYqtcPLdI247zJLKNi1fy/8SASNu2XDi3gKQekmrUKpw5lhYXuHz5ImIeMT/h+NKJZEPdCKRBgAvnV1i8nFB6kINsAbh0bom2Sd3k051UW7sfWbffInwLhethrfC9ljC61jZ2YfuY3W63lp30mZTrGft6+k7KzRS+Jrl6m03P8egnfoLR0iW++j//57z70ne4/Mqfsvjqt7j8yjdZfuN7+KUVfCvozDxPfe5nSOcu8OX/73/K6LXvcuq73+PE6RMcefQp7rn3GGfefY3LZ1/P1dt8n1BP8/G/8Fd46Z2TrMQFjj94jJO//6dYs0iShBqYCPsef55jTzzHS9/5NqO3XsLFiDgjkbNJTHZvKxTuPjYTvnvqGT+udp7LLXrEasQqxHI2RGUHWnA1Abgg+DwePgcOdJvy2A7t9rU9QvcayYHVnX9wzr+4mmTcPJpq6NYXCoXCncDNEpu3FMGRQg+NU6SmwmmfqhqACFGMSCRYQ6QrvGSCuh7tsGVAoh8us685w3x7huV3Xub0ay8zP7+fffP7CGK03lgicOjhxxj0j3Lha1/n8re+ztF77qd/+DCtaC5bDGhOB4wYuM5wBAo2qfteoVBYz54K33FpRu0uWO1qmKvZ6oTBaoqXScm+TVkxO8SylVdMuoo62cUCU0g1TGztJY8tDUjIfr7Wg1R3Qj0hxK6WunbfowjfQqFwe1BE7WSIJERzxiCthGRG0wZaapJOE/wsqXeAxs3SqqeRRCuGVBVBodVI6xKNCwxtCLUyDA3REkkUYr6P3Pfk8zTBsfD2q1x87Ye0IXHwkcdpx+5yXWliZ9bdM7s72ep902/z3lkoFNi7qyauikdSrxOOEZFRJx4rSL3u4h2XfZyUlIUtOc8iyYFptixLi0iDEDrrb72DJ2PJY0t+mherkdgHc3lsWcrfwzyS6onzDxcKhcKkFJF6s8hzv+gKuGWCjHADz4PPPs9Dz36AB579KEef+jhHn/4Us8ffz6g3hUy7bAF2wpLr0U4d4kS1nwtzR5k9/jBHHn6AlZULXLx4HkmOmZFxqJrl4L2Pc+nyJS5cOsPZ8ye5dPkSB48/gvX6nQNgLnhiXXnjbEBiNc7lare6QqFwLdbOqXuj2qQFWiTVSJqCVIGMQBfzp/WQNNOtbzohux06/wjTzg1Bu3VrRbF0X287X1GzewOADPOx4sCmkdRHLIIugCx1luTeNkT1dn06CoXC3cCdJHLvhO8iODT1sdCjjT2m7nmAn/iz/xI/9y//G3z+r/yrfP6v/Vt89n/9b/K+X/wl3Pw+0miFKo7wJMzN8Oynfp5nf+yXeO4Lv8RP/IW/yr0H9nHuu3/Kwg9fYTD0zIY+c36Wg0ceZvT2m+jikOG5RRZPn+bQ8YeYPXKMKI6Ug1myi51IFr/rD7ZQKGybPbqOPFBhkjAdYRowPEYvf0qLySg7+TN5xoXMWNACkjAJWK5xg+G6/fjuGblzqdgGuYd2x+q6Yx3mTzzYVBa8EoCm69QFtb3nCbwT46RtH0ehUNgZd4L4ulO5Hf42gZYVFrB6xKDfcObNb/Pf/Wf/Z/7zf/9f57/89/83/Df/3r/C//B/+Jf50t/8D4nvvMqMKoM2Mj1M3HfgGJ//ub/Ej/3sP8+P/ug/x6HBfr7zz/4ZX/t7v0x18TJeaxZdTf+xJxjtG/Dmy9/GxYQNW7777T9huH+a+sgRrO7ninHeEa+6d4zvKeV+UijslL0RvubBqixsJXbBaN06HGgEbfN68531dFLGjv2dlVdS9/6n83sa70PkyrbtILZmHN9Fy3XHSgXWv/q75U5rlkKhUCjcroh4KjdFHBmpiQzUES5cwA0vUy1fYLB8jv7SaabjZXqasJjQpPTEc+Gtt/h//1//Ov/l/+0/4L/6v/+H/Ld/4//CH/7q36dZPM/iVOBCL3Bp30Hu+8xnuTgT6T00z9M/+2M8/ws/w5FnniBM9XnwmWdJVQ+rezR0GSZgVfCqZbOOFPFbKOyIvRG+m3InCMMicAuFQuHORNDk8KGmTn186iHBk0YJSwqpe+No0IRA8I5FhDg1w0II9CtjeO5lwslvwKlvUi29RZ2WEZdoaIgSkPmj7H/4GWK4wCPPPMrzH/8I7/vwx3j4/oepW+PRhx9F+1M0KE0EVDE1TLo3mOPPInwLhR1xg4VvoVAoFAq3LiIJtQZSQ09aPBGpexCgokKjx8U+ngGtOIa9mgUzbFDTpCXUzjNt7zKVTuHad4EhVRs5vAwHhsJDxx5lzs/yzq//Br/2n/xtfvNv/C1++2/8F/zm3/wvOfHVrzHfn+Xe+48jyah9DgAPMWBARLPznEBQIYgQRIkixM4mfLWLXaFQWE8RvoVC4bbjdvAVHXMrHeuNOJad7GMnffaMlC2poo46Xsa7RJo9SNq3D5udRab3wfQhdHCMWvtYFExqBqMlaheJUtPoLK3rIeapoqCmjFzFSn+K/ffvh3SRSy++zPD0GyycfpnF0y+xePIlzr7+bRr1HH7gCQYxMDUaUachSMCmZrHpI+j0AZq5g6zsO0TYf4R2MEvT6zMUIzkjyThTUsJIpC7apVAoZPakcluhUCjsBePKbdcSStfaNmarNlttHzNJu0narGcnfbZi7Zh7Mf5ucjMrtyGeJvWJ00d46mOfxR08hDt8L8dfeJYHXnieY+//IPd88KMcff+HWTj9Js3lC/ipeT7ysU9Aavjal34HiYkqgetyzSNKcA534B4+9LnPIAS++aUvIZfP0LMVVC1bbX3Nwec+Cv1ZTrz8IivNkPmnX2Df0x/AzR3hkYef5OEnn+Pohz/CseffxzOPPsr99x3jtddeITUNThJu1f+3c8voss3fpLNZKNw0ZE3ltrXzSbH4FgqFu4qbJqjuIO7ocyiGOEEIvP7y9zj96osc7Dtma8+g76kHjmrg8FMO9QlSi7QjTrz4A97+/vepotFLRq4Zmt0QkhmaEjMiyLkLnPrW92jPns05jUQQMbwlVs6c5p3vfZvhxbNUPU8Q4/LZM5x56Qfo8mWmBhUz8wOmnLCvUuZ6FTO9GtpA7R2VXKkyeiWd53bTehYKdzZy+Mix8hakUCjcFqQYqKrNs8BMIsh2qw0TtlvbxroKXOtZv36Scdezfoz1jMc0sy3H32ostmizk21r14doqN4MsWZgI5I0rOiANNhPDOBSpEoNlTWoCZGaJB7PCgljmSmi66NA1S4zsBEVLYbSSg+znGxzFB1STZFwiA2pZYjaCEsJkT5RZ1hxNRqHzDYX6bvIBTyj/n5a8bjhCjOV0YQh0VdEczgRKhISGpwlXPenNYRs/+0KPBWf38JdhJmhncV3/XxXXB0KhcJtg1nCuc0F0foJbiO2arPV9jG73W4tO+lzLdaPt/73W42b6+oQUCLeV0g0bNhQp0A/NNSpxVkCy/6zQotZxLsaTYaOhgwEqhRQS0QRgipJDCzhElQBBiKotSQazBnREmKCSyChoZIWLw2WAg7FmeBTwktEUkNfjSpFFEViwFmi5xRSQletvR6Tta4OGz9wFAp3Kln0vncu2fwOUigUCoXCLrP+JnRrIfhUM9VMM71SMzes2Rd6zKYBtfWBAUEHNL5H4z1JOmtqs0IvNUwrVCmhBtnZQUFyZfukhnNQSYRmBWeBJInWQfBKEhAL1IBLjmADks7hZQrXgA+Cp09MPST20FbRGKm6kk0pBCyt8e296jQX0VsojCnCt1Ao3DXc2qLr7uaW+dskxcxDAokRT4IYMIOIkMahY2aYCSKKF8GlgLOAEEGUJLmtmAFGckLSSNKA+EiSiKmSTDF1ebtLiLaYGElqGnE0lhAXEGmJFhBVghmo4SSXMRZLWe5qdmq4kud37OJQhG/h7mSjeWWPfHwDCAielIxEpOoZh44c5PzZSwyXDScOEcMsYCgysQbPqVpSV788poRqBbTM7auYme5z5uQlYuiDRUQFM8E5R0pp1Y9so5MBCdFETIJKtfr0LApmAedHHDm2n8WFFRYuKpY8SANERDwisoH/2ngCArrvq+pIsUIk52iEiFlCVOj1Yf/+/Zx99yKjYLmKXDScEyxF1Alm3URmCp0PV57g1u+7ULizuF4f3622M2EbdtjuvfNDZv36Scdey/ox1rL+GCYZ/1rjscX2a23jGtvH62+ejy+0GgguIGaodfbTrDOBroRRd5xJKgyXt6crTgVJcq5dI8/7UQwTcCm3c12W3SCQNFe71wRKwnREFMGoMUBl1LlUOMwGgCIyQi3hYx9ZHY3uXnqF8d0nH1WhcPcw9vFVfe9/+Xsys5gFzBpibDF1mIvMHVJ+4c99jgce2Q8KMdFlFwzbS7QtCZNAtBacYRIIFqGOvP+j9/MLf/HjaK/FqcfIJYtjzKWFzfJkamabTLxGlECyRDJHNAFVokEkUk+3/Jm/9Eme+/DRvD55rPP1CrHpxqY7reOTPS6rnBAxQhqhLpAiCAOSJUxGmLSoDxy9v8cv/NnPMbvfkzQQLGAqWcBLQogIDUILEshncVzCuVAo3EpMIjALtxZiDhdrXKpw5nDmMFwncmvMarAKNY9ZhZFLCpsYCSPK+K4mmAAYblU4G0kTUfK9qTKoo1CHtaYfwydHFQb4MIBUYab4JPSDo9/WuFivm/OvSNu1d7Yr9ulCoTBmT9SSuh5VNU3TBsARg6AuYrpIf6ZC1OOqiqZtaQOd5XIyUlJIPSz2GC0rVTWLSE2IxtTcNP3pAaMWUhJSUgTPYGoAQIyRlBIisok1QSH06FXTJBshbpk2XSTYMonI8igyNTegN12xMDqN1iPEJVIK1HXFqFnBzGjbphtvPBkJmCDWwzFFipBSIsZl6qkWc4tEWaTlMv0ZGMx4qr5i0lL3BGhZXFoGU5pRu+6YC4VCYXORvX79+t9vJW6FY3PJUYU+dajxsUJjhaSKRE2kh1kPsRpJNWI+Z04QxQSCg6AQVYmaDSBqCWeGi/meY2IETWBQRaUfHL3gcCmPISg+VPSaHnU7hY89XPJUsaLf1AzaHnWokeRXHRkSmt0w8q0ml66Q/GYwG0uy8adQKOyR8E3JEZJx74Pz9GZGUDX0ZoT+XKA/vUJyCwQ5w6FjA/YfOLitlzBKBTbAuz6z8wNm5hxSLZMYksRwHvozRqqXGcwb+++ZZjTMgrT+/7d3pkF2XNd9/517u/stM4NlsA4WkiBBkJRIgARJkSIpiqSoSHESq1xx2U5c5XIqVUlcLsfO8iH54MSVyjdXPiSpxP4gOZLtSBYt2dpsSjYlayEtioIYyuACgNj3fZvtve5778mHfg94mHkz82YwAwzB+0M9cqb7f5d+M3P6vNvnnpNlV0IeQui2yiwYseS5QxDSDNauW0J9wJNUPFnd4hRMllBZViDVSwyuHKBWr6Lqcc6RJIYkSTucXgNqyw8A3qA+xTtLrVZDJccmgaWDdWw1YKqe/hUZ4/4iwY5j0xybBtYMraKvr0ZiU5KkApoCSav/0AqXiJ/qI+9v5sNp6rWPXnVzYSH7vlEstmvQlpXMjeBVyBwoTZyMgyjGWxJncCh54oACkYym1PCmSupNmc0BjxePM0qBw+MxocCGZmuEJmIKytUNodAcjMdQIOR4EkRTTDAURnA2J5eEJhmCJXOQuARDguBIdAxRwVMjSIaEJoQCIxajKVe3rQNSBlrAVLfUeI+IvL+YygwtSDqzoLBy9RL+6T/7OFs+OERtiZDWL7Npcz/nL51mYKCfJ57+AE8+9ShFnnLs6MlWbFQvGEIQMDkPPnInP/cLH2VwTYqpjnPn3ctYuqzG0WPHuecDd/Hs8w9z1+a7OXX8IpcvDeO9x1p7JdxhsnFWxCiCxUrKilXL+cQ/eIYHHtpE39IUkzbYuv1eRhoXcTT40KMf4pknP4YGOHT4EFma4YNiTZm6vKTtAAvBhVZ8olIUZfDY409t5/lPPsXaDYOodazdWGHtxuWcu3iGTXds5uknn+axDz3Grnf2MDo8hhHbiodu9SvlCkJ7lEjkVkYJ2K5Pa3pztmbSzHS+zXzrOplLm+mY7/5uBPOdzkyBQpXcJmAy+pqKSxto5vFNsM2UalJlOPX4miMrcjTUuZTW8STUvaOwOUVaBpo5Ywlpedeq2tL59abC5dAkyyokvoqXDO1X8mKczBgCgXGtUg8ZkjtGq0JhxikqK2mYGurGqHkHweIkwdiCetZk3FYYkToiQt2MUhihGRQNYM3VqmzSEWR3tYjFtUcjkfcTZR7fyb/3C7K5zaMk1YIHHlnDBx64k/W3LyPrv8DgqhrDl3PGzvcxcinn7Z2H2bnjJOdOjGHIJnbTHZXSQbUFg0MVHth+O/dt3US1P2dwdYWsWuHMyXHwAxzaf5w3fniA/W+dwxVXL7Md6zuZgDEe54QQUpKK8oGtt/PQY3exZkMfpjrGqqEBxsbHOXdunDC8lD2vn+T/7djJ6VPnEMoNa8GDte1V34l9N9FgybJlFD6wbGXKwx++h3seWEd9acHSFTnVAeHc6THc8CrOHGnwk9fe4e2dB6BICa7c6AYebcWJBUB0NhsEI5H3JiE40qT75rZuBq6Tmc7To4br0HXfW3Dt8YltZsvEMeba38R+ujGdZrpzzHC+cGVp6vkiAEUQVt73APUVa7EXhzm460fAGDZUSc1SVt+9GV+BI3veoD42jlQ20Pehx7ECS3yDsaRJsBXEpVhNcMOXOLFvJ4xfhKTGhu1PEyqQOqXiUy6NNxhvHuPc6VPo8GXqrkHuUvq9wYrjbN0jA1Xu3fwUSJ09f/cK9dHziCoFCSIFVevI1m9h6YYtnDqwC39iNyo1fLCkiUHVTbzUSCTSsi/WdLd/C+L4Oi0wqVLoKLaas/6OlF/61ae4487ViNb40udf5m+/u5diLMGEBIpaWc+8F7RclW00x6kMZBQ6QqXf8dTH7uCTP/th+vqr7Nl1lM//4Xc5vL9B1dfIdClF0yEipGlKURQkSTLJ8CqB4AoqtQp50SSpVBgdv0xSb7Lujgq/8CsfZeOm5ahkvPCF7/HGK4cpzhkSqQJlChzBYiRlciSFBxkHPNb0UeQZTQdpFby5SGVgnCef3cLP//JHKLjI4QOn+MJndnBs3zApFdTVSenH52AtIA4VXzq+0nJ8ZxErHYm8F5nK8e1m3DqZ6Tw9atr0qp2om2hzOmmfm9hmtsyXEz3dXNtMp5nuHDOcn2/HFwQ1FT7yK/+CtQ8/STE8wjf+5+/SPL0fvEery3ju1/4VawaW87n/+jvUpEF95Rae+Tf/nurSPioXz9HMHF7LjWWVkHDx+GFeeuHTNM6epL52C8/9xm8zsHoF+bEjLBPLuDbJm2c5evQEb7/2Ghfe2UE1KFnTUa1ajmUFGx5/mk996p9jJOOLf/h7nHv7VdJmAzEpgYARx9aP/2Me+3s/x0tfeYF3f/AVjKliRbA+pimLRKZiOsd3Pi3LFYxJCEVGym2EvJ+++ioGanew+62LDF/KWL3iTrS5jJAvI/iM2TyCUQRRSyVbRjFWxeogifSzfMlG8rEKu985ztKBNQz0L8cGg6FO8EqSJFfie621XY2uYFpOqcMmDudGSKxQzfrpqw8y0DfI8aNnGRsuuO2221GfYhJLCB7nPGmSoEFxrtun8DKLuWiKdwYxkGUC6hApd96uXrOGkcuBQ/tO01cbZMlAP4kF5woSm+B9uTHv6mOr1vs2+VIikUhkSrrdDOabmcaY6fx8oyjD3jBaX8HY4Fo2PPA4TutIEEImnE8tI0kdn/QxahLGbYKkFU4ePc5X//jzfO3Tn+HFz36ar33m9/jzP/jvfPfrf0xx+QS2OUbeaOJqdU6dvcBf/OkLfPGzv8+LX3uBE4cPs/n+7Tzy3D+ktnwdiqIECg1okrD+/se50DCMONiw9WF8tUaQ1myN4G1GbquMkjHsDSGtlpvXvMf7PBr/SGQOLIjjq8FiTA3nGixZannuucc5edjxjT99k7/55t9x7723c899G7EmAa1DmLyCMxUiFg0VQJCkgecSH9y6gccee5y//MoOvvYnP2H8UoXHH3mQvrqgOhvjIIgxeF9mjggqiHUoY3z0ox9m+FyFL372p3z7L/bwyLb72frgerxzGJNibUJRFFyNptYJLwEyCDVEK2UaNzOCmFGSNOf+++/i7jvv5gcvvc2X/+9POXfc8Owzz7F8+TK8EzSAiCJGOtK/SetH2EoEGYlEIvNEL45pL5rFQEDxeJxJGHXCxeEGQ/dvxfQtQUNAcTQRcklwSUYuBhWLcYF0dJzRPXtovPMWjZ0/Id+9g7G9rzF2+HXs+CnqklMjx+oYleICF3e/ysXdr3B05/d5+cU/5+jhYyzfsIlVm+4il4BmljENVJYsZeOWbezZe4BDB4+w+b6tZH3LQExZNCMoPhiCVAm2TiEZQVO88yQCiSit/JmRSGQWLIjjK5iyfnkywpMfuZd1Qyv4zrde58CeUb794g4OHdzPJz75OIODVfAtx61HNJQpzcrct5dZf1uFJ578IO+8+Rav/2gve98a5sWvvMxdt9/BEx9+EGvajmcvBIwtH7EVRYbRGmlqePSxLaxbs4pvfX0Hh3bBju+fYtebe3ni8YcYWru2tZorhABGTJdHdK05qAFSVC0iHiNNkIIVy5fz3DPPcvLoOV786qsceGeY7//Vbtav2cy2B7ZTq/XhvUdEypiuVpqa9ipymTXivXEDikTmm8XqfM1lXnNps5hZTNfjKMAa/Og4Z/btI12xhKUbhkizFBMCNS3D34JxoA4jgSLkZTiZOsQ7Ug1k6rEux4ornWZVCI4qObXiIml+msFkhIq7hBsd5vTp80h9KdmyZRSJ0LQwAqzbfC9pdYB3/+5Nju7ew/K+JQwO3Y5g0SKQiIUghFZBJaMJBotRwYQyN3AkEpkdIgu0GyqxAr5JrSbkjSbfe+nHHNh7AooajVHD9156nRPHTqKhIGnlOuwZCRjrCVqQJJZQGI4cOsXXv/ptRi9CylJ27TzMa6+8zpLqIEbtLDJGgPM5YsEkFiM1fJEyuHSIv335DfbvOo51/QyfNXzjSz/k+MGLZGmdIvcYk5BlWStNWtsiaUe6MQ/iUdqOa5nHUUJGQh+njlzmO9/8EW6kRp9ZybtvHeWlb75C8JY0qaKUDrX3xZWCGGX/pqzuRmcmiUgkslAsJmeuG4t9fjeH0mYGPH0Ejv74hxTFKFse2oZWKoAhcxZDIAlNVjQLqo0mtSxjWJVm/zKa9eWMZSvIs7WEbD0hWUeeLKeZDNCQDK9CUwMhyXAmpQiWJil+YJAgSZnfPbXkBkKlzto7P0AxOsr46WNcOHoQPz7Muts3o7aCAdQFLJAag3iPoK1qcqbM06CzubNFIpE2C5LOTNVjLeRN2PfuaQ7uv0TeEECwJuXC2ZxdO0/RGPYYDEq5mtkbjkADHwyZXcWZk4F9+04wfLGBCVW8UzSMcfLYKXa8cpJaZSValkmbEVWh8GASBWngvaK+zp63j3Bg3368L6hWEoJXxoebvLvrKJfOj5IkGcZYNAjeQ5KkV8sKtwwuEsA0W9XWEhCPYBDtZ3w0sGf3Xk6dvEjVDOILJbiCd/ce4NTpMzTGilZeR8GIINJ2rKXcVIcpjWLPK9uRyHsT1WvTmfViN3rRcBN1ncylzXRM1d9UxyfSq26uTNV/CN3STc4dFSAxrPzgo6xeu5F93/sWRQYPbH2Ag++8TWM0Z9P2j9I3UOHNl/+SSmhS9K9g6GPPcTmz1AbqrNxyFys33cvQPfczuGkzMtDPuTPnUBV8dRn3P/+PODdyid07duA1I/StZMO27Wx74nkaFy6w77W/5tLpE2UO3v4VbH3+Z6Ao+OlffQvrRrnnwQdophWO7HqTzOUEY3Eoqzffz7o772Hf228wcmwPhEBipIwXnu3CUSTyPqJbOrMFW/GF1uMftWQygPgaCQmJCJmpYEMfIbcICT4UkyY2PQYRS2ISimZOrdJHaGSYMIDRlMwmpKaP8ZGMpUtX4IreY3xFIE0s6j1WDASPNWCoYLUfoxXyZgODx1IHX8OYMqNDkXtUy7rQIXQWlGiV0lEDmpQrtOJbxsoCSgiBsRFHxfbhvYOgGEmppjXyMSWVClYswXtUtOXitt+zq7V7IpHIe5fZ2cHIrNByUaJSqVCEcdI059TON7H1AVbdfR/O1Mi1tTmZnIsVy3h/hdPiqN8+xEPPPs3Dz36Eh59/im3PfJiH//7TrNt2N0lFUJ9DlpA3lSUbt/Czv/Ef+Se/9Tv86q//B37mU59iwOQc/skPuLR/L3WTYTWh3j9I/4p1nD+yF9s4T/PSCU6e2MfAhg30D61jPAS8QBCP17xV+dSV5Y4NFMbgRaLTG4nMgQVyfC1gMEYALR/Gi8EoBOcxAsYoSEAmxcNOj4hppQwTrHWgY2X/mmDElGENISvDFEIDMW5WtkEIWElQn5DYsnqOkYBoBaNVLFn5KYLWMkLLqbW23KBX3rs6HW3p2IBW1ni/GqJQOsEigcSmrU2BYGwrPZnPSKiU2SAQjDWtm2Pnq12SsjfnPhKJTCY6nXNnpvdupvM3CqsJqgYvioaCy8eOc+TQftbfex+VJSvxJsMBhpTaWMLAWMq6YYvZcYAv/+Z/4oV/+e/48q//W774W7/JZ//1r/HqH/xvKpdOUTce48ZJcDhvuFQYzgw3OH/uPAfefoPvfOnT7Hzpz0jHh7E+YE3KXVvuwyR1dr7xE7KKwVGw+8C7SP8AyzfcTkhTCvWIoZWzXQmtjBCKJ4gSJt3Y2vtZ4r0gEpmO2Xmdc2Siqzbxz3X2XO1BrlQta1eqocOpLKujzZ5us5RWv53He72iqa5+4tfXft/5LxKJ3HwWixM3HyyWa7kR8xAEi1AwjiRCWlSQkTO8+9OXWLV2GUPrNyPGQpogwSJJwljaIMg4tmhgcseS4Ei5SDBnycwIA0FJxKLBkGqCMU3k5FG+8/v/i2/+n//BNz733/jx5z7D6R/9AOsuYG2OA1xlCVseeYI0MXz8l36Zn//t/8wv/pffZesnfpGksoLVdz1IntbIjMM3R0kToeEb+CSA9QxmOX15TpIbpAikRvBFs3SIjSeIR6/sIRFMkOgLRyIdtuaGOL6RSCQy38yXwzRf/XSyEH1G5o4AplX10xlBqZAGx7HdOxkbGea2hx4mGMGrgK1gQgAKEgosjsSacr3VeJzJCTgSFVQsHgtiCOTUtSBpjGLyy1h3iXqzQdXlGByIpalCtmYdS4bWc+b4MQ7vO8ShQ0c4cuQYR/YeYvTMaVYNrae+ai2qSi2roEFJk6wcS5Xm+CgKSFZBk4SmC5hKhhPwGggCQbSs7NkKi4u/jZHIVaLjG4lEIj3QqzPbq+5WYqZrnun8gqOQhLKsexAhN2UhpObZYY7sP8T6TXewfNUKUjXYPFAJikXpF0OiAYzgxBCSCl6ycvOaZnjKWFuVgIhHrmTvKStqelO+VMv882oqrL5tI8HCWz/6IS9/5c/44Rf+hFf+6HP8+IXPcXDH91jWX2XNhttoqkVttSx4pGV++WDrNJI6jazOJUloVDLGrSFUqgRjCWLKYAeBIIIzijNlXqFI5P1Mpw2Kjm8kErlluekOV4+IyLzPtZf+5ktzvSz4GAo2WJJQ7okIohgVMk05vGcvzjVYvqROUhSIWgovgMWL0EwTzMoVJEMbSNbeQbbmDipr78SsXE/IqqhRVDyJFgg5Kh6VgALeCEEEkQTVjLRSY/3GDQQ3zvCpI5izZxi4dJ7ll89TPX+C/Og7UIyzauNmfHUpoyEjSAXvUvoG1lJZeTt21SaS9XeRrttAZdVqaqtWMVo4ChVEbCtbkAERglG8UYKJ0Q6RSJsFSWcWiUQiC0E7nVkvjlIvGm6irpO5tJmOmfqb6fzNZr7TmaFllO/GbdtYuXo1h199jeLCKbx4xpqOdUO3sXrVIDpynp2vvkohFlmxmtsee5K+leu47a57ufuh7Wx6+BE2bX+MLdufYNM9Wzl9ZD/NyxfJ6n089MTjMDbOT1/5PkkoMOqphHLlNYhFsPStWMGjTz2B+pwf/81fUx0fpu6a2Hwcow41wtB920n7V3D43X2MNQJr7tzKbfc+yPJVa7nn3vv44PZHuXP7h9m87SG23X83G4bWcnDfAcQ5jFeSUOb4bV02ZYTz5B0qkcitTmc6s057Eh3fSCTynmG+Hd9eNG161faq62Quba6HGz3ebJl3x7fl8rnEMHLmDBf27MI3L1AYT54XhNFxxs6f5dSBPZze9zapGyWkiivGOH90H6Nnj3P5zBHOnznGxTMnuHzmJBePH+X8wb0wNoaKwRM4tX8/pw8eIAmORANpABWDI+DFk9USssRwYv+7HNnzNtY1SCRgLFhrKJpNnHOMnD/JyNFdSOMyqTqal84yfPwAjbMHuXz6MOfPHufyhZNcOnWSC6dOcezgIVIXqGCwCkZpZRgqr729z3s+39FIZLHTdnwn2hJZvWYoPgGJRCLvCUJwZGk68fAkJhq6qZhvHTNoVbub2842U2nmk4lznGnMmc63mUnX6/nClaXj5wsFAkJuEkQtdefwtkEjDUhIyYoqThKc9VTDGEuKBqOpYSTNCFhELValTCcmAEIalNQHkiA0rWU0tSReyEIgCR5DIAuKF6WZeJxtla3XMt0nlBvQympskCiYYMitgORkoYFVxVHFSbW1alyGUuSJUkgKWrkyZhY8WfAY1fJ6DWUuYDqLHkUi7w9UtazD0MWORMc3Eom8Z1jsju9Muqkcv8Xu+DJPml7Pz7fjG4AgYIKQBrDqaKae3CqJN1SLBMXSTBSrgZoTClM6tAGDqEVapYK9KCplGaEsFBhVCqsUpkwdZpXWqmvp0KoEcusprCcJYEOZacEbUxaiMIKokHqwAYIYgglYLSjrs1kCGahtZZYIOOPwRkh9QuIFiycJAastx1cEFaHMZFb2Epd7I+8nouMbiURuCebT8e1F06ZX7Uy6bo7fxDbdNPPNXMa8URpVXRDHVzFYDVgNBALOlivBVpXUl5GwTixBBBNMy1Es3ydRg1GLqBAklPlyjccGgVaaM6WsqllqBautDAvGl8UnJGA0IK2MD2XNTUsQ20o51qrJqRZUUBNQ45DQOhYyFFNunLMFUDrtZVhDWdyizCrRnrdB1ZRVPmVyuYtI5FZGVUns5DAHYlaHSCRyq9HN0E2kF02bXrW96m5l5uM9mI8+JtLe3qUYnBGaiUHVkoQEUUOeQG5Ld1ExjGWBpnUEk4PkYJrl/yVHpImacbwdxxuHFyUQEHGoKQjGtXLp0kolZjBqyFyGaIprlRsWFSoe+pxScx6rBSoFVsv4YFGl7R4nFKTkZOqpBE/VO6q+IAseSyhDMEzAWaUwtF5lzuJgyrlM/3EjEnn/YGh5xqrzvZkgEolE5oa0NiS0bRNACAENE5W3HovVDi/WefVCuZpaZjnwUoYZCNIqalE6ol4MKuXqqDMBbz1eHN64VuEKh7cFzhYEcQQp06LRCn2A1gBQlhiWcg04SPlLKyrlii2Wct23dIhNAKsBQ0BaZ0ARBRNKd73tAIs4REpd+7gSyjmgqJbhDUHaivJf9HojkavIqtVr9b1s0CKRyK1P+4N5CJ4sTSaevoZe7Fkvmja9anvRdXvM361dN918MnHMXsfrRTeTZqbzAHnh5zXUoZPSXbya5aCcTXmk/X25PexqWGz5//Z31yrKIIWWY91SdPYF0Lm3rPSN9UrKsVJXxuBe0bfGunYenYLWFypXptXWtgQdX091JBK5dZkx1OGaFZUejFIkEoksJKpKCOVKWdsmiciMzlA3I3c9zHd/i5UbeZ03cqxuyIScttJyNDu/L2u8lUfLM51zvlZRHrnay8S+pPOLlp8qV78oHWG5tv3VkSaMP7HDq9JrRu8YrrN1JBLpdHxvtjGKRCKRiUgr3IG2nZqHZ7aLydYtprn0Qi/z7UUTiUQiNwvTNlLR+Y1EIouJTqdXWmEO0634zrf9mk1/s9HeCBbbfCKRSGSxcI3jSzSYkUhkEdFplxJrr9s+XW/7W5le35teddMxUx8znY9EIpHpmM6GyOrVaxQpV1FCKHMnTtcgEolEFpp2jK+1tnR+NWDt9LZpunNtetG0WQht5x6KmdrMdb9Fu9/p2k819nRtOulFdz0a5wMgV+5JxKeSkUhkGtr2wfvyyaAIrfL2E5UgQ0ND6lxA4epNJhKJRG4ybSMmQJLYrgasTa8O0Xzr2vSqv5GOL9P0MdXYU+knMl+6qc57H8pyDh0fgKQj9CUSiUQ6ad8vVBVr7ZQZgEQEWbdunQIEVbzzIAZatb4jkUjkRnLFHRMBSgNmuvtoV5jKieukF00nvep71bVpO269tJurk3c9ji/TtJlIL7q5alSVwnmsTfDeA91Lj0YikQitiAVaC7ghBKwRTJebxzWObxu98p9rjkyii63qqu2u62SyYOY2XEe7TqZvMPv+bgSLclLvYSb/Ydw0rs1O1IXpz05kat9myhNX6N6268Er9NqmF113zWSmc+A66VXXpld9r7o27zfHlx50U50PQfFBMcZcualNN+9IJPL+5WpYVFkA3NrJtqJtPyZ/hO5ug+bMXOxUb20mi0R6bdtGuvbTZvb93Qjac57qFZn8nkz3uvm0f8+mns3s59r997a3frq3nZ7ubSYf7K5bXCwW50pa1etmw2z1i4Gp5myMkFiDcwX6fijZF4lErgvvHUa6O72dTFrxZZpP4N3oVVvKetO2mUubNtfTtld6vfZIpEQW3PGbyonohbm17f2aeu3/ZunazEY/Gy0dNmM27WZjZ7r12619N10n3dp0Y750vZxXbetm0k48MjWzDuqbpXwOI8zMbC4wcosz7YrJnOgsoDIrZtGslPbQoKfLay0QCJhp7Fqnzevq+NKDIWrTq45ZajuZazuus22v3IgxIu9dZnIy5oPrHWOu7WfTrhdtL5o2vWp71bGA2jY6h8wEs7Ev3fru1r6brpNubboxn7r50rAAujaz1beZa7uZWKh+I4ubmf5+58pc+51Lu17azJeGCbrJoQ4tpMfHbL1o2sxG20mvc+lGu+1c2/dC5xjdXpFbn4k/84X++c/XGHNtP5t2vWp70SwkN3v86+VmzL/XMXvVzcR89dNmtv3NVt+m17+B2dLudyH6jiwuFvpnvVD9duNGjtWN/w90HXIPDXO7PQAAAABJRU5ErkJggg==)"
      ],
      "metadata": {
        "id": "TmGLbUeuOqrb"
      }
    },
    {
      "cell_type": "code",
      "source": [
        "rows = 5\n",
        "for i in range(1, rows + 1):\n",
        "  print(\"* \" * i)\n",
        "\n",
        "# rows = int(input(\"Enter a number: \"))\n",
        "# for i in range(1, rows + 1):\n",
        "#   print(\"* \" * i)"
      ],
      "metadata": {
        "colab": {
          "base_uri": "https://localhost:8080/"
        },
        "id": "fs4T20edO7RO",
        "outputId": "8c801322-6a99-4c41-fa7a-70d3ae972a9c"
      },
      "execution_count": 8,
      "outputs": [
        {
          "output_type": "stream",
          "name": "stdout",
          "text": [
            "* \n",
            "* * \n",
            "* * * \n",
            "* * * * \n",
            "* * * * * \n"
          ]
        }
      ]
    },
    {
      "cell_type": "code",
      "source": [
        "word = 'NEPAL'\n",
        "for i in range(len(word)):\n",
        "  print(word[len(word) - 1 - i:])"
      ],
      "metadata": {
        "colab": {
          "base_uri": "https://localhost:8080/"
        },
        "id": "-oXlU_PJQXta",
        "outputId": "4fe36c6b-74a1-4726-b49e-2b7525903a49"
      },
      "execution_count": 9,
      "outputs": [
        {
          "output_type": "stream",
          "name": "stdout",
          "text": [
            "L\n",
            "AL\n",
            "PAL\n",
            "EPAL\n",
            "NEPAL\n"
          ]
        }
      ]
    }
  ]
}