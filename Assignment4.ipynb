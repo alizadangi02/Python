{
  "nbformat": 4,
  "nbformat_minor": 0,
  "metadata": {
    "colab": {
      "provenance": [],
      "authorship_tag": "ABX9TyOTzECD8v8mN6yXEUC+FWdX",
      "include_colab_link": true
    },
    "kernelspec": {
      "name": "python3",
      "display_name": "Python 3"
    },
    "language_info": {
      "name": "python"
    }
  },
  "cells": [
    {
      "cell_type": "markdown",
      "metadata": {
        "id": "view-in-github",
        "colab_type": "text"
      },
      "source": [
        "<a href=\"https://colab.research.google.com/github/alizadangi02/Python/blob/main/Assignment4.ipynb\" target=\"_parent\"><img src=\"https://colab.research.google.com/assets/colab-badge.svg\" alt=\"Open In Colab\"/></a>"
      ]
    },
    {
      "cell_type": "markdown",
      "source": [
        "Write a Python function called greet_user that takes a user’s name as input and prints:\n",
        "\n",
        "Hello, <name>! Welcome to Python programming.\n",
        "\n",
        "Call the function at least twice with different names."
      ],
      "metadata": {
        "id": "NW9KfuE7nDui"
      }
    },
    {
      "cell_type": "code",
      "execution_count": 1,
      "metadata": {
        "id": "amPwyFb9my1v",
        "colab": {
          "base_uri": "https://localhost:8080/"
        },
        "outputId": "9f3b0eb8-6a5c-462e-805d-8fb56f279d2d"
      },
      "outputs": [
        {
          "output_type": "stream",
          "name": "stdout",
          "text": [
            "Hello, Aliza! \n",
            "Hello, lizbiz! \n"
          ]
        }
      ],
      "source": [
        "def greet_user(name):\n",
        "    print(f\"Hello, {name}! \")\n",
        "\n",
        "greet_user(\"Aliza\")\n",
        "greet_user(\"lizbiz\")\n"
      ]
    },
    {
      "cell_type": "markdown",
      "source": [
        "Create a function called calculate_area that takes two parameters: length and width.\n",
        "\n",
        "Return the area of a rectangle.\n",
        "\n",
        "Call the function with at least two sets of values and print the results."
      ],
      "metadata": {
        "id": "XQA9jQ8Xn-Nz"
      }
    },
    {
      "cell_type": "code",
      "source": [
        "def calculate_area(length, width):\n",
        "    return length * width\n",
        "\n",
        "area1 = calculate_area(10, 5)\n",
        "area2 = calculate_area(7, 3)\n",
        "\n",
        "print(f\"The area of the first rectangle is: {area1}\")\n",
        "print(f\"The area of the second rectangle is: {area2}\")\n"
      ],
      "metadata": {
        "colab": {
          "base_uri": "https://localhost:8080/"
        },
        "id": "UQpsmHyLn_gK",
        "outputId": "8ac56b84-9087-419b-aad7-962ec8350f46"
      },
      "execution_count": 2,
      "outputs": [
        {
          "output_type": "stream",
          "name": "stdout",
          "text": [
            "The area of the first rectangle is: 50\n",
            "The area of the second rectangle is: 21\n"
          ]
        }
      ]
    },
    {
      "cell_type": "markdown",
      "source": [
        "Write a function called math_operations that accepts two numbers and returns their sum, difference, and product.\n",
        "\n",
        "Call the function and unpack the results into separate variables, then print them."
      ],
      "metadata": {
        "id": "XT0nvdZtoJjS"
      }
    },
    {
      "cell_type": "code",
      "source": [
        "def math_operations(a, b):\n",
        "    sum_result = a + b\n",
        "    diff_result = a - b\n",
        "    product_result = a * b\n",
        "    return sum_result, diff_result, product_result\n",
        "\n",
        "\n",
        "sum_val, diff_val, product_val = math_operations(8, 3)\n",
        "\n",
        "print(f\"Sum: {sum_val}\")\n",
        "print(f\"Difference: {diff_val}\")\n",
        "print(f\"Product: {product_val}\")\n"
      ],
      "metadata": {
        "colab": {
          "base_uri": "https://localhost:8080/"
        },
        "id": "r1XNve_woKTC",
        "outputId": "033c83c0-6882-4a01-a3b6-8fc6f315370e"
      },
      "execution_count": 3,
      "outputs": [
        {
          "output_type": "stream",
          "name": "stdout",
          "text": [
            "Sum: 11\n",
            "Difference: 5\n",
            "Product: 24\n"
          ]
        }
      ]
    },
    {
      "cell_type": "markdown",
      "source": [
        "Create a function introduce with parameters name, age, and country (default value \"Nepal\").\n",
        "\n",
        "Call the function in three different ways:\n",
        "\n",
        "Passing all arguments in order.\n",
        "\n",
        "Using only the default country.\n",
        "\n",
        "Using keyword arguments to change the order of passing values."
      ],
      "metadata": {
        "id": "BYhRUdupoWGC"
      }
    },
    {
      "cell_type": "code",
      "source": [
        "def introduce(name, age, country=\"Nepal\"):\n",
        "    print(f\"My name is {name}, I am {age} years old, and I am from {country}.\")\n",
        "\n",
        "\n",
        "introduce(\"Aliza\", 20, \"Nepal\")\n",
        "\n",
        "introduce(\"lizbiz\", 25)\n",
        "\n",
        "introduce(age=30, name=\"Riya\", country=\"USA\")\n"
      ],
      "metadata": {
        "colab": {
          "base_uri": "https://localhost:8080/"
        },
        "id": "osKge6ploV3K",
        "outputId": "d23c3d8e-cdb9-46f2-a717-ddd2cb122d95"
      },
      "execution_count": 4,
      "outputs": [
        {
          "output_type": "stream",
          "name": "stdout",
          "text": [
            "My name is Aliza, I am 20 years old, and I am from Nepal.\n",
            "My name is lizbiz, I am 25 years old, and I am from Nepal.\n",
            "My name is Riya, I am 30 years old, and I am from USA.\n"
          ]
        }
      ]
    },
    {
      "cell_type": "markdown",
      "source": [
        "Create a function that takes a number and returns its square.\n",
        "\n",
        "Create another lambda that adds 10 to a given number.\n",
        "\n",
        "Demonstrate both with example values."
      ],
      "metadata": {
        "id": "ncWNtvz0ooJd"
      }
    },
    {
      "cell_type": "code",
      "source": [
        "def square(num):\n",
        "    return num * num\n",
        "\n",
        "add_ten = lambda x: x + 10\n",
        "\n",
        "print(\"Square of 6:\", square(6))\n",
        "print(\"Square of 9:\", square(9))\n",
        "\n",
        "print(\"6 + 10 =\", add_ten(6))\n",
        "print(\"15 + 10 =\", add_ten(15))\n"
      ],
      "metadata": {
        "colab": {
          "base_uri": "https://localhost:8080/"
        },
        "id": "zYUn5MnSoq_a",
        "outputId": "038d2093-8fc2-4601-9751-ffa266062678"
      },
      "execution_count": 6,
      "outputs": [
        {
          "output_type": "stream",
          "name": "stdout",
          "text": [
            "Square of 6: 36\n",
            "Square of 9: 81\n",
            "6 + 10 = 16\n",
            "15 + 10 = 25\n"
          ]
        }
      ]
    },
    {
      "cell_type": "markdown",
      "source": [
        "6. Nested Functions & Closures\n",
        "\n",
        "Write a function outer_function that takes a number as input.\n",
        "\n",
        "Inside it, define an inner_function that adds 5 to that number and returns the result.\n",
        "\n",
        "The outer_function should call the inner function and print the output.\n",
        "\n",
        "Call the outer function with at least two values."
      ],
      "metadata": {
        "id": "DmED2OEmo2OK"
      }
    },
    {
      "cell_type": "code",
      "source": [
        "def outer_function(num):\n",
        "    def inner_function(x):\n",
        "        return x + 5\n",
        "\n",
        "    result = inner_function(num)\n",
        "    print(f\"Result after adding 5 to {num} is: {result}\")\n",
        "\n",
        "outer_function(10)\n",
        "outer_function(25)\n"
      ],
      "metadata": {
        "colab": {
          "base_uri": "https://localhost:8080/"
        },
        "id": "MSQSdpVeo3GL",
        "outputId": "b6dabdde-a333-42a0-f9b9-582662862c5b"
      },
      "execution_count": 7,
      "outputs": [
        {
          "output_type": "stream",
          "name": "stdout",
          "text": [
            "Result after adding 5 to 10 is: 15\n",
            "Result after adding 5 to 25 is: 30\n"
          ]
        }
      ]
    },
    {
      "cell_type": "markdown",
      "source": [
        "7. Scope in Python (Local & Global)\n",
        "\n",
        "Create a global variable counter with an initial value of 0.\n",
        "\n",
        "Write a function increment_counter that:\n",
        "\n",
        "Increases counter by 1.\n",
        "\n",
        "Prints the value of counter each time it’s called.\n",
        " Call the function three times and observe the output."
      ],
      "metadata": {
        "id": "RkOAFZMYo5n6"
      }
    },
    {
      "cell_type": "code",
      "source": [
        "counter = 0\n",
        "\n",
        "def increment_counter():\n",
        "    global counter\n",
        "    counter += 1\n",
        "    print(f\"Counter value: {counter}\")\n",
        "\n",
        "increment_counter()\n",
        "increment_counter()\n",
        "increment_counter()\n"
      ],
      "metadata": {
        "colab": {
          "base_uri": "https://localhost:8080/"
        },
        "id": "LwZ5Vc75o9SS",
        "outputId": "1f98949a-fd36-4d72-b02a-bc6be27b845c"
      },
      "execution_count": 10,
      "outputs": [
        {
          "output_type": "stream",
          "name": "stdout",
          "text": [
            "Counter value: 1\n",
            "Counter value: 2\n",
            "Counter value: 3\n"
          ]
        }
      ]
    },
    {
      "cell_type": "markdown",
      "source": [
        "8. Recursion\n",
        "\n",
        "Write a recursive Python function sum_digits(n) that returns the sum of digits of a positive integer n.\n",
        "Input: 1234  \n",
        "Output: 10  \n",
        "\n",
        "Here, the digits of input are summed: 1 + 2 + 3 + 4 = 10"
      ],
      "metadata": {
        "id": "lJkSCn0ZpCP7"
      }
    },
    {
      "cell_type": "code",
      "source": [
        "def sum_digits(n):\n",
        "    if n < 10:\n",
        "        return n\n",
        "    else:\n",
        "        return n % 10 + sum_digits(n // 10)\n",
        "\n",
        "print(\"Sum of digits of 1234:\", sum_digits(1234))\n",
        "print(\"Sum of digits of 987:\", sum_digits(987))\n"
      ],
      "metadata": {
        "colab": {
          "base_uri": "https://localhost:8080/"
        },
        "id": "yRmdJEO5pC5a",
        "outputId": "8518245b-44e0-4f29-82d1-479dda11b28f"
      },
      "execution_count": 11,
      "outputs": [
        {
          "output_type": "stream",
          "name": "stdout",
          "text": [
            "Sum of digits of 1234: 10\n",
            "Sum of digits of 987: 24\n"
          ]
        }
      ]
    }
  ]
}