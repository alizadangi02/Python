{
  "nbformat": 4,
  "nbformat_minor": 0,
  "metadata": {
    "colab": {
      "provenance": [],
      "authorship_tag": "ABX9TyOYEqnv+9ybWprg+PLoX9uc",
      "include_colab_link": true
    },
    "kernelspec": {
      "name": "python3",
      "display_name": "Python 3"
    },
    "language_info": {
      "name": "python"
    }
  },
  "cells": [
    {
      "cell_type": "markdown",
      "metadata": {
        "id": "view-in-github",
        "colab_type": "text"
      },
      "source": [
        "<a href=\"https://colab.research.google.com/github/alizadangi02/Python/blob/main/Assignment1.ipynb\" target=\"_parent\"><img src=\"https://colab.research.google.com/assets/colab-badge.svg\" alt=\"Open In Colab\"/></a>"
      ]
    },
    {
      "cell_type": "markdown",
      "source": [
        "**ASSIGNMENTS**"
      ],
      "metadata": {
        "id": "oY13UBXojIfJ"
      }
    },
    {
      "cell_type": "markdown",
      "source": [
        "1. Write an algorithm to make an omlette."
      ],
      "metadata": {
        "id": "GQKx7hWijO-A"
      }
    },
    {
      "cell_type": "markdown",
      "source": [
        "Ans:\n",
        "\n",
        "Step 1: Bring an egg from the refrigerator.\n",
        "\n",
        "Step 2: Break the eggshell and gently pour the egg into a small bowl.\n",
        "\n",
        "Step 3: Add a bit of salt and pepper according to your taste.\n",
        "\n",
        "Step 4: Take a spoon and stir the egg's white and yolk gently making it into a mixture.\n",
        "\n",
        "Step 5: After that, take a pan and put it in gas stove.\n",
        "\n",
        "Step 6: Light the gas stove.\n",
        "\n",
        "Step 7: After heating the pan, pour 5-6 drops of oil into the pan.\n",
        "\n",
        "Step 8: After a few minutes, the oil is heated for an omlette.\n",
        "\n",
        "Step 9: Now, in low flame, pour the egg mixture into the pan and after few seconds, flip it to the other side.\n",
        "\n",
        "Step 10: Turn off the gas stove.\n",
        "\n",
        "Step 11: Your omlette is ready. Serve into a plate and enjoy your omlette."
      ],
      "metadata": {
        "id": "FuvdDjuNjf6s"
      }
    },
    {
      "cell_type": "markdown",
      "source": [
        "2. Ask the user for their name and age then print a greeting using an f-string."
      ],
      "metadata": {
        "id": "HDk8HjzClh7j"
      }
    },
    {
      "cell_type": "code",
      "execution_count": null,
      "metadata": {
        "colab": {
          "base_uri": "https://localhost:8080/"
        },
        "id": "W4WWyLSIjG75",
        "outputId": "7e00abb3-f1e4-486e-d408-eaf68127ee33"
      },
      "outputs": [
        {
          "output_type": "stream",
          "name": "stdout",
          "text": [
            "Enter your name: Aliza\n",
            "Enter your age:21\n",
            "Namaste, Your name is Aliza and you are 21 years old.\n"
          ]
        }
      ],
      "source": [
        "name = input(\"Enter your name: \")\n",
        "age = int(input(\"Enter your age:\"))\n",
        "print(f\"Namaste, Your name is {name} and you are {age} years old.\")"
      ]
    },
    {
      "cell_type": "markdown",
      "source": [
        "3. Take two numbers as input, cast them and print their sum, product and quotient."
      ],
      "metadata": {
        "id": "sGWX3olPmZGA"
      }
    },
    {
      "cell_type": "code",
      "source": [
        "a = int(input(\"Enter first number: \"))\n",
        "b = int(input(\"Enter second number: \"))\n",
        "print(\"Sum of two numbers is:\",a + b)\n",
        "print(\"Product of two numbers is:\",a * b)\n",
        "print(\"Quotient of two numbers is:\",a // b)"
      ],
      "metadata": {
        "colab": {
          "base_uri": "https://localhost:8080/"
        },
        "id": "o8Q_-99qmjhk",
        "outputId": "36280751-f72b-4d89-d48e-6ec315d861f6"
      },
      "execution_count": null,
      "outputs": [
        {
          "output_type": "stream",
          "name": "stdout",
          "text": [
            "Enter first number: 5\n",
            "Enter second number: 10\n",
            "Sum of two numbers is: 15\n",
            "Product of two numbers is: 50\n",
            "Quotient of two numbers is: 0\n"
          ]
        }
      ]
    },
    {
      "cell_type": "markdown",
      "source": [
        "4. Try formatting output with escape sequences like \\n and \\t.\n"
      ],
      "metadata": {
        "id": "2MqMzGFdnrCT"
      }
    },
    {
      "cell_type": "code",
      "source": [
        "print(\"Name:\\tAliza\\nAge: 21\\nHobby:Reading\\nAll\\tis\\tfun!\")"
      ],
      "metadata": {
        "id": "omvw3rtTnqbD",
        "colab": {
          "base_uri": "https://localhost:8080/"
        },
        "outputId": "b5304a62-08b7-4d18-84c4-dc6883e3870c"
      },
      "execution_count": null,
      "outputs": [
        {
          "output_type": "stream",
          "name": "stdout",
          "text": [
            "Name:\tAliza\n",
            "Age: 21\n",
            "Hobby:Reading\n",
            "All\tis\tfun!\n"
          ]
        }
      ]
    },
    {
      "cell_type": "markdown",
      "source": [
        "5. Write a Python program to check if a person is eligible to vote. For example: If a person is at or over 18 years of\n",
        "age, he/she is eligible to vote"
      ],
      "metadata": {
        "id": "HCDI-c1jnOG6"
      }
    },
    {
      "cell_type": "code",
      "source": [
        "age = int(input(\"Enter your age: \"))\n",
        "if age >= 18:\n",
        "  print(\"You are eligible to vote.\")\n",
        "else:\n",
        "  print(\"You are not eligible to vote.\")"
      ],
      "metadata": {
        "colab": {
          "base_uri": "https://localhost:8080/"
        },
        "id": "BXEa2XlenTWk",
        "outputId": "ab127e8c-4708-45a3-930e-734f0eba6b84"
      },
      "execution_count": null,
      "outputs": [
        {
          "output_type": "stream",
          "name": "stdout",
          "text": [
            "Enter your age: 21\n",
            "You are eligible to vote.\n"
          ]
        }
      ]
    },
    {
      "cell_type": "markdown",
      "source": [
        " 6. Search whether there are other ways of formatting a string."
      ],
      "metadata": {
        "id": "OzJJixjQnwa5"
      }
    },
    {
      "cell_type": "markdown",
      "source": [
        "Ans: There are three ways to format a string."
      ],
      "metadata": {
        "id": "byMYdkLEpJfs"
      }
    },
    {
      "cell_type": "code",
      "source": [
        "# 1. format() method: directly giving values.\n",
        "\n",
        "print( \"Hello everyone, I am {} and i was born on {}\".format('Aliza', 2004))\n"
      ],
      "metadata": {
        "colab": {
          "base_uri": "https://localhost:8080/"
        },
        "id": "KYvnOoCEpbdt",
        "outputId": "e37fd3ad-1565-4100-ba8a-459657347cc6"
      },
      "execution_count": null,
      "outputs": [
        {
          "output_type": "stream",
          "name": "stdout",
          "text": [
            "Hello everyone, I am Aliza and i was born on 2004\n"
          ]
        }
      ]
    },
    {
      "cell_type": "code",
      "source": [
        "# 2. f-strings: assigning values through variables.\n",
        "\n",
        "name = 'aliza'\n",
        "age = 21\n",
        "hobby = 'sleeping'\n",
        "print(f\"Hello, My name is {name} and I'm {age} years old. My hobby is {hobby}.\")"
      ],
      "metadata": {
        "colab": {
          "base_uri": "https://localhost:8080/"
        },
        "id": "YzAzPkHBqQx5",
        "outputId": "6a01a96d-d08c-4dda-931e-991d4988a438"
      },
      "execution_count": null,
      "outputs": [
        {
          "output_type": "stream",
          "name": "stdout",
          "text": [
            "Hello, My name is aliza and I'm 21 years old. My hobby is sleeping.\n"
          ]
        }
      ]
    },
    {
      "cell_type": "code",
      "source": [
        "# 3. escape sequence: /n as newline, \\\\ as backslash, \\t as tab and \\' as quote.\n",
        "\n",
        "print(\"Name:\\t\\'Aliza\\'\\nAge: 21\\nLife\\tisn't\\tfun!\")"
      ],
      "metadata": {
        "colab": {
          "base_uri": "https://localhost:8080/"
        },
        "id": "JglmQbJcqxSH",
        "outputId": "55d34234-bed7-4da8-80c0-ff3e760b6c7a"
      },
      "execution_count": null,
      "outputs": [
        {
          "output_type": "stream",
          "name": "stdout",
          "text": [
            "Name:\t'Aliza'\n",
            "Age: 21\n",
            "Life\tisn't\tfun!\n"
          ]
        }
      ]
    },
    {
      "cell_type": "code",
      "source": [
        "# 4. Percent(%) Formatting:\n",
        "name = \"Aliza\"\n",
        "age = 21\n",
        "print(\"My name is %s and I am %d years old.\" % (name, age))\n"
      ],
      "metadata": {
        "colab": {
          "base_uri": "https://localhost:8080/"
        },
        "id": "B7N1PoNHEHwg",
        "outputId": "7acd30e8-6d94-4d59-aa15-849ff54974c1"
      },
      "execution_count": null,
      "outputs": [
        {
          "output_type": "stream",
          "name": "stdout",
          "text": [
            "My name is Aliza and I am 21 years old.\n"
          ]
        }
      ]
    },
    {
      "cell_type": "code",
      "source": [
        "# 5. Manual Concatenation\n",
        "name = \"Aliza\"\n",
        "age = 21\n",
        "print(\"My name is \" + name + \" and I am \" + str(age) + \" years old.\")\n"
      ],
      "metadata": {
        "colab": {
          "base_uri": "https://localhost:8080/"
        },
        "id": "zFk2e1XbEeGo",
        "outputId": "9797a165-1d67-4205-ff74-de4d5a310ebf"
      },
      "execution_count": null,
      "outputs": [
        {
          "output_type": "stream",
          "name": "stdout",
          "text": [
            "My name is Aliza and I am 21 years old.\n"
          ]
        }
      ]
    }
  ]
}