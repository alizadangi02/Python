{
  "nbformat": 4,
  "nbformat_minor": 0,
  "metadata": {
    "colab": {
      "provenance": [],
      "authorship_tag": "ABX9TyPf9mBM29cCkMb2jRZg7iM+",
      "include_colab_link": true
    },
    "kernelspec": {
      "name": "python3",
      "display_name": "Python 3"
    },
    "language_info": {
      "name": "python"
    }
  },
  "cells": [
    {
      "cell_type": "markdown",
      "metadata": {
        "id": "view-in-github",
        "colab_type": "text"
      },
      "source": [
        "<a href=\"https://colab.research.google.com/github/alizadangi02/Python/blob/main/chapter1%262.ipynb\" target=\"_parent\"><img src=\"https://colab.research.google.com/assets/colab-badge.svg\" alt=\"Open In Colab\"/></a>"
      ]
    },
    {
      "cell_type": "code",
      "execution_count": null,
      "metadata": {
        "colab": {
          "base_uri": "https://localhost:8080/"
        },
        "id": "0DCEnBYXKkxF",
        "outputId": "eea4949d-2454-4feb-9b0b-5945049dacc1"
      },
      "outputs": [
        {
          "output_type": "stream",
          "name": "stdout",
          "text": [
            "Hello, world!\n"
          ]
        }
      ],
      "source": [
        "print('Hello, world!')\n"
      ]
    },
    {
      "cell_type": "code",
      "source": [
        "def add(a,b):\n",
        "  sum=a+b\n",
        "  return sum\n",
        "\n",
        "print(add(1,2))"
      ],
      "metadata": {
        "colab": {
          "base_uri": "https://localhost:8080/"
        },
        "id": "bkSALHqLLbOq",
        "outputId": "91a9c601-4b12-4078-b355-d6cb4c58bf5a"
      },
      "execution_count": null,
      "outputs": [
        {
          "output_type": "stream",
          "name": "stdout",
          "text": [
            "3\n"
          ]
        }
      ]
    },
    {
      "cell_type": "code",
      "source": [
        "my_name_gh = 20 #snake case\n",
        "myNameVar = 30 #camel case\n",
        "MyNameVar = 40 #capital case"
      ],
      "metadata": {
        "id": "_fa28ypzNgqn"
      },
      "execution_count": null,
      "outputs": []
    },
    {
      "cell_type": "markdown",
      "source": [
        "Variables"
      ],
      "metadata": {
        "id": "89t1UbiiUHKM"
      }
    },
    {
      "cell_type": "code",
      "source": [
        "sentence = \"We are studying in lab 16\"\n",
        "sentence\n",
        "\n",
        "age = 18\n",
        "age\n",
        "\n",
        "height = 157.5\n",
        "height\n",
        "\n",
        "student_status = True\n",
        "student_status\n",
        "\n",
        "my_list_fruits = ['apple', 'mango', 'banana', 78, 0.55, True]\n",
        "my_list_fruits\n",
        "\n",
        "my_dict = {\n",
        "    \"name\": \"lab-16\",\n",
        "    \"hours\": 1.5,\n",
        "    \"class\": \"python\"\n",
        "}\n",
        "my_dict\n",
        "my_dict['class']"
      ],
      "metadata": {
        "colab": {
          "base_uri": "https://localhost:8080/",
          "height": 36
        },
        "id": "pSiGI9ekOlkd",
        "outputId": "3060138f-db44-401e-b092-63a799a92afe"
      },
      "execution_count": null,
      "outputs": [
        {
          "output_type": "execute_result",
          "data": {
            "text/plain": [
              "'python'"
            ],
            "application/vnd.google.colaboratory.intrinsic+json": {
              "type": "string"
            }
          },
          "metadata": {},
          "execution_count": 16
        }
      ]
    },
    {
      "cell_type": "code",
      "source": [
        "sentence = 'this is a python programming class'\n",
        "age = 76\n",
        "population = 2033957\n",
        "type(population)"
      ],
      "metadata": {
        "colab": {
          "base_uri": "https://localhost:8080/"
        },
        "id": "yhNfmSYfVgFz",
        "outputId": "7b856acb-a45f-4e75-9177-c7a28fe46f4e"
      },
      "execution_count": null,
      "outputs": [
        {
          "output_type": "execute_result",
          "data": {
            "text/plain": [
              "int"
            ]
          },
          "metadata": {},
          "execution_count": 4
        }
      ]
    },
    {
      "cell_type": "code",
      "source": [
        "a = \"\"\"this is a multiline string\"\"\"\n",
        "a"
      ],
      "metadata": {
        "colab": {
          "base_uri": "https://localhost:8080/",
          "height": 36
        },
        "id": "0nF7z8xLWnK2",
        "outputId": "4d576783-65b2-479e-bb46-f56da22f55da"
      },
      "execution_count": null,
      "outputs": [
        {
          "output_type": "execute_result",
          "data": {
            "text/plain": [
              "'this is a multiline string'"
            ],
            "application/vnd.google.colaboratory.intrinsic+json": {
              "type": "string"
            }
          },
          "metadata": {},
          "execution_count": 5
        }
      ]
    },
    {
      "cell_type": "code",
      "source": [
        "numbers = [10, 24, 44, 55]\n",
        "type(numbers)"
      ],
      "metadata": {
        "colab": {
          "base_uri": "https://localhost:8080/"
        },
        "id": "h-IEJ2W5YVq7",
        "outputId": "dc1937f1-0248-4b30-e7e4-4e24f8faf3d0"
      },
      "execution_count": null,
      "outputs": [
        {
          "output_type": "execute_result",
          "data": {
            "text/plain": [
              "list"
            ]
          },
          "metadata": {},
          "execution_count": 6
        }
      ]
    },
    {
      "cell_type": "code",
      "source": [
        "a = ' hello world'\n",
        "print(len(a))"
      ],
      "metadata": {
        "colab": {
          "base_uri": "https://localhost:8080/"
        },
        "id": "LgvuxdMjYpts",
        "outputId": "f44971fd-17c5-42f8-a9f2-af886b3e6dc4"
      },
      "execution_count": null,
      "outputs": [
        {
          "output_type": "stream",
          "name": "stdout",
          "text": [
            "12\n"
          ]
        }
      ]
    },
    {
      "cell_type": "code",
      "source": [
        "for x in 'aliza':\n",
        "  print(x)"
      ],
      "metadata": {
        "colab": {
          "base_uri": "https://localhost:8080/"
        },
        "id": "AkbBJ4yOY7KZ",
        "outputId": "bff175ec-3dde-4a32-cbeb-3715542f3dba"
      },
      "execution_count": null,
      "outputs": [
        {
          "output_type": "stream",
          "name": "stdout",
          "text": [
            "a\n",
            "l\n",
            "i\n",
            "z\n",
            "a\n"
          ]
        }
      ]
    },
    {
      "cell_type": "code",
      "source": [
        "student = {\n",
        "    \"name\" : \"Yellow\",\n",
        "    \"age\" : 30,\n",
        "    \"address\" : \"tinkune\",\n",
        "    \"scores\":{\n",
        "        'maths': 40,\n",
        "        'english': 50\n",
        "    },\n",
        "    'hobbies':['watching movies', 'swimming']\n",
        "}\n",
        "#print(student)\n",
        "student[\"hobbies\"]"
      ],
      "metadata": {
        "colab": {
          "base_uri": "https://localhost:8080/"
        },
        "id": "GSDL7KMpZoH2",
        "outputId": "02a2cf94-361b-41d4-fc0e-375bd0ddb327"
      },
      "execution_count": null,
      "outputs": [
        {
          "output_type": "execute_result",
          "data": {
            "text/plain": [
              "['watching movies', 'swimming']"
            ]
          },
          "metadata": {},
          "execution_count": 16
        }
      ]
    },
    {
      "cell_type": "markdown",
      "source": [
        "I/O functions"
      ],
      "metadata": {
        "id": "fPkPCrl1cFWz"
      }
    },
    {
      "cell_type": "code",
      "source": [
        "a = input(\"Enter a name: \")\n",
        "print(\"Your name is\",a)\n",
        "\n",
        "b = int(input(\"Enter your age: \"))\n",
        "print(\"Your age is\", b)"
      ],
      "metadata": {
        "colab": {
          "base_uri": "https://localhost:8080/"
        },
        "id": "cwdhh2iVby14",
        "outputId": "8d202617-cb48-4a7c-eb5f-3041eac11a60"
      },
      "execution_count": null,
      "outputs": [
        {
          "output_type": "stream",
          "name": "stdout",
          "text": [
            "Enter a name: Aliza\n",
            "Your name is Aliza\n",
            "Enter your age: 21\n",
            "Your age is 21\n"
          ]
        }
      ]
    }
  ]
}