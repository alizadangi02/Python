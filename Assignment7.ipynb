{
  "nbformat": 4,
  "nbformat_minor": 0,
  "metadata": {
    "colab": {
      "provenance": [],
      "authorship_tag": "ABX9TyOtIdtrQYQOu452ew7Ty73C",
      "include_colab_link": true
    },
    "kernelspec": {
      "name": "python3",
      "display_name": "Python 3"
    },
    "language_info": {
      "name": "python"
    }
  },
  "cells": [
    {
      "cell_type": "markdown",
      "metadata": {
        "id": "view-in-github",
        "colab_type": "text"
      },
      "source": [
        "<a href=\"https://colab.research.google.com/github/alizadangi02/Python/blob/main/Assignment7.ipynb\" target=\"_parent\"><img src=\"https://colab.research.google.com/assets/colab-badge.svg\" alt=\"Open In Colab\"/></a>"
      ]
    },
    {
      "cell_type": "markdown",
      "source": [
        "##**Error Handling and Debugging**"
      ],
      "metadata": {
        "id": "uLUmpzRfGp3c"
      }
    },
    {
      "cell_type": "markdown",
      "source": [
        "1. Write a Python program that asks the user to input a number and prints its reciprocal. Use a try-except block to handle the case where the user inputs zero or a non-numeric value. Print appropriate error messages.\n"
      ],
      "metadata": {
        "id": "CYmb576nGtWU"
      }
    },
    {
      "cell_type": "code",
      "execution_count": 1,
      "metadata": {
        "colab": {
          "base_uri": "https://localhost:8080/"
        },
        "id": "g7BJ-RmfGnHu",
        "outputId": "457b0cf5-1d1f-496e-c50e-04c931d4783a"
      },
      "outputs": [
        {
          "output_type": "stream",
          "name": "stdout",
          "text": [
            "Enter a number: 8\n",
            "Reciprocal: 0.125\n"
          ]
        }
      ],
      "source": [
        "try:\n",
        "    num = float(input(\"Enter a number: \"))\n",
        "    print(\"Reciprocal:\", 1 / num)\n",
        "except ValueError:\n",
        "    print(\"Error: Please enter a valid number.\")\n",
        "except ZeroDivisionError:\n",
        "    print(\"Error: Cannot calculate reciprocal of zero.\")\n"
      ]
    },
    {
      "cell_type": "markdown",
      "source": [
        "2. Modify the program in question 1 to catch and handle both ValueError and ZeroDivisionError separately, giving specific feedback for each exception."
      ],
      "metadata": {
        "id": "0iqBWmQbG-Cr"
      }
    },
    {
      "cell_type": "code",
      "source": [
        "try:\n",
        "    num = float(input(\"Enter a number: \"))\n",
        "    print(\"Reciprocal:\", 1 / num)\n",
        "except ValueError:\n",
        "    print(\"Invalid input. Please enter a numeric value.\")\n",
        "except ZeroDivisionError:\n",
        "    print(\"Division by zero is not allowed. Reciprocal of zero cannot be calculated.\")\n"
      ],
      "metadata": {
        "colab": {
          "base_uri": "https://localhost:8080/"
        },
        "id": "q_M1PHD1HDf0",
        "outputId": "44490ea2-b884-4e0e-a53e-ce51417553a0"
      },
      "execution_count": 2,
      "outputs": [
        {
          "output_type": "stream",
          "name": "stdout",
          "text": [
            "Enter a number: 45\n",
            "Reciprocal: 0.022222222222222223\n"
          ]
        }
      ]
    },
    {
      "cell_type": "markdown",
      "source": [
        "3. Write a function read_file(filename) that attempts to open and read a file. Use exception handling to catch and display an error message if the file does not exist."
      ],
      "metadata": {
        "id": "tKSVqsJRHO7E"
      }
    },
    {
      "cell_type": "code",
      "source": [
        "def read_file(filename):\n",
        "    try:\n",
        "        with open(filename, \"r\") as file:\n",
        "            return file.read()\n",
        "    except FileNotFoundError:\n",
        "        print(\"Error: The file does not exist.\")\n",
        "\n",
        "read_file(\"sample.txt\")"
      ],
      "metadata": {
        "colab": {
          "base_uri": "https://localhost:8080/"
        },
        "id": "3nAi65sDHRxr",
        "outputId": "91e9b0bb-d2db-40b1-8068-8edddb984a00"
      },
      "execution_count": 5,
      "outputs": [
        {
          "output_type": "stream",
          "name": "stdout",
          "text": [
            "Error: The file does not exist.\n"
          ]
        }
      ]
    },
    {
      "cell_type": "markdown",
      "source": [
        "4. Create a custom exception class called NegativeValueError. Write a program that takes an integer input and raises this exception if the value is negative. Handle this exception gracefully in the program."
      ],
      "metadata": {
        "id": "HxpiSSlUH7p7"
      }
    },
    {
      "cell_type": "code",
      "source": [
        "class NegativeValueError(Exception):\n",
        "    pass\n",
        "\n",
        "try:\n",
        "    num = int(input(\"Enter an integer: \"))\n",
        "    if num < 0:\n",
        "        raise NegativeValueError(\"Negative values are not allowed.\")\n",
        "    print(\"You entered:\", num)\n",
        "except NegativeValueError as e:\n",
        "    print(\"Error:\", e)\n",
        "except ValueError:\n",
        "    print(\"Error: Please enter a valid integer.\")\n"
      ],
      "metadata": {
        "colab": {
          "base_uri": "https://localhost:8080/"
        },
        "id": "FBXgyJHVIB3q",
        "outputId": "2bcf7d5a-1374-4469-a0fb-97235d6cd42f"
      },
      "execution_count": 7,
      "outputs": [
        {
          "output_type": "stream",
          "name": "stdout",
          "text": [
            "Enter an integer: -5\n",
            "Error: Negative values are not allowed.\n"
          ]
        }
      ]
    },
    {
      "cell_type": "markdown",
      "source": [
        "5. Write a program that divides two numbers entered by the user. Use try-except-else-finally to handle errors, print the result if no error occurs, and print \"End of program\" no matter what."
      ],
      "metadata": {
        "id": "zq9T8aRlIJFz"
      }
    },
    {
      "cell_type": "code",
      "source": [
        "try:\n",
        "    numerator = float(input(\"Enter the numerator: \"))\n",
        "    denominator = float(input(\"Enter the denominator: \"))\n",
        "    result = numerator / denominator\n",
        "except ValueError:\n",
        "    print(\"Error: Please enter valid numbers.\")\n",
        "except ZeroDivisionError:\n",
        "    print(\"Error: Cannot divide by zero.\")\n",
        "else:\n",
        "    print(\"Result:\", result)\n",
        "finally:\n",
        "    print(\"End of program\")\n"
      ],
      "metadata": {
        "colab": {
          "base_uri": "https://localhost:8080/"
        },
        "id": "CBivwqCzIMuq",
        "outputId": "33509708-8478-4a34-d3fb-7f5931823897"
      },
      "execution_count": 8,
      "outputs": [
        {
          "output_type": "stream",
          "name": "stdout",
          "text": [
            "Enter the numerator: 20\n",
            "Enter the denominator: 30\n",
            "Result: 0.6666666666666666\n",
            "End of program\n"
          ]
        }
      ]
    },
    {
      "cell_type": "markdown",
      "source": [
        "6. Write a program that tries to convert a list of strings into integers using a loop. Use exception handling to skip over values that cannot be converted, and print all successfully converted integers."
      ],
      "metadata": {
        "id": "lZdyjMlwIS56"
      }
    },
    {
      "cell_type": "code",
      "source": [
        "strings = [\"10\", \"abc\", \"25\", \"7.5\", \"42\", \"xyz\"]\n",
        "converted_integers = []\n",
        "\n",
        "for s in strings:\n",
        "    try:\n",
        "        converted_integers.append(int(s))\n",
        "    except ValueError:\n",
        "        continue\n",
        "\n",
        "print(\"Successfully converted integers:\", converted_integers)\n"
      ],
      "metadata": {
        "colab": {
          "base_uri": "https://localhost:8080/"
        },
        "id": "ULFV5UjTIW2a",
        "outputId": "3cc77318-0108-4446-a265-140b69bd0b93"
      },
      "execution_count": 9,
      "outputs": [
        {
          "output_type": "stream",
          "name": "stdout",
          "text": [
            "Successfully converted integers: [10, 25, 42]\n"
          ]
        }
      ]
    }
  ]
}